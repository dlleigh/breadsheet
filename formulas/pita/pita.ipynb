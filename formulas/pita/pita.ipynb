{
 "cells": [
  {
   "cell_type": "markdown",
   "metadata": {},
   "source": [
    "## Pita\n",
    "\n",
    "- From https://cooking.nytimes.com/recipes/1016071-homemade-pita-bread\n"
   ]
  },
  {
   "cell_type": "code",
   "execution_count": 5,
   "metadata": {
    "hide_input": false
   },
   "outputs": [],
   "source": [
    "import sys\n",
    "sys.path.append('../..')\n",
    "from breadsheet_utils import RecipeCalculator, create_formula, format_and_display"
   ]
  },
  {
   "cell_type": "code",
   "execution_count": 6,
   "metadata": {},
   "outputs": [
    {
     "name": "stdout",
     "output_type": "stream",
     "text": [
      "30 loaves at 77 grams\n",
      "total weight: 2,310.00 grams\n"
     ]
    }
   ],
   "source": [
    "calc = RecipeCalculator(\n",
    "    num_loaves=30, \n",
    "    weight_grams=77)\n",
    "calc.print_batch_info()"
   ]
  },
  {
   "cell_type": "code",
   "execution_count": 7,
   "metadata": {},
   "outputs": [],
   "source": [
    "formula = create_formula({\n",
    "    \"ap-flour\": 90, \n",
    "    \"ww-flour\": 10,\n",
    "    \"water\": 66,\n",
    "    \"sugar\": 0.6,\n",
    "    \"salt\": 1.4,\n",
    "    \"yeast\": 1.8,\n",
    "    \"olive oil\": 7.8\n",
    "})\n",
    "title = \"Pita\"\n",
    "steps = \"\""
   ]
  },
  {
   "cell_type": "code",
   "execution_count": 8,
   "metadata": {},
   "outputs": [
    {
     "name": "stdout",
     "output_type": "stream",
     "text": [
      "Pita\n",
      "\n",
      "30 loaves at 77 grams\n",
      "overall formula total = 177.6%\n",
      "\n",
      "|           |   baker% | grams   |    oz |\n",
      "|:----------|---------:|:--------|------:|\n",
      "| ap-flour  |     90   | 1,171   | 41.29 |\n",
      "| ww-flour  |     10   | 130     |  4.59 |\n",
      "| water     |     66   | 858     | 30.28 |\n",
      "| sugar     |      0.6 | 7.80    |  0.28 |\n",
      "| salt      |      1.4 | 18      |  0.64 |\n",
      "| yeast     |      1.8 | 23      |  0.83 |\n",
      "| olive oil |      8   | 101     |  3.58 |\n"
     ]
    },
    {
     "data": {
      "text/html": [
       "<div>\n",
       "<style scoped>\n",
       "    .dataframe tbody tr th:only-of-type {\n",
       "        vertical-align: middle;\n",
       "    }\n",
       "\n",
       "    .dataframe tbody tr th {\n",
       "        vertical-align: top;\n",
       "    }\n",
       "\n",
       "    .dataframe thead th {\n",
       "        text-align: right;\n",
       "    }\n",
       "</style>\n",
       "<table border=\"1\" class=\"dataframe\">\n",
       "  <thead>\n",
       "    <tr style=\"text-align: right;\">\n",
       "      <th></th>\n",
       "      <th>baker%</th>\n",
       "      <th>grams</th>\n",
       "      <th>oz</th>\n",
       "    </tr>\n",
       "  </thead>\n",
       "  <tbody>\n",
       "    <tr>\n",
       "      <th>ap-flour</th>\n",
       "      <td>90</td>\n",
       "      <td>1,171</td>\n",
       "      <td>41.29</td>\n",
       "    </tr>\n",
       "    <tr>\n",
       "      <th>ww-flour</th>\n",
       "      <td>10</td>\n",
       "      <td>130</td>\n",
       "      <td>4.59</td>\n",
       "    </tr>\n",
       "    <tr>\n",
       "      <th>water</th>\n",
       "      <td>66</td>\n",
       "      <td>858</td>\n",
       "      <td>30.28</td>\n",
       "    </tr>\n",
       "    <tr>\n",
       "      <th>sugar</th>\n",
       "      <td>0.6</td>\n",
       "      <td>7.80</td>\n",
       "      <td>0.28</td>\n",
       "    </tr>\n",
       "    <tr>\n",
       "      <th>salt</th>\n",
       "      <td>1.4</td>\n",
       "      <td>18</td>\n",
       "      <td>0.64</td>\n",
       "    </tr>\n",
       "    <tr>\n",
       "      <th>yeast</th>\n",
       "      <td>1.8</td>\n",
       "      <td>23</td>\n",
       "      <td>0.83</td>\n",
       "    </tr>\n",
       "    <tr>\n",
       "      <th>olive oil</th>\n",
       "      <td>8</td>\n",
       "      <td>101</td>\n",
       "      <td>3.58</td>\n",
       "    </tr>\n",
       "  </tbody>\n",
       "</table>\n",
       "</div>"
      ],
      "text/plain": [
       "          baker%  grams     oz\n",
       "ap-flour      90  1,171  41.29\n",
       "ww-flour      10    130   4.59\n",
       "water         66    858  30.28\n",
       "sugar        0.6   7.80   0.28\n",
       "salt         1.4     18   0.64\n",
       "yeast        1.8     23   0.83\n",
       "olive oil      8    101   3.58"
      ]
     },
     "execution_count": 8,
     "metadata": {},
     "output_type": "execute_result"
    }
   ],
   "source": [
    "final_dough = calc.calculate_straight_dough(formula)\n",
    "format_and_display(final_dough, calc, title=title, steps=steps)"
   ]
  }
 ],
 "metadata": {
  "kernelspec": {
   "display_name": ".venv",
   "language": "python",
   "name": "python3"
  },
  "language_info": {
   "codemirror_mode": {
    "name": "ipython",
    "version": 3
   },
   "file_extension": ".py",
   "mimetype": "text/x-python",
   "name": "python",
   "nbconvert_exporter": "python",
   "pygments_lexer": "ipython3",
   "version": "3.13.3"
  }
 },
 "nbformat": 4,
 "nbformat_minor": 2
}
