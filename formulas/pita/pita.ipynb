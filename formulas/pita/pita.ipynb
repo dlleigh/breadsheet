{
 "cells": [
  {
   "cell_type": "markdown",
   "metadata": {},
   "source": [
    "## Pita\n",
    "\n",
    "- From https://cooking.nytimes.com/recipes/1016071-homemade-pita-bread\n"
   ]
  },
  {
   "cell_type": "code",
   "execution_count": 55,
   "metadata": {
    "hide_input": false
   },
   "outputs": [],
   "source": [
    "import pandas as pd\n",
    "grams_per_ounce = 28.3495"
   ]
  },
  {
   "cell_type": "code",
   "execution_count": 56,
   "metadata": {},
   "outputs": [],
   "source": [
    "num_loaves = 30\n",
    "num_pounds = 0\n",
    "num_ounces = 0\n",
    "num_grams = 77"
   ]
  },
  {
   "cell_type": "code",
   "execution_count": 57,
   "metadata": {},
   "outputs": [],
   "source": [
    "formatter = {\n",
    "    'grams': lambda x: f\"{x:,.0f}\" if x > 10 else f\"{x:.2f}\",\n",
    "    'oz': lambda x: f\"{x:,.0f}\" if x > 100 else f\"{x:.2f}\",\n",
    "    'baker%': lambda x: f\"{x:.0f}\" if x > 2 else f\"{x:.1f}\"\n",
    "}"
   ]
  },
  {
   "cell_type": "code",
   "execution_count": 58,
   "metadata": {},
   "outputs": [
    {
     "name": "stdout",
     "output_type": "stream",
     "text": [
      "30 loaves at 77 grams\n",
      "total weight: 2,310.00 grams\n"
     ]
    }
   ],
   "source": [
    "loaf_weight = (num_pounds * 16 + num_ounces) * grams_per_ounce + num_grams\n",
    "total_weight = (num_loaves * loaf_weight)\n",
    "print (\"{:,.0f} loaves at {:,.0f} grams\".\n",
    "       format(num_loaves, loaf_weight, num_pounds, num_ounces))\n",
    "print (\"total weight: {:,.2f} grams\".format(total_weight,total_weight * grams_per_ounce))"
   ]
  },
  {
   "cell_type": "code",
   "execution_count": 59,
   "metadata": {},
   "outputs": [
    {
     "name": "stdout",
     "output_type": "stream",
     "text": [
      "overall formula total = 177.60000000000002%\n"
     ]
    }
   ],
   "source": [
    "formula = pd.DataFrame.from_dict({\n",
    "    \"ap-flour\": 90, \n",
    "    \"ww-flour\": 10,\n",
    "    \"water\": 66,\n",
    "    \"sugar\": 0.6,\n",
    "    \"salt\": 1.4,\n",
    "    \"yeast\": 1.8,\n",
    "    \"olive oil\": 7.8, \n",
    "}, orient='index', columns=[\"baker%\"])\n",
    "formula_total = formula['baker%'].sum()\n",
    "print(\"overall formula total = %s%%\" % formula_total)"
   ]
  },
  {
   "cell_type": "code",
   "execution_count": 60,
   "metadata": {},
   "outputs": [
    {
     "data": {
      "text/html": [
       "<style type=\"text/css\">\n",
       "</style>\n",
       "<table id=\"T_48db4\">\n",
       "  <thead>\n",
       "    <tr>\n",
       "      <th class=\"blank level0\" >&nbsp;</th>\n",
       "      <th id=\"T_48db4_level0_col0\" class=\"col_heading level0 col0\" >baker%</th>\n",
       "      <th id=\"T_48db4_level0_col1\" class=\"col_heading level0 col1\" >grams</th>\n",
       "      <th id=\"T_48db4_level0_col2\" class=\"col_heading level0 col2\" >oz</th>\n",
       "    </tr>\n",
       "  </thead>\n",
       "  <tbody>\n",
       "    <tr>\n",
       "      <th id=\"T_48db4_level0_row0\" class=\"row_heading level0 row0\" >ap-flour</th>\n",
       "      <td id=\"T_48db4_row0_col0\" class=\"data row0 col0\" >90</td>\n",
       "      <td id=\"T_48db4_row0_col1\" class=\"data row0 col1\" >1,171</td>\n",
       "      <td id=\"T_48db4_row0_col2\" class=\"data row0 col2\" >41.29</td>\n",
       "    </tr>\n",
       "    <tr>\n",
       "      <th id=\"T_48db4_level0_row1\" class=\"row_heading level0 row1\" >ww-flour</th>\n",
       "      <td id=\"T_48db4_row1_col0\" class=\"data row1 col0\" >10</td>\n",
       "      <td id=\"T_48db4_row1_col1\" class=\"data row1 col1\" >130</td>\n",
       "      <td id=\"T_48db4_row1_col2\" class=\"data row1 col2\" >4.59</td>\n",
       "    </tr>\n",
       "    <tr>\n",
       "      <th id=\"T_48db4_level0_row2\" class=\"row_heading level0 row2\" >water</th>\n",
       "      <td id=\"T_48db4_row2_col0\" class=\"data row2 col0\" >66</td>\n",
       "      <td id=\"T_48db4_row2_col1\" class=\"data row2 col1\" >858</td>\n",
       "      <td id=\"T_48db4_row2_col2\" class=\"data row2 col2\" >30.28</td>\n",
       "    </tr>\n",
       "    <tr>\n",
       "      <th id=\"T_48db4_level0_row3\" class=\"row_heading level0 row3\" >sugar</th>\n",
       "      <td id=\"T_48db4_row3_col0\" class=\"data row3 col0\" >0.6</td>\n",
       "      <td id=\"T_48db4_row3_col1\" class=\"data row3 col1\" >7.80</td>\n",
       "      <td id=\"T_48db4_row3_col2\" class=\"data row3 col2\" >0.28</td>\n",
       "    </tr>\n",
       "    <tr>\n",
       "      <th id=\"T_48db4_level0_row4\" class=\"row_heading level0 row4\" >salt</th>\n",
       "      <td id=\"T_48db4_row4_col0\" class=\"data row4 col0\" >1.4</td>\n",
       "      <td id=\"T_48db4_row4_col1\" class=\"data row4 col1\" >18</td>\n",
       "      <td id=\"T_48db4_row4_col2\" class=\"data row4 col2\" >0.64</td>\n",
       "    </tr>\n",
       "    <tr>\n",
       "      <th id=\"T_48db4_level0_row5\" class=\"row_heading level0 row5\" >yeast</th>\n",
       "      <td id=\"T_48db4_row5_col0\" class=\"data row5 col0\" >1.8</td>\n",
       "      <td id=\"T_48db4_row5_col1\" class=\"data row5 col1\" >23</td>\n",
       "      <td id=\"T_48db4_row5_col2\" class=\"data row5 col2\" >0.83</td>\n",
       "    </tr>\n",
       "    <tr>\n",
       "      <th id=\"T_48db4_level0_row6\" class=\"row_heading level0 row6\" >olive oil</th>\n",
       "      <td id=\"T_48db4_row6_col0\" class=\"data row6 col0\" >8</td>\n",
       "      <td id=\"T_48db4_row6_col1\" class=\"data row6 col1\" >101</td>\n",
       "      <td id=\"T_48db4_row6_col2\" class=\"data row6 col2\" >3.58</td>\n",
       "    </tr>\n",
       "  </tbody>\n",
       "</table>\n"
      ],
      "text/plain": [
       "<pandas.io.formats.style.Styler at 0x10acc3d90>"
      ]
     },
     "execution_count": 60,
     "metadata": {},
     "output_type": "execute_result"
    }
   ],
   "source": [
    "# Calculate oz and grams as numeric values first\n",
    "formula['grams'] = formula['baker%'] * total_weight / formula_total\n",
    "formula['oz'] = formula['grams'] / grams_per_ounce\n",
    "\n",
    "formula[['baker%', 'grams', 'oz']].style.format(formatter)"
   ]
  },
  {
   "cell_type": "code",
   "execution_count": 61,
   "metadata": {},
   "outputs": [
    {
     "name": "stdout",
     "output_type": "stream",
     "text": [
      "|           |   baker% | grams   |    oz |\n",
      "|:----------|---------:|:--------|------:|\n",
      "| ap-flour  |     90   | 1,171   | 41.29 |\n",
      "| ww-flour  |     10   | 130     |  4.59 |\n",
      "| water     |     66   | 858     | 30.28 |\n",
      "| sugar     |      0.6 | 7.80    |  0.28 |\n",
      "| salt      |      1.4 | 18      |  0.64 |\n",
      "| yeast     |      1.8 | 23      |  0.83 |\n",
      "| olive oil |      8   | 101     |  3.58 |\n"
     ]
    }
   ],
   "source": [
    "display_df = formula.copy()\n",
    "for col, fmt in formatter.items():\n",
    "    if col in display_df.columns:\n",
    "        display_df[col] = display_df[col].apply(fmt)\n",
    "print(display_df.to_markdown())"
   ]
  }
 ],
 "metadata": {
  "kernelspec": {
   "display_name": ".venv",
   "language": "python",
   "name": "python3"
  },
  "language_info": {
   "codemirror_mode": {
    "name": "ipython",
    "version": 3
   },
   "file_extension": ".py",
   "mimetype": "text/x-python",
   "name": "python",
   "nbconvert_exporter": "python",
   "pygments_lexer": "ipython3",
   "version": "3.13.3"
  }
 },
 "nbformat": 4,
 "nbformat_minor": 2
}
