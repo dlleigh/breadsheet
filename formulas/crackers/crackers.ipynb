{
 "cells": [
  {
   "cell_type": "markdown",
   "metadata": {},
   "source": [
    "# Lavash Crackers\n",
    "\n",
    "- From _The Bread Baker's Apprentice_, by Peter Reinhart"
   ]
  },
  {
   "cell_type": "code",
   "execution_count": 5,
   "metadata": {
    "hide_input": false
   },
   "outputs": [],
   "source": [
    "import sys\n",
    "sys.path.append('../..')\n",
    "from breadsheet_utils import RecipeCalculator, create_formula, format_and_display"
   ]
  },
  {
   "cell_type": "code",
   "execution_count": 6,
   "metadata": {},
   "outputs": [
    {
     "name": "stdout",
     "output_type": "stream",
     "text": [
      "1 loaves at 1,814 grams\n",
      "total weight: 1,814.37 grams\n"
     ]
    }
   ],
   "source": [
    "calc = RecipeCalculator(\n",
    "    num_loaves=1, \n",
    "    weight_pounds=4\n",
    ")\n",
    "calc.print_batch_info()"
   ]
  },
  {
   "cell_type": "code",
   "execution_count": 7,
   "metadata": {},
   "outputs": [],
   "source": [
    "formula = create_formula({\n",
    "    \"ap-flour\": 100, \n",
    "    \"water\": 52, \n",
    "    \"salt\": 2, \n",
    "    \"yeast\": 0.4, \n",
    "    \"olive-oil\": 12, \n",
    "    \"butter\": 10\n",
    "})\n",
    "title=\"Crackers\""
   ]
  },
  {
   "cell_type": "code",
   "execution_count": 8,
   "metadata": {},
   "outputs": [
    {
     "name": "stdout",
     "output_type": "stream",
     "text": [
      "Crackers\n",
      "\n",
      "1 loaves at 1,814 grams\n",
      "overall formula total = 176.4%\n",
      "\n",
      "|           |   baker% | grams   |    oz |\n",
      "|:----------|---------:|:--------|------:|\n",
      "| ap-flour  |    100   | 1,029   | 36.28 |\n",
      "| water     |     52   | 535     | 18.87 |\n",
      "| salt      |      2   | 21      |  0.73 |\n",
      "| yeast     |      0.4 | 4.11    |  0.15 |\n",
      "| olive-oil |     12   | 123     |  4.35 |\n",
      "| butter    |     10   | 103     |  3.63 |\n"
     ]
    },
    {
     "data": {
      "text/html": [
       "<div>\n",
       "<style scoped>\n",
       "    .dataframe tbody tr th:only-of-type {\n",
       "        vertical-align: middle;\n",
       "    }\n",
       "\n",
       "    .dataframe tbody tr th {\n",
       "        vertical-align: top;\n",
       "    }\n",
       "\n",
       "    .dataframe thead th {\n",
       "        text-align: right;\n",
       "    }\n",
       "</style>\n",
       "<table border=\"1\" class=\"dataframe\">\n",
       "  <thead>\n",
       "    <tr style=\"text-align: right;\">\n",
       "      <th></th>\n",
       "      <th>baker%</th>\n",
       "      <th>grams</th>\n",
       "      <th>oz</th>\n",
       "    </tr>\n",
       "  </thead>\n",
       "  <tbody>\n",
       "    <tr>\n",
       "      <th>ap-flour</th>\n",
       "      <td>100</td>\n",
       "      <td>1,029</td>\n",
       "      <td>36.28</td>\n",
       "    </tr>\n",
       "    <tr>\n",
       "      <th>water</th>\n",
       "      <td>52</td>\n",
       "      <td>535</td>\n",
       "      <td>18.87</td>\n",
       "    </tr>\n",
       "    <tr>\n",
       "      <th>salt</th>\n",
       "      <td>2.0</td>\n",
       "      <td>21</td>\n",
       "      <td>0.73</td>\n",
       "    </tr>\n",
       "    <tr>\n",
       "      <th>yeast</th>\n",
       "      <td>0.4</td>\n",
       "      <td>4.11</td>\n",
       "      <td>0.15</td>\n",
       "    </tr>\n",
       "    <tr>\n",
       "      <th>olive-oil</th>\n",
       "      <td>12</td>\n",
       "      <td>123</td>\n",
       "      <td>4.35</td>\n",
       "    </tr>\n",
       "    <tr>\n",
       "      <th>butter</th>\n",
       "      <td>10</td>\n",
       "      <td>103</td>\n",
       "      <td>3.63</td>\n",
       "    </tr>\n",
       "  </tbody>\n",
       "</table>\n",
       "</div>"
      ],
      "text/plain": [
       "          baker%  grams     oz\n",
       "ap-flour     100  1,029  36.28\n",
       "water         52    535  18.87\n",
       "salt         2.0     21   0.73\n",
       "yeast        0.4   4.11   0.15\n",
       "olive-oil     12    123   4.35\n",
       "butter        10    103   3.63"
      ]
     },
     "execution_count": 8,
     "metadata": {},
     "output_type": "execute_result"
    }
   ],
   "source": [
    "final_dough = calc.calculate_straight_dough(formula)\n",
    "format_and_display(final_dough, calc, title=title)"
   ]
  }
 ],
 "metadata": {
  "hide_input": false,
  "kernelspec": {
   "display_name": ".venv",
   "language": "python",
   "name": "python3"
  },
  "language_info": {
   "codemirror_mode": {
    "name": "ipython",
    "version": 3
   },
   "file_extension": ".py",
   "mimetype": "text/x-python",
   "name": "python",
   "nbconvert_exporter": "python",
   "pygments_lexer": "ipython3",
   "version": "3.13.3"
  }
 },
 "nbformat": 4,
 "nbformat_minor": 2
}
