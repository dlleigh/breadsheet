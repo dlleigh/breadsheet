{
 "cells": [
  {
   "cell_type": "markdown",
   "metadata": {},
   "source": [
    "## Roasted Garlic Grissini (Breadsticks)\n",
    "\n",
    "- Cut tops off garlic and generously drizzle with olive oil\n",
    "- Roast in 380 degree oven, let cool\n",
    "- Separate garlic meat. Preserve oil and use as part of oil in formula\n",
    "- Soften butter by pounding with rolling pin\n",
    "\n",
    "\n",
    "- Bulk fermentatin: 30 min\n",
    "- Taking a small portion of dough at a time, roll to 1/4 inch thick\n",
    "- Cut with pizza knife and lay on parchment\n",
    "- Bake at 380 degrees until golden brown and crispy"
   ]
  },
  {
   "cell_type": "code",
   "execution_count": 5,
   "metadata": {
    "hide_input": false
   },
   "outputs": [],
   "source": [
    "import sys\n",
    "sys.path.append('../..')\n",
    "from breadsheet_utils import RecipeCalculator, create_formula, format_and_display"
   ]
  },
  {
   "cell_type": "code",
   "execution_count": 6,
   "metadata": {},
   "outputs": [
    {
     "name": "stdout",
     "output_type": "stream",
     "text": [
      "1 loaves at 907 grams\n",
      "total weight: 907.18 grams\n"
     ]
    }
   ],
   "source": [
    "calc = RecipeCalculator(\n",
    "    num_loaves=1, \n",
    "    weight_pounds=2)\n",
    "calc.print_batch_info()"
   ]
  },
  {
   "cell_type": "code",
   "execution_count": 7,
   "metadata": {},
   "outputs": [],
   "source": [
    "formula = create_formula({\n",
    "    \"ap-flour\": 100, \n",
    "    \"water\": 52, \n",
    "    \"salt\": 2, \n",
    "    \"yeast\": 0.4, \n",
    "    \"olive-oil\": 12, \n",
    "    \"butter\": 10,\n",
    "    \"roasted garlic\": 20\n",
    "})\n",
    "title=\"Grissini\""
   ]
  },
  {
   "cell_type": "code",
   "execution_count": 8,
   "metadata": {},
   "outputs": [
    {
     "name": "stdout",
     "output_type": "stream",
     "text": [
      "Grissini\n",
      "\n",
      "1 loaves at 907 grams\n",
      "overall formula total = 196.4%\n",
      "\n",
      "|                |   baker% |   grams |    oz |\n",
      "|:---------------|---------:|--------:|------:|\n",
      "| ap-flour       |    100   |  462    | 16.29 |\n",
      "| water          |     52   |  240    |  8.47 |\n",
      "| salt           |      2   |    9.24 |  0.33 |\n",
      "| yeast          |      0.4 |    1.85 |  0.07 |\n",
      "| olive-oil      |     12   |   55    |  1.96 |\n",
      "| butter         |     10   |   46    |  1.63 |\n",
      "| roasted garlic |     20   |   92    |  3.26 |\n"
     ]
    },
    {
     "data": {
      "text/html": [
       "<div>\n",
       "<style scoped>\n",
       "    .dataframe tbody tr th:only-of-type {\n",
       "        vertical-align: middle;\n",
       "    }\n",
       "\n",
       "    .dataframe tbody tr th {\n",
       "        vertical-align: top;\n",
       "    }\n",
       "\n",
       "    .dataframe thead th {\n",
       "        text-align: right;\n",
       "    }\n",
       "</style>\n",
       "<table border=\"1\" class=\"dataframe\">\n",
       "  <thead>\n",
       "    <tr style=\"text-align: right;\">\n",
       "      <th></th>\n",
       "      <th>baker%</th>\n",
       "      <th>grams</th>\n",
       "      <th>oz</th>\n",
       "    </tr>\n",
       "  </thead>\n",
       "  <tbody>\n",
       "    <tr>\n",
       "      <th>ap-flour</th>\n",
       "      <td>100</td>\n",
       "      <td>462</td>\n",
       "      <td>16.29</td>\n",
       "    </tr>\n",
       "    <tr>\n",
       "      <th>water</th>\n",
       "      <td>52</td>\n",
       "      <td>240</td>\n",
       "      <td>8.47</td>\n",
       "    </tr>\n",
       "    <tr>\n",
       "      <th>salt</th>\n",
       "      <td>2.0</td>\n",
       "      <td>9.24</td>\n",
       "      <td>0.33</td>\n",
       "    </tr>\n",
       "    <tr>\n",
       "      <th>yeast</th>\n",
       "      <td>0.4</td>\n",
       "      <td>1.85</td>\n",
       "      <td>0.07</td>\n",
       "    </tr>\n",
       "    <tr>\n",
       "      <th>olive-oil</th>\n",
       "      <td>12</td>\n",
       "      <td>55</td>\n",
       "      <td>1.96</td>\n",
       "    </tr>\n",
       "    <tr>\n",
       "      <th>butter</th>\n",
       "      <td>10</td>\n",
       "      <td>46</td>\n",
       "      <td>1.63</td>\n",
       "    </tr>\n",
       "    <tr>\n",
       "      <th>roasted garlic</th>\n",
       "      <td>20</td>\n",
       "      <td>92</td>\n",
       "      <td>3.26</td>\n",
       "    </tr>\n",
       "  </tbody>\n",
       "</table>\n",
       "</div>"
      ],
      "text/plain": [
       "               baker% grams     oz\n",
       "ap-flour          100   462  16.29\n",
       "water              52   240   8.47\n",
       "salt              2.0  9.24   0.33\n",
       "yeast             0.4  1.85   0.07\n",
       "olive-oil          12    55   1.96\n",
       "butter             10    46   1.63\n",
       "roasted garlic     20    92   3.26"
      ]
     },
     "execution_count": 8,
     "metadata": {},
     "output_type": "execute_result"
    }
   ],
   "source": [
    "final_dough = calc.calculate_straight_dough(formula)\n",
    "format_and_display(final_dough, calc, title=title)"
   ]
  }
 ],
 "metadata": {
  "hide_input": false,
  "kernelspec": {
   "display_name": ".venv",
   "language": "python",
   "name": "python3"
  },
  "language_info": {
   "codemirror_mode": {
    "name": "ipython",
    "version": 3
   },
   "file_extension": ".py",
   "mimetype": "text/x-python",
   "name": "python",
   "nbconvert_exporter": "python",
   "pygments_lexer": "ipython3",
   "version": "3.13.3"
  }
 },
 "nbformat": 4,
 "nbformat_minor": 2
}
