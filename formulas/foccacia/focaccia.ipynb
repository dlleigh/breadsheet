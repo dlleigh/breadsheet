{
 "cells": [
  {
   "cell_type": "markdown",
   "metadata": {},
   "source": [
    "## Focaccia\n",
    "\n"
   ]
  },
  {
   "cell_type": "code",
   "execution_count": 10,
   "metadata": {},
   "outputs": [],
   "source": [
    "import sys\n",
    "sys.path.append('../..')\n",
    "from breadsheet_utils import PrefermentCalculator, create_formula, format_and_display"
   ]
  },
  {
   "cell_type": "code",
   "execution_count": 11,
   "metadata": {},
   "outputs": [
    {
     "name": "stdout",
     "output_type": "stream",
     "text": [
      "1 loaves at 1,170 grams\n",
      "total weight: 1,170.00 grams\n"
     ]
    }
   ],
   "source": [
    "calc = PrefermentCalculator(\n",
    "    num_loaves=1, \n",
    "    weight_grams=1170\n",
    ")\n",
    "calc.print_batch_info()"
   ]
  },
  {
   "cell_type": "code",
   "execution_count": 12,
   "metadata": {},
   "outputs": [
    {
     "name": "stdout",
     "output_type": "stream",
     "text": [
      "Foccacia\n",
      "\n",
      "\n",
      "- autolyse 20 min\n",
      "- bulk fermentation 2 hours, fold once\n",
      "- final fermentation 1-1.5 hours\n",
      "\n",
      "\n",
      "1 loaves at 1,170 grams\n",
      "overall formula total = 279.8%\n",
      "\n",
      "Poolish:\n",
      "\n",
      "|       |   baker% |   grams |   oz |\n",
      "|:------|---------:|--------:|-----:|\n",
      "| flour |   100    |  277    | 9.79 |\n",
      "| water |   100    |  277    | 9.79 |\n",
      "| yeast |     0.09 |    0.24 | 0.01 |\n",
      "\n",
      "Final Dough:\n",
      "\n",
      "|           |   baker% |   grams |    oz |\n",
      "|:----------|---------:|--------:|------:|\n",
      "| flour     |   100    |  339    | 11.96 |\n",
      "| water     |    73    |  171    |  6.02 |\n",
      "| yeast     |     0.76 |    4.44 |  0.16 |\n",
      "| salt      |     2    |   14    |  0.48 |\n",
      "| olive oil |    14    |   84    |  2.96 |\n",
      "| malt      |     0.5  |    3.08 |  0.11 |\n",
      "| poolish   |    90    |  555    | 19.58 |\n"
     ]
    },
    {
     "data": {
      "text/html": [
       "<div>\n",
       "<style scoped>\n",
       "    .dataframe tbody tr th:only-of-type {\n",
       "        vertical-align: middle;\n",
       "    }\n",
       "\n",
       "    .dataframe tbody tr th {\n",
       "        vertical-align: top;\n",
       "    }\n",
       "\n",
       "    .dataframe thead th {\n",
       "        text-align: right;\n",
       "    }\n",
       "</style>\n",
       "<table border=\"1\" class=\"dataframe\">\n",
       "  <thead>\n",
       "    <tr style=\"text-align: right;\">\n",
       "      <th></th>\n",
       "      <th>baker%</th>\n",
       "      <th>grams</th>\n",
       "      <th>oz</th>\n",
       "    </tr>\n",
       "  </thead>\n",
       "  <tbody>\n",
       "    <tr>\n",
       "      <th>flour</th>\n",
       "      <td>100</td>\n",
       "      <td>339</td>\n",
       "      <td>11.96</td>\n",
       "    </tr>\n",
       "    <tr>\n",
       "      <th>water</th>\n",
       "      <td>73</td>\n",
       "      <td>171</td>\n",
       "      <td>6.02</td>\n",
       "    </tr>\n",
       "    <tr>\n",
       "      <th>yeast</th>\n",
       "      <td>0.76</td>\n",
       "      <td>4.44</td>\n",
       "      <td>0.16</td>\n",
       "    </tr>\n",
       "    <tr>\n",
       "      <th>salt</th>\n",
       "      <td>2</td>\n",
       "      <td>14</td>\n",
       "      <td>0.48</td>\n",
       "    </tr>\n",
       "    <tr>\n",
       "      <th>olive oil</th>\n",
       "      <td>14</td>\n",
       "      <td>84</td>\n",
       "      <td>2.96</td>\n",
       "    </tr>\n",
       "    <tr>\n",
       "      <th>malt</th>\n",
       "      <td>0.50</td>\n",
       "      <td>3.08</td>\n",
       "      <td>0.11</td>\n",
       "    </tr>\n",
       "    <tr>\n",
       "      <th>poolish</th>\n",
       "      <td>90</td>\n",
       "      <td>555</td>\n",
       "      <td>19.58</td>\n",
       "    </tr>\n",
       "  </tbody>\n",
       "</table>\n",
       "</div>"
      ],
      "text/plain": [
       "          baker% grams     oz\n",
       "flour        100   339  11.96\n",
       "water         73   171   6.02\n",
       "yeast       0.76  4.44   0.16\n",
       "salt           2    14   0.48\n",
       "olive oil     14    84   2.96\n",
       "malt        0.50  3.08   0.11\n",
       "poolish       90   555  19.58"
      ]
     },
     "execution_count": 12,
     "metadata": {},
     "output_type": "execute_result"
    }
   ],
   "source": [
    "pre_fermented_flour_ratio = 0.45\n",
    "\n",
    "formula = create_formula({\n",
    "    \"flour\": 100, \n",
    "    \"water\": 72.7, \n",
    "    \"yeast\": 0.76,\n",
    "    \"salt\": 2.2,\n",
    "    \"olive oil\": 13.6,\n",
    "    \"malt\": 0.5\n",
    "})\n",
    "\n",
    "poolish = create_formula({\n",
    "    \"flour\": 100,\n",
    "    \"water\": 100, \n",
    "    \"yeast\": 0.088\n",
    "})\n",
    "\n",
    "steps='''\n",
    "- autolyse 20 min\n",
    "- bulk fermentation 2 hours, fold once\n",
    "- final fermentation 1-1.5 hours\n",
    "'''\n",
    "title=\"Foccacia\"\n",
    "\n",
    "# Calculate poolish and final dough (33% pre-fermented flour)\n",
    "poolish_weights, final_dough = calc.calculate_poolish_recipe(formula, poolish, \n",
    "                                                             pre_fermented_flour_ratio=pre_fermented_flour_ratio)\n",
    "\n",
    "format_and_display(formula=final_dough, poolish=poolish_weights,\n",
    "                   calc=calc, title=title, steps=steps)"
   ]
  }
 ],
 "metadata": {
  "kernelspec": {
   "display_name": ".venv",
   "language": "python",
   "name": "python3"
  },
  "language_info": {
   "codemirror_mode": {
    "name": "ipython",
    "version": 3
   },
   "file_extension": ".py",
   "mimetype": "text/x-python",
   "name": "python",
   "nbconvert_exporter": "python",
   "pygments_lexer": "ipython3",
   "version": "3.13.3"
  }
 },
 "nbformat": 4,
 "nbformat_minor": 2
}
