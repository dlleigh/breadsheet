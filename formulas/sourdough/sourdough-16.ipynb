{
 "cells": [
  {
   "cell_type": "markdown",
   "metadata": {},
   "source": [
    "## Sourdough\n",
    "\n"
   ]
  },
  {
   "cell_type": "code",
   "execution_count": 13,
   "metadata": {},
   "outputs": [],
   "source": [
    "import sys\n",
    "sys.path.append('../..')\n",
    "from breadsheet_utils import PrefermentCalculator, create_formula, format_and_display"
   ]
  },
  {
   "cell_type": "code",
   "execution_count": 14,
   "metadata": {},
   "outputs": [
    {
     "name": "stdout",
     "output_type": "stream",
     "text": [
      "16 loaves at 794 grams\n",
      "total weight: 12,700.58 grams\n"
     ]
    }
   ],
   "source": [
    "calc = PrefermentCalculator(\n",
    "    num_loaves=16, \n",
    "    weight_pounds=1,\n",
    "    weight_ounces=12\n",
    ")\n",
    "calc.print_batch_info()"
   ]
  },
  {
   "cell_type": "code",
   "execution_count": 15,
   "metadata": {},
   "outputs": [
    {
     "name": "stdout",
     "output_type": "stream",
     "text": [
      "Sourdough\n",
      "\n",
      "\n",
      "- Autolyse 25 min\n",
      "- Bulk fermentation: 150 min (fold every 50 min)\n",
      "- Proof: 2 hrs\n",
      "\n",
      "16 loaves at 794 grams\n",
      "overall formula total = 209.5%\n",
      "\n",
      "|                   |   baker% | grams   |     oz |\n",
      "|:------------------|---------:|:--------|-------:|\n",
      "| bread-flour       |       90 | 5,457   | 192    |\n",
      "| whole-wheat-flour |       10 | 606     |  21.39 |\n",
      "| levain            |       40 | 2,425   |  85.55 |\n",
      "| water             |       66 | 4,008   | 141    |\n",
      "| malt              |        1 | 61      |   2.14 |\n",
      "| salt              |        2 | 143     |   5.05 |\n"
     ]
    },
    {
     "data": {
      "text/html": [
       "<div>\n",
       "<style scoped>\n",
       "    .dataframe tbody tr th:only-of-type {\n",
       "        vertical-align: middle;\n",
       "    }\n",
       "\n",
       "    .dataframe tbody tr th {\n",
       "        vertical-align: top;\n",
       "    }\n",
       "\n",
       "    .dataframe thead th {\n",
       "        text-align: right;\n",
       "    }\n",
       "</style>\n",
       "<table border=\"1\" class=\"dataframe\">\n",
       "  <thead>\n",
       "    <tr style=\"text-align: right;\">\n",
       "      <th></th>\n",
       "      <th>baker%</th>\n",
       "      <th>grams</th>\n",
       "      <th>oz</th>\n",
       "    </tr>\n",
       "  </thead>\n",
       "  <tbody>\n",
       "    <tr>\n",
       "      <th>bread-flour</th>\n",
       "      <td>90</td>\n",
       "      <td>5,457</td>\n",
       "      <td>192</td>\n",
       "    </tr>\n",
       "    <tr>\n",
       "      <th>whole-wheat-flour</th>\n",
       "      <td>10</td>\n",
       "      <td>606</td>\n",
       "      <td>21.39</td>\n",
       "    </tr>\n",
       "    <tr>\n",
       "      <th>levain</th>\n",
       "      <td>40</td>\n",
       "      <td>2,425</td>\n",
       "      <td>85.55</td>\n",
       "    </tr>\n",
       "    <tr>\n",
       "      <th>water</th>\n",
       "      <td>66</td>\n",
       "      <td>4,008</td>\n",
       "      <td>141</td>\n",
       "    </tr>\n",
       "    <tr>\n",
       "      <th>malt</th>\n",
       "      <td>1.00</td>\n",
       "      <td>61</td>\n",
       "      <td>2.14</td>\n",
       "    </tr>\n",
       "    <tr>\n",
       "      <th>salt</th>\n",
       "      <td>2</td>\n",
       "      <td>143</td>\n",
       "      <td>5.05</td>\n",
       "    </tr>\n",
       "  </tbody>\n",
       "</table>\n",
       "</div>"
      ],
      "text/plain": [
       "                  baker%  grams     oz\n",
       "bread-flour           90  5,457    192\n",
       "whole-wheat-flour     10    606  21.39\n",
       "levain                40  2,425  85.55\n",
       "water                 66  4,008    141\n",
       "malt                1.00     61   2.14\n",
       "salt                   2    143   5.05"
      ]
     },
     "execution_count": 15,
     "metadata": {},
     "output_type": "execute_result"
    }
   ],
   "source": [
    "pre_fermented_flour_ratio = 0.20\n",
    "title='Sourdough'\n",
    "\n",
    "formula = create_formula({\n",
    "    \"bread-flour\": 90,\n",
    "    \"whole-wheat-flour\": 10,\n",
    "    \"levain\": 40,\n",
    "    \"water\": 66.11,\n",
    "    \"malt\": 1,\n",
    "    \"salt\": 2.36\n",
    "})\n",
    "\n",
    "steps='''\n",
    "- Autolyse 25 min\n",
    "- Bulk fermentation: 150 min (fold every 50 min)\n",
    "- Proof: 2 hrs'''\n",
    "\n",
    "final_dough = calc.calculate_straight_dough(formula)\n",
    "format_and_display(final_dough, calc, title=title, steps=steps)"
   ]
  }
 ],
 "metadata": {
  "hide_input": true,
  "kernelspec": {
   "display_name": ".venv",
   "language": "python",
   "name": "python3"
  },
  "language_info": {
   "codemirror_mode": {
    "name": "ipython",
    "version": 3
   },
   "file_extension": ".py",
   "mimetype": "text/x-python",
   "name": "python",
   "nbconvert_exporter": "python",
   "pygments_lexer": "ipython3",
   "version": "3.13.3"
  }
 },
 "nbformat": 4,
 "nbformat_minor": 2
}
