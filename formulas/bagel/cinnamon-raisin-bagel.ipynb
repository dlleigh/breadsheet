{
 "cells": [
  {
   "cell_type": "markdown",
   "metadata": {},
   "source": [
    "## Cinnamon Raisin Bagel\n",
    "\n",
    "From _The Bread Baker's Apprentice_ by Peter Reinhart\n",
    "\n",
    "- mix sponge, rest 2 hr\n",
    "- mix dough\n",
    "- divide & preshape: 20 min\n",
    "- shape\n",
    "- proof: 20 min (until they float)\n",
    "- retard: 8-36 hours\n",
    "- boil: 1 min per side\n",
    "- bake: 5 min per side\n"
   ]
  },
  {
   "cell_type": "code",
   "execution_count": 8,
   "metadata": {},
   "outputs": [],
   "source": [
    "import pandas as pd\n",
    "grams_per_ounce = 28.3495"
   ]
  },
  {
   "cell_type": "code",
   "execution_count": 9,
   "metadata": {},
   "outputs": [],
   "source": [
    "formatter = {\n",
    "    'grams': lambda x: f\"{x:,.0f}\" if x > 10 else f\"{x:.2f}\",\n",
    "    'oz': lambda x: f\"{x:,.0f}\" if x > 100 else f\"{x:.2f}\",\n",
    "    'baker%': lambda x: f\"{x:.0f}\" if x > 2 else f\"{x:.1f}\"\n",
    "}"
   ]
  },
  {
   "cell_type": "code",
   "execution_count": 10,
   "metadata": {},
   "outputs": [],
   "source": [
    "num_loaves = 12\n",
    "num_pounds = 0\n",
    "num_ounces = 4.68\n",
    "num_grams = 0"
   ]
  },
  {
   "cell_type": "code",
   "execution_count": 11,
   "metadata": {},
   "outputs": [
    {
     "name": "stdout",
     "output_type": "stream",
     "text": [
      "12 loaves at 133 grams\n",
      "total weight: 1,592.11 grams\n"
     ]
    }
   ],
   "source": [
    "loaf_weight = (num_pounds * 16 + num_ounces) * grams_per_ounce + num_grams\n",
    "total_weight = (num_loaves * loaf_weight)\n",
    "print (\"{:,.0f} loaves at {:,.0f} grams\".\n",
    "       format(num_loaves, loaf_weight, num_pounds, num_ounces))\n",
    "print (\"total weight: {:,.2f} grams\".format(total_weight,total_weight * grams_per_ounce))"
   ]
  },
  {
   "cell_type": "code",
   "execution_count": 12,
   "metadata": {},
   "outputs": [
    {
     "name": "stdout",
     "output_type": "stream",
     "text": [
      "sponge\n",
      "sponge total = 108.81%\n"
     ]
    },
    {
     "data": {
      "text/html": [
       "<div>\n",
       "<style scoped>\n",
       "    .dataframe tbody tr th:only-of-type {\n",
       "        vertical-align: middle;\n",
       "    }\n",
       "\n",
       "    .dataframe tbody tr th {\n",
       "        vertical-align: top;\n",
       "    }\n",
       "\n",
       "    .dataframe thead th {\n",
       "        text-align: right;\n",
       "    }\n",
       "</style>\n",
       "<table border=\"1\" class=\"dataframe\">\n",
       "  <thead>\n",
       "    <tr style=\"text-align: right;\">\n",
       "      <th></th>\n",
       "      <th>baker%</th>\n",
       "    </tr>\n",
       "  </thead>\n",
       "  <tbody>\n",
       "    <tr>\n",
       "      <th>high-gluten-flour</th>\n",
       "      <td>51.40</td>\n",
       "    </tr>\n",
       "    <tr>\n",
       "      <th>water</th>\n",
       "      <td>57.10</td>\n",
       "    </tr>\n",
       "    <tr>\n",
       "      <th>yeast</th>\n",
       "      <td>0.31</td>\n",
       "    </tr>\n",
       "  </tbody>\n",
       "</table>\n",
       "</div>"
      ],
      "text/plain": [
       "                   baker%\n",
       "high-gluten-flour   51.40\n",
       "water               57.10\n",
       "yeast                0.31"
      ]
     },
     "execution_count": 12,
     "metadata": {},
     "output_type": "execute_result"
    }
   ],
   "source": [
    "sponge = pd.DataFrame.from_dict({\n",
    "    \"high-gluten-flour\": 51.4,\n",
    "    \"water\": 57.1, \n",
    "    \"yeast\": 0.31\n",
    "}, orient='index', columns=[\"baker%\"])\n",
    "print (\"sponge\")\n",
    "sponge_total = sponge['baker%'].sum()\n",
    "print(\"sponge total = %s%%\" % sponge_total)\n",
    "sponge"
   ]
  },
  {
   "cell_type": "code",
   "execution_count": 13,
   "metadata": {},
   "outputs": [
    {
     "name": "stdout",
     "output_type": "stream",
     "text": [
      "dough\n",
      "dough total = 70.44%\n"
     ]
    },
    {
     "data": {
      "text/html": [
       "<div>\n",
       "<style scoped>\n",
       "    .dataframe tbody tr th:only-of-type {\n",
       "        vertical-align: middle;\n",
       "    }\n",
       "\n",
       "    .dataframe tbody tr th {\n",
       "        vertical-align: top;\n",
       "    }\n",
       "\n",
       "    .dataframe thead th {\n",
       "        text-align: right;\n",
       "    }\n",
       "</style>\n",
       "<table border=\"1\" class=\"dataframe\">\n",
       "  <thead>\n",
       "    <tr style=\"text-align: right;\">\n",
       "      <th></th>\n",
       "      <th>baker%</th>\n",
       "    </tr>\n",
       "  </thead>\n",
       "  <tbody>\n",
       "    <tr>\n",
       "      <th>high-gluten-flour</th>\n",
       "      <td>48.60</td>\n",
       "    </tr>\n",
       "    <tr>\n",
       "      <th>yeast</th>\n",
       "      <td>0.31</td>\n",
       "    </tr>\n",
       "    <tr>\n",
       "      <th>salt</th>\n",
       "      <td>2.00</td>\n",
       "    </tr>\n",
       "    <tr>\n",
       "      <th>malt</th>\n",
       "      <td>1.00</td>\n",
       "    </tr>\n",
       "    <tr>\n",
       "      <th>raisins</th>\n",
       "      <td>10.00</td>\n",
       "    </tr>\n",
       "    <tr>\n",
       "      <th>cinnamon</th>\n",
       "      <td>1.43</td>\n",
       "    </tr>\n",
       "    <tr>\n",
       "      <th>sugar</th>\n",
       "      <td>7.10</td>\n",
       "    </tr>\n",
       "  </tbody>\n",
       "</table>\n",
       "</div>"
      ],
      "text/plain": [
       "                   baker%\n",
       "high-gluten-flour   48.60\n",
       "yeast                0.31\n",
       "salt                 2.00\n",
       "malt                 1.00\n",
       "raisins             10.00\n",
       "cinnamon             1.43\n",
       "sugar                7.10"
      ]
     },
     "execution_count": 13,
     "metadata": {},
     "output_type": "execute_result"
    }
   ],
   "source": [
    "dough = pd.DataFrame.from_dict({\n",
    "    \"high-gluten-flour\": 48.6, \n",
    "    \"yeast\": 0.31,\n",
    "    \"salt\": 2,\n",
    "    \"malt\": 1,\n",
    "    \"raisins\": 10,\n",
    "    \"cinnamon\": 1.43,\n",
    "    \"sugar\": 7.1\n",
    "}, orient='index', columns=[\"baker%\"])\n",
    "print (\"dough\")\n",
    "dough_total = dough['baker%'].sum()\n",
    "print(\"dough total = %s%%\" % dough_total)\n",
    "dough"
   ]
  },
  {
   "cell_type": "code",
   "execution_count": 14,
   "metadata": {},
   "outputs": [
    {
     "name": "stdout",
     "output_type": "stream",
     "text": [
      "final dough weight = 888 grams\n",
      "sponge\n"
     ]
    },
    {
     "data": {
      "text/html": [
       "<style type=\"text/css\">\n",
       "</style>\n",
       "<table id=\"T_dd425\">\n",
       "  <thead>\n",
       "    <tr>\n",
       "      <th class=\"blank level0\" >&nbsp;</th>\n",
       "      <th id=\"T_dd425_level0_col0\" class=\"col_heading level0 col0\" >baker%</th>\n",
       "      <th id=\"T_dd425_level0_col1\" class=\"col_heading level0 col1\" >grams</th>\n",
       "      <th id=\"T_dd425_level0_col2\" class=\"col_heading level0 col2\" >oz</th>\n",
       "    </tr>\n",
       "  </thead>\n",
       "  <tbody>\n",
       "    <tr>\n",
       "      <th id=\"T_dd425_level0_row0\" class=\"row_heading level0 row0\" >high-gluten-flour</th>\n",
       "      <td id=\"T_dd425_row0_col0\" class=\"data row0 col0\" >51</td>\n",
       "      <td id=\"T_dd425_row0_col1\" class=\"data row0 col1\" >457</td>\n",
       "      <td id=\"T_dd425_row0_col2\" class=\"data row0 col2\" >16.10</td>\n",
       "    </tr>\n",
       "    <tr>\n",
       "      <th id=\"T_dd425_level0_row1\" class=\"row_heading level0 row1\" >water</th>\n",
       "      <td id=\"T_dd425_row1_col0\" class=\"data row1 col0\" >57</td>\n",
       "      <td id=\"T_dd425_row1_col1\" class=\"data row1 col1\" >507</td>\n",
       "      <td id=\"T_dd425_row1_col2\" class=\"data row1 col2\" >17.89</td>\n",
       "    </tr>\n",
       "    <tr>\n",
       "      <th id=\"T_dd425_level0_row2\" class=\"row_heading level0 row2\" >yeast</th>\n",
       "      <td id=\"T_dd425_row2_col0\" class=\"data row2 col0\" >0.3</td>\n",
       "      <td id=\"T_dd425_row2_col1\" class=\"data row2 col1\" >2.75</td>\n",
       "      <td id=\"T_dd425_row2_col2\" class=\"data row2 col2\" >0.10</td>\n",
       "    </tr>\n",
       "  </tbody>\n",
       "</table>\n"
      ],
      "text/plain": [
       "<pandas.io.formats.style.Styler at 0x1167e6a50>"
      ]
     },
     "execution_count": 14,
     "metadata": {},
     "output_type": "execute_result"
    }
   ],
   "source": [
    "final_dough_weight = total_weight * 100 / (dough_total + sponge_total)\n",
    "print (\"final dough weight = {:,.0f} grams\".format(final_dough_weight))\n",
    "sponge['grams'] = sponge.apply(lambda row: row['baker%']*final_dough_weight/100, axis=1)\n",
    "sponge['oz'] = sponge.apply(lambda row: row['grams'] / grams_per_ounce, axis=1)\n",
    "sponge = sponge[['baker%', 'grams', 'oz']]\n",
    "print (\"sponge\")\n",
    "sponge[['baker%', 'grams', 'oz']].style.format(formatter)"
   ]
  },
  {
   "cell_type": "code",
   "execution_count": 15,
   "metadata": {},
   "outputs": [
    {
     "name": "stdout",
     "output_type": "stream",
     "text": [
      "dough\n"
     ]
    },
    {
     "data": {
      "text/html": [
       "<style type=\"text/css\">\n",
       "</style>\n",
       "<table id=\"T_39975\">\n",
       "  <thead>\n",
       "    <tr>\n",
       "      <th class=\"blank level0\" >&nbsp;</th>\n",
       "      <th id=\"T_39975_level0_col0\" class=\"col_heading level0 col0\" >baker%</th>\n",
       "      <th id=\"T_39975_level0_col1\" class=\"col_heading level0 col1\" >grams</th>\n",
       "      <th id=\"T_39975_level0_col2\" class=\"col_heading level0 col2\" >oz</th>\n",
       "    </tr>\n",
       "  </thead>\n",
       "  <tbody>\n",
       "    <tr>\n",
       "      <th id=\"T_39975_level0_row0\" class=\"row_heading level0 row0\" >high-gluten-flour</th>\n",
       "      <td id=\"T_39975_row0_col0\" class=\"data row0 col0\" >49</td>\n",
       "      <td id=\"T_39975_row0_col1\" class=\"data row0 col1\" >432</td>\n",
       "      <td id=\"T_39975_row0_col2\" class=\"data row0 col2\" >15.23</td>\n",
       "    </tr>\n",
       "    <tr>\n",
       "      <th id=\"T_39975_level0_row1\" class=\"row_heading level0 row1\" >yeast</th>\n",
       "      <td id=\"T_39975_row1_col0\" class=\"data row1 col0\" >0.3</td>\n",
       "      <td id=\"T_39975_row1_col1\" class=\"data row1 col1\" >2.75</td>\n",
       "      <td id=\"T_39975_row1_col2\" class=\"data row1 col2\" >0.10</td>\n",
       "    </tr>\n",
       "    <tr>\n",
       "      <th id=\"T_39975_level0_row2\" class=\"row_heading level0 row2\" >salt</th>\n",
       "      <td id=\"T_39975_row2_col0\" class=\"data row2 col0\" >2.0</td>\n",
       "      <td id=\"T_39975_row2_col1\" class=\"data row2 col1\" >18</td>\n",
       "      <td id=\"T_39975_row2_col2\" class=\"data row2 col2\" >0.63</td>\n",
       "    </tr>\n",
       "    <tr>\n",
       "      <th id=\"T_39975_level0_row3\" class=\"row_heading level0 row3\" >malt</th>\n",
       "      <td id=\"T_39975_row3_col0\" class=\"data row3 col0\" >1.0</td>\n",
       "      <td id=\"T_39975_row3_col1\" class=\"data row3 col1\" >8.88</td>\n",
       "      <td id=\"T_39975_row3_col2\" class=\"data row3 col2\" >0.31</td>\n",
       "    </tr>\n",
       "    <tr>\n",
       "      <th id=\"T_39975_level0_row4\" class=\"row_heading level0 row4\" >raisins</th>\n",
       "      <td id=\"T_39975_row4_col0\" class=\"data row4 col0\" >10</td>\n",
       "      <td id=\"T_39975_row4_col1\" class=\"data row4 col1\" >89</td>\n",
       "      <td id=\"T_39975_row4_col2\" class=\"data row4 col2\" >3.13</td>\n",
       "    </tr>\n",
       "    <tr>\n",
       "      <th id=\"T_39975_level0_row5\" class=\"row_heading level0 row5\" >cinnamon</th>\n",
       "      <td id=\"T_39975_row5_col0\" class=\"data row5 col0\" >1.4</td>\n",
       "      <td id=\"T_39975_row5_col1\" class=\"data row5 col1\" >13</td>\n",
       "      <td id=\"T_39975_row5_col2\" class=\"data row5 col2\" >0.45</td>\n",
       "    </tr>\n",
       "    <tr>\n",
       "      <th id=\"T_39975_level0_row6\" class=\"row_heading level0 row6\" >sugar</th>\n",
       "      <td id=\"T_39975_row6_col0\" class=\"data row6 col0\" >7</td>\n",
       "      <td id=\"T_39975_row6_col1\" class=\"data row6 col1\" >63</td>\n",
       "      <td id=\"T_39975_row6_col2\" class=\"data row6 col2\" >2.22</td>\n",
       "    </tr>\n",
       "  </tbody>\n",
       "</table>\n"
      ],
      "text/plain": [
       "<pandas.io.formats.style.Styler at 0x116787d90>"
      ]
     },
     "execution_count": 15,
     "metadata": {},
     "output_type": "execute_result"
    }
   ],
   "source": [
    "final_dough = dough\n",
    "final_dough['grams'] = final_dough.apply(lambda row: row['baker%']*final_dough_weight/100, axis=1)\n",
    "final_dough['oz'] = final_dough.apply(lambda row: row['grams'] / grams_per_ounce, axis=1)\n",
    "print (\"dough\")\n",
    "final_dough[['baker%', 'grams', 'oz']].style.format(formatter)"
   ]
  }
 ],
 "metadata": {
  "kernelspec": {
   "display_name": ".venv",
   "language": "python",
   "name": "python3"
  },
  "language_info": {
   "codemirror_mode": {
    "name": "ipython",
    "version": 3
   },
   "file_extension": ".py",
   "mimetype": "text/x-python",
   "name": "python",
   "nbconvert_exporter": "python",
   "pygments_lexer": "ipython3",
   "version": "3.13.3"
  }
 },
 "nbformat": 4,
 "nbformat_minor": 2
}
