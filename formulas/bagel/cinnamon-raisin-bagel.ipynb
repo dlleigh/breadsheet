{
 "cells": [
  {
   "cell_type": "markdown",
   "metadata": {},
   "source": [
    "## Bagel\n",
    "\n",
    "From _The Bread Baker's Apprentice_ by Peter Reinhart\n",
    "\n",
    "- mix sponge, rest 2 hr\n",
    "- mix dough\n",
    "- divide & preshape: 20 min\n",
    "- shape\n",
    "- proof: 20 min (until they float)\n",
    "- retard: 8-36 hours\n",
    "- boil: 1 min per side\n",
    "- bake: 5 min per side\n"
   ]
  },
  {
   "cell_type": "code",
   "execution_count": 1,
   "metadata": {
    "hide_input": false
   },
   "outputs": [],
   "source": [
    "import pandas as pd\n",
    "grams_per_ounce = 28.3495"
   ]
  },
  {
   "cell_type": "code",
   "execution_count": 2,
   "metadata": {},
   "outputs": [],
   "source": [
    "num_loaves = 12\n",
    "num_pounds = 0\n",
    "num_ounces = 4.68\n",
    "num_grams = 0"
   ]
  },
  {
   "cell_type": "code",
   "execution_count": 3,
   "metadata": {},
   "outputs": [
    {
     "name": "stdout",
     "output_type": "stream",
     "text": [
      "12 loaves at 133 grams\n",
      "total weight: 1,592.11 grams\n"
     ]
    }
   ],
   "source": [
    "loaf_weight = (num_pounds * 16 + num_ounces) * grams_per_ounce + num_grams\n",
    "total_weight = (num_loaves * loaf_weight)\n",
    "print (\"{:,.0f} loaves at {:,.0f} grams\".\n",
    "       format(num_loaves, loaf_weight, num_pounds, num_ounces))\n",
    "print (\"total weight: {:,.2f} grams\".format(total_weight,total_weight * grams_per_ounce))"
   ]
  },
  {
   "cell_type": "code",
   "execution_count": 4,
   "metadata": {},
   "outputs": [
    {
     "name": "stdout",
     "output_type": "stream",
     "text": [
      "sponge\n",
      "sponge total = 108.81%\n"
     ]
    },
    {
     "data": {
      "text/html": [
       "<div>\n",
       "<style scoped>\n",
       "    .dataframe tbody tr th:only-of-type {\n",
       "        vertical-align: middle;\n",
       "    }\n",
       "\n",
       "    .dataframe tbody tr th {\n",
       "        vertical-align: top;\n",
       "    }\n",
       "\n",
       "    .dataframe thead th {\n",
       "        text-align: right;\n",
       "    }\n",
       "</style>\n",
       "<table border=\"1\" class=\"dataframe\">\n",
       "  <thead>\n",
       "    <tr style=\"text-align: right;\">\n",
       "      <th></th>\n",
       "      <th>baker%</th>\n",
       "    </tr>\n",
       "  </thead>\n",
       "  <tbody>\n",
       "    <tr>\n",
       "      <th>high-gluten-flour</th>\n",
       "      <td>51.40</td>\n",
       "    </tr>\n",
       "    <tr>\n",
       "      <th>water</th>\n",
       "      <td>57.10</td>\n",
       "    </tr>\n",
       "    <tr>\n",
       "      <th>yeast</th>\n",
       "      <td>0.31</td>\n",
       "    </tr>\n",
       "  </tbody>\n",
       "</table>\n",
       "</div>"
      ],
      "text/plain": [
       "                   baker%\n",
       "high-gluten-flour   51.40\n",
       "water               57.10\n",
       "yeast                0.31"
      ]
     },
     "execution_count": 4,
     "metadata": {},
     "output_type": "execute_result"
    }
   ],
   "source": [
    "sponge = pd.DataFrame.from_dict({\n",
    "    \"high-gluten-flour\": 51.4,\n",
    "    \"water\": 57.1, \n",
    "    \"yeast\": 0.31\n",
    "}, orient='index', columns=[\"baker%\"])\n",
    "print (\"sponge\")\n",
    "sponge_total = sponge['baker%'].sum()\n",
    "print(\"sponge total = %s%%\" % sponge_total)\n",
    "sponge"
   ]
  },
  {
   "cell_type": "code",
   "execution_count": 5,
   "metadata": {},
   "outputs": [
    {
     "name": "stdout",
     "output_type": "stream",
     "text": [
      "dough\n",
      "dough total = 94.74000000000001%\n"
     ]
    },
    {
     "data": {
      "text/html": [
       "<div>\n",
       "<style scoped>\n",
       "    .dataframe tbody tr th:only-of-type {\n",
       "        vertical-align: middle;\n",
       "    }\n",
       "\n",
       "    .dataframe tbody tr th {\n",
       "        vertical-align: top;\n",
       "    }\n",
       "\n",
       "    .dataframe thead th {\n",
       "        text-align: right;\n",
       "    }\n",
       "</style>\n",
       "<table border=\"1\" class=\"dataframe\">\n",
       "  <thead>\n",
       "    <tr style=\"text-align: right;\">\n",
       "      <th></th>\n",
       "      <th>baker%</th>\n",
       "    </tr>\n",
       "  </thead>\n",
       "  <tbody>\n",
       "    <tr>\n",
       "      <th>high-gluten-flour</th>\n",
       "      <td>48.60</td>\n",
       "    </tr>\n",
       "    <tr>\n",
       "      <th>yeast</th>\n",
       "      <td>0.31</td>\n",
       "    </tr>\n",
       "    <tr>\n",
       "      <th>salt</th>\n",
       "      <td>2.00</td>\n",
       "    </tr>\n",
       "    <tr>\n",
       "      <th>malt</th>\n",
       "      <td>1.00</td>\n",
       "    </tr>\n",
       "    <tr>\n",
       "      <th>raisins</th>\n",
       "      <td>34.30</td>\n",
       "    </tr>\n",
       "    <tr>\n",
       "      <th>cinnamon</th>\n",
       "      <td>1.43</td>\n",
       "    </tr>\n",
       "    <tr>\n",
       "      <th>sugar</th>\n",
       "      <td>7.10</td>\n",
       "    </tr>\n",
       "  </tbody>\n",
       "</table>\n",
       "</div>"
      ],
      "text/plain": [
       "                   baker%\n",
       "high-gluten-flour   48.60\n",
       "yeast                0.31\n",
       "salt                 2.00\n",
       "malt                 1.00\n",
       "raisins             34.30\n",
       "cinnamon             1.43\n",
       "sugar                7.10"
      ]
     },
     "execution_count": 5,
     "metadata": {},
     "output_type": "execute_result"
    }
   ],
   "source": [
    "dough = pd.DataFrame.from_dict({\n",
    "    \"high-gluten-flour\": 48.6, \n",
    "    \"yeast\": 0.31,\n",
    "    \"salt\": 2,\n",
    "    \"malt\": 1,\n",
    "    \"raisins\": 34.3,\n",
    "    \"cinnamon\": 1.43,\n",
    "    \"sugar\": 7.1\n",
    "}, orient='index', columns=[\"baker%\"])\n",
    "print (\"dough\")\n",
    "dough_total = dough['baker%'].sum()\n",
    "print(\"dough total = %s%%\" % dough_total)\n",
    "dough"
   ]
  },
  {
   "cell_type": "code",
   "execution_count": 6,
   "metadata": {},
   "outputs": [
    {
     "name": "stdout",
     "output_type": "stream",
     "text": [
      "final dough weight = 782 grams\n",
      "sponge\n"
     ]
    },
    {
     "data": {
      "text/html": [
       "<div>\n",
       "<style scoped>\n",
       "    .dataframe tbody tr th:only-of-type {\n",
       "        vertical-align: middle;\n",
       "    }\n",
       "\n",
       "    .dataframe tbody tr th {\n",
       "        vertical-align: top;\n",
       "    }\n",
       "\n",
       "    .dataframe thead th {\n",
       "        text-align: right;\n",
       "    }\n",
       "</style>\n",
       "<table border=\"1\" class=\"dataframe\">\n",
       "  <thead>\n",
       "    <tr style=\"text-align: right;\">\n",
       "      <th></th>\n",
       "      <th>baker%</th>\n",
       "      <th>grams</th>\n",
       "      <th>oz</th>\n",
       "    </tr>\n",
       "  </thead>\n",
       "  <tbody>\n",
       "    <tr>\n",
       "      <th>high-gluten-flour</th>\n",
       "      <td>51.40</td>\n",
       "      <td>402</td>\n",
       "      <td>14.2</td>\n",
       "    </tr>\n",
       "    <tr>\n",
       "      <th>water</th>\n",
       "      <td>57.10</td>\n",
       "      <td>447</td>\n",
       "      <td>15.8</td>\n",
       "    </tr>\n",
       "    <tr>\n",
       "      <th>yeast</th>\n",
       "      <td>0.31</td>\n",
       "      <td>2</td>\n",
       "      <td>0.1</td>\n",
       "    </tr>\n",
       "  </tbody>\n",
       "</table>\n",
       "</div>"
      ],
      "text/plain": [
       "                   baker% grams    oz\n",
       "high-gluten-flour   51.40   402  14.2\n",
       "water               57.10   447  15.8\n",
       "yeast                0.31     2   0.1"
      ]
     },
     "execution_count": 6,
     "metadata": {},
     "output_type": "execute_result"
    }
   ],
   "source": [
    "final_dough_weight = total_weight * 100 / (dough_total + sponge_total)\n",
    "print (\"final dough weight = {:,.0f} grams\".format(final_dough_weight))\n",
    "sponge['grams'] = sponge.apply(lambda row: '{:.0f}'.format(row['baker%']*final_dough_weight/100), axis=1)\n",
    "sponge['oz'] = sponge.apply(lambda row: '{:.1f}'.format(float(row['grams']) / grams_per_ounce), axis=1)\n",
    "sponge = sponge[['baker%', 'grams', 'oz']]\n",
    "print (\"sponge\")\n",
    "sponge"
   ]
  },
  {
   "cell_type": "code",
   "execution_count": 7,
   "metadata": {},
   "outputs": [
    {
     "name": "stdout",
     "output_type": "stream",
     "text": [
      "dough\n"
     ]
    },
    {
     "data": {
      "text/html": [
       "<div>\n",
       "<style scoped>\n",
       "    .dataframe tbody tr th:only-of-type {\n",
       "        vertical-align: middle;\n",
       "    }\n",
       "\n",
       "    .dataframe tbody tr th {\n",
       "        vertical-align: top;\n",
       "    }\n",
       "\n",
       "    .dataframe thead th {\n",
       "        text-align: right;\n",
       "    }\n",
       "</style>\n",
       "<table border=\"1\" class=\"dataframe\">\n",
       "  <thead>\n",
       "    <tr style=\"text-align: right;\">\n",
       "      <th></th>\n",
       "      <th>baker%</th>\n",
       "      <th>grams</th>\n",
       "      <th>oz</th>\n",
       "    </tr>\n",
       "  </thead>\n",
       "  <tbody>\n",
       "    <tr>\n",
       "      <th>high-gluten-flour</th>\n",
       "      <td>48.60</td>\n",
       "      <td>380</td>\n",
       "      <td>13.40</td>\n",
       "    </tr>\n",
       "    <tr>\n",
       "      <th>yeast</th>\n",
       "      <td>0.31</td>\n",
       "      <td>2</td>\n",
       "      <td>0.07</td>\n",
       "    </tr>\n",
       "    <tr>\n",
       "      <th>salt</th>\n",
       "      <td>2.00</td>\n",
       "      <td>16</td>\n",
       "      <td>0.56</td>\n",
       "    </tr>\n",
       "    <tr>\n",
       "      <th>malt</th>\n",
       "      <td>1.00</td>\n",
       "      <td>8</td>\n",
       "      <td>0.28</td>\n",
       "    </tr>\n",
       "    <tr>\n",
       "      <th>raisins</th>\n",
       "      <td>34.30</td>\n",
       "      <td>268</td>\n",
       "      <td>9.45</td>\n",
       "    </tr>\n",
       "    <tr>\n",
       "      <th>cinnamon</th>\n",
       "      <td>1.43</td>\n",
       "      <td>11</td>\n",
       "      <td>0.39</td>\n",
       "    </tr>\n",
       "    <tr>\n",
       "      <th>sugar</th>\n",
       "      <td>7.10</td>\n",
       "      <td>56</td>\n",
       "      <td>1.98</td>\n",
       "    </tr>\n",
       "  </tbody>\n",
       "</table>\n",
       "</div>"
      ],
      "text/plain": [
       "                   baker% grams     oz\n",
       "high-gluten-flour   48.60   380  13.40\n",
       "yeast                0.31     2   0.07\n",
       "salt                 2.00    16   0.56\n",
       "malt                 1.00     8   0.28\n",
       "raisins             34.30   268   9.45\n",
       "cinnamon             1.43    11   0.39\n",
       "sugar                7.10    56   1.98"
      ]
     },
     "execution_count": 7,
     "metadata": {},
     "output_type": "execute_result"
    }
   ],
   "source": [
    "final_dough = dough\n",
    "final_dough['grams'] = final_dough.apply(lambda row: '{:.0f}'.format(row['baker%']*final_dough_weight/100), axis=1)\n",
    "final_dough['oz'] = final_dough.apply(lambda row: '{:.2f}'.format(float(row['grams']) / grams_per_ounce), axis=1)\n",
    "final_dough = final_dough[['baker%', 'grams', 'oz']]\n",
    "print (\"dough\")\n",
    "final_dough"
   ]
  }
 ],
 "metadata": {
  "kernelspec": {
   "display_name": ".venv",
   "language": "python",
   "name": "python3"
  },
  "language_info": {
   "codemirror_mode": {
    "name": "ipython",
    "version": 3
   },
   "file_extension": ".py",
   "mimetype": "text/x-python",
   "name": "python",
   "nbconvert_exporter": "python",
   "pygments_lexer": "ipython3",
   "version": "3.9.6"
  }
 },
 "nbformat": 4,
 "nbformat_minor": 2
}
