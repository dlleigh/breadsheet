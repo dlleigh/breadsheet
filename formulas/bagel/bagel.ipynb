{
 "cells": [
  {
   "cell_type": "markdown",
   "metadata": {},
   "source": [
    "## Bagel\n",
    "\n",
    "From _The Bread Baker's Apprentice_ by Peter Reinhart\n",
    "\n",
    "- mix\n",
    "- divide & preshape: 20 min\n",
    "- shape\n",
    "- proof: 20 min (until they float)\n",
    "- retard: 8-36 hours\n",
    "- boil: 1 min per side\n",
    "- bake: 5 min per side\n"
   ]
  },
  {
   "cell_type": "code",
   "execution_count": 123,
   "metadata": {
    "hide_input": false
   },
   "outputs": [],
   "source": [
    "import pandas as pd\n",
    "grams_per_ounce = 28.3495"
   ]
  },
  {
   "cell_type": "code",
   "execution_count": 124,
   "metadata": {},
   "outputs": [],
   "source": [
    "num_loaves = 12\n",
    "num_pounds = 0\n",
    "num_ounces = 4.68\n",
    "num_grams = 0"
   ]
  },
  {
   "cell_type": "code",
   "execution_count": 125,
   "metadata": {},
   "outputs": [
    {
     "name": "stdout",
     "output_type": "stream",
     "text": [
      "12 loaves at 133 grams\n",
      "total weight: 1,592.11 grams\n"
     ]
    }
   ],
   "source": [
    "loaf_weight = (num_pounds * 16 + num_ounces) * grams_per_ounce + num_grams\n",
    "total_weight = (num_loaves * loaf_weight)\n",
    "print (\"{:,.0f} loaves at {:,.0f} grams\".\n",
    "       format(num_loaves, loaf_weight, num_pounds, num_ounces))\n",
    "print (\"total weight: {:,.2f} grams\".format(total_weight,total_weight * grams_per_ounce))"
   ]
  },
  {
   "cell_type": "code",
   "execution_count": 126,
   "metadata": {},
   "outputs": [
    {
     "name": "stdout",
     "output_type": "stream",
     "text": [
      "sponge\n",
      "sponge total = 108.81%\n"
     ]
    },
    {
     "data": {
      "text/html": [
       "<div>\n",
       "<style scoped>\n",
       "    .dataframe tbody tr th:only-of-type {\n",
       "        vertical-align: middle;\n",
       "    }\n",
       "\n",
       "    .dataframe tbody tr th {\n",
       "        vertical-align: top;\n",
       "    }\n",
       "\n",
       "    .dataframe thead th {\n",
       "        text-align: right;\n",
       "    }\n",
       "</style>\n",
       "<table border=\"1\" class=\"dataframe\">\n",
       "  <thead>\n",
       "    <tr style=\"text-align: right;\">\n",
       "      <th></th>\n",
       "      <th>baker%</th>\n",
       "    </tr>\n",
       "  </thead>\n",
       "  <tbody>\n",
       "    <tr>\n",
       "      <th>high-gluten-flour</th>\n",
       "      <td>51.40</td>\n",
       "    </tr>\n",
       "    <tr>\n",
       "      <th>water</th>\n",
       "      <td>57.10</td>\n",
       "    </tr>\n",
       "    <tr>\n",
       "      <th>yeast</th>\n",
       "      <td>0.31</td>\n",
       "    </tr>\n",
       "  </tbody>\n",
       "</table>\n",
       "</div>"
      ],
      "text/plain": [
       "                   baker%\n",
       "high-gluten-flour   51.40\n",
       "water               57.10\n",
       "yeast                0.31"
      ]
     },
     "execution_count": 126,
     "metadata": {},
     "output_type": "execute_result"
    }
   ],
   "source": [
    "sponge = pd.DataFrame.from_dict({\n",
    "    \"high-gluten-flour\": 51.4,\n",
    "    \"water\": 57.1, \n",
    "    \"yeast\": 0.31\n",
    "}, orient='index', columns=[\"baker%\"])\n",
    "print (\"sponge\")\n",
    "sponge_total = sponge['baker%'].sum()\n",
    "print(\"sponge total = %s%%\" % sponge_total)\n",
    "sponge"
   ]
  },
  {
   "cell_type": "code",
   "execution_count": 127,
   "metadata": {},
   "outputs": [
    {
     "name": "stdout",
     "output_type": "stream",
     "text": [
      "dough\n",
      "dough total = 51.699999999999996%\n"
     ]
    },
    {
     "data": {
      "text/html": [
       "<div>\n",
       "<style scoped>\n",
       "    .dataframe tbody tr th:only-of-type {\n",
       "        vertical-align: middle;\n",
       "    }\n",
       "\n",
       "    .dataframe tbody tr th {\n",
       "        vertical-align: top;\n",
       "    }\n",
       "\n",
       "    .dataframe thead th {\n",
       "        text-align: right;\n",
       "    }\n",
       "</style>\n",
       "<table border=\"1\" class=\"dataframe\">\n",
       "  <thead>\n",
       "    <tr style=\"text-align: right;\">\n",
       "      <th></th>\n",
       "      <th>baker%</th>\n",
       "    </tr>\n",
       "  </thead>\n",
       "  <tbody>\n",
       "    <tr>\n",
       "      <th>high-gluten-flour</th>\n",
       "      <td>48.60</td>\n",
       "    </tr>\n",
       "    <tr>\n",
       "      <th>yeast</th>\n",
       "      <td>0.16</td>\n",
       "    </tr>\n",
       "    <tr>\n",
       "      <th>salt</th>\n",
       "      <td>2.00</td>\n",
       "    </tr>\n",
       "    <tr>\n",
       "      <th>malt</th>\n",
       "      <td>0.94</td>\n",
       "    </tr>\n",
       "  </tbody>\n",
       "</table>\n",
       "</div>"
      ],
      "text/plain": [
       "                   baker%\n",
       "high-gluten-flour   48.60\n",
       "yeast                0.16\n",
       "salt                 2.00\n",
       "malt                 0.94"
      ]
     },
     "execution_count": 127,
     "metadata": {},
     "output_type": "execute_result"
    }
   ],
   "source": [
    "dough = pd.DataFrame.from_dict({\n",
    "    \"high-gluten-flour\": 48.6, \n",
    "    \"yeast\": 0.16,\n",
    "    \"salt\": 2,\n",
    "    \"malt\": 0.94\n",
    "}, orient='index', columns=[\"baker%\"])\n",
    "print (\"dough\")\n",
    "dough_total = dough['baker%'].sum()\n",
    "print(\"dough total = %s%%\" % dough_total)\n",
    "dough"
   ]
  },
  {
   "cell_type": "code",
   "execution_count": 128,
   "metadata": {},
   "outputs": [
    {
     "name": "stdout",
     "output_type": "stream",
     "text": [
      "final dough weight = 992 grams\n",
      "sponge\n"
     ]
    },
    {
     "data": {
      "text/html": [
       "<div>\n",
       "<style scoped>\n",
       "    .dataframe tbody tr th:only-of-type {\n",
       "        vertical-align: middle;\n",
       "    }\n",
       "\n",
       "    .dataframe tbody tr th {\n",
       "        vertical-align: top;\n",
       "    }\n",
       "\n",
       "    .dataframe thead th {\n",
       "        text-align: right;\n",
       "    }\n",
       "</style>\n",
       "<table border=\"1\" class=\"dataframe\">\n",
       "  <thead>\n",
       "    <tr style=\"text-align: right;\">\n",
       "      <th></th>\n",
       "      <th>baker%</th>\n",
       "      <th>grams</th>\n",
       "      <th>oz</th>\n",
       "    </tr>\n",
       "  </thead>\n",
       "  <tbody>\n",
       "    <tr>\n",
       "      <th>high-gluten-flour</th>\n",
       "      <td>51.40</td>\n",
       "      <td>510</td>\n",
       "      <td>18.0</td>\n",
       "    </tr>\n",
       "    <tr>\n",
       "      <th>water</th>\n",
       "      <td>57.10</td>\n",
       "      <td>566</td>\n",
       "      <td>20.0</td>\n",
       "    </tr>\n",
       "    <tr>\n",
       "      <th>yeast</th>\n",
       "      <td>0.31</td>\n",
       "      <td>3</td>\n",
       "      <td>0.1</td>\n",
       "    </tr>\n",
       "  </tbody>\n",
       "</table>\n",
       "</div>"
      ],
      "text/plain": [
       "                   baker% grams    oz\n",
       "high-gluten-flour   51.40   510  18.0\n",
       "water               57.10   566  20.0\n",
       "yeast                0.31     3   0.1"
      ]
     },
     "execution_count": 128,
     "metadata": {},
     "output_type": "execute_result"
    }
   ],
   "source": [
    "final_dough_weight = total_weight * 100 / (dough_total + sponge_total)\n",
    "print (\"final dough weight = {:,.0f} grams\".format(final_dough_weight))\n",
    "sponge['grams'] = sponge.apply(lambda row: '{:.0f}'.format(row['baker%']*final_dough_weight/100), axis=1)\n",
    "sponge['oz'] = sponge.apply(lambda row: '{:.1f}'.format(float(row['grams']) / grams_per_ounce), axis=1)\n",
    "sponge = sponge[['baker%', 'grams', 'oz']]\n",
    "print (\"sponge\")\n",
    "sponge"
   ]
  },
  {
   "cell_type": "code",
   "execution_count": 129,
   "metadata": {},
   "outputs": [
    {
     "name": "stdout",
     "output_type": "stream",
     "text": [
      "dough\n"
     ]
    },
    {
     "data": {
      "text/html": [
       "<div>\n",
       "<style scoped>\n",
       "    .dataframe tbody tr th:only-of-type {\n",
       "        vertical-align: middle;\n",
       "    }\n",
       "\n",
       "    .dataframe tbody tr th {\n",
       "        vertical-align: top;\n",
       "    }\n",
       "\n",
       "    .dataframe thead th {\n",
       "        text-align: right;\n",
       "    }\n",
       "</style>\n",
       "<table border=\"1\" class=\"dataframe\">\n",
       "  <thead>\n",
       "    <tr style=\"text-align: right;\">\n",
       "      <th></th>\n",
       "      <th>baker%</th>\n",
       "      <th>grams</th>\n",
       "      <th>oz</th>\n",
       "    </tr>\n",
       "  </thead>\n",
       "  <tbody>\n",
       "    <tr>\n",
       "      <th>high-gluten-flour</th>\n",
       "      <td>48.60</td>\n",
       "      <td>482</td>\n",
       "      <td>17.0</td>\n",
       "    </tr>\n",
       "    <tr>\n",
       "      <th>yeast</th>\n",
       "      <td>0.16</td>\n",
       "      <td>2</td>\n",
       "      <td>0.1</td>\n",
       "    </tr>\n",
       "    <tr>\n",
       "      <th>salt</th>\n",
       "      <td>2.00</td>\n",
       "      <td>20</td>\n",
       "      <td>0.7</td>\n",
       "    </tr>\n",
       "    <tr>\n",
       "      <th>malt</th>\n",
       "      <td>0.94</td>\n",
       "      <td>9</td>\n",
       "      <td>0.3</td>\n",
       "    </tr>\n",
       "  </tbody>\n",
       "</table>\n",
       "</div>"
      ],
      "text/plain": [
       "                   baker% grams    oz\n",
       "high-gluten-flour   48.60   482  17.0\n",
       "yeast                0.16     2   0.1\n",
       "salt                 2.00    20   0.7\n",
       "malt                 0.94     9   0.3"
      ]
     },
     "execution_count": 129,
     "metadata": {},
     "output_type": "execute_result"
    }
   ],
   "source": [
    "final_dough = dough\n",
    "final_dough['grams'] = final_dough.apply(lambda row: '{:.0f}'.format(row['baker%']*final_dough_weight/100), axis=1)\n",
    "final_dough['oz'] = final_dough.apply(lambda row: '{:.1f}'.format(float(row['grams']) / grams_per_ounce), axis=1)\n",
    "final_dough = final_dough[['baker%', 'grams', 'oz']]\n",
    "print (\"dough\")\n",
    "final_dough"
   ]
  }
 ],
 "metadata": {
  "kernelspec": {
   "display_name": ".venv",
   "language": "python",
   "name": "python3"
  },
  "language_info": {
   "codemirror_mode": {
    "name": "ipython",
    "version": 3
   },
   "file_extension": ".py",
   "mimetype": "text/x-python",
   "name": "python",
   "nbconvert_exporter": "python",
   "pygments_lexer": "ipython3",
   "version": "3.9.6"
  }
 },
 "nbformat": 4,
 "nbformat_minor": 2
}
