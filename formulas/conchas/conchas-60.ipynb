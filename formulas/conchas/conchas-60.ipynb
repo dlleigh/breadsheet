{
 "cells": [
  {
   "cell_type": "markdown",
   "metadata": {},
   "source": [
    "## Conchas\n",
    "\n",
    "- From https://cooking.nytimes.com/recipes/1023045-conchas\n",
    "- overnight bulk fermentation\n",
    "- divide & shape\n",
    "- add topping\n",
    "- final fermentation: 1.5-2 hrs\n",
    "- bake at 375, 20-25 min\n"
   ]
  },
  {
   "cell_type": "markdown",
   "metadata": {},
   "source": [
    "topping from https://www.mexicoinmykitchen.com/concha-recipe\n",
    "\n",
    "For 15 rolls:\n",
    "\n",
    "- 100 grams Vegetable Shortening \n",
    "- 100 grams Confectioner Sugar\n",
    "- 120 grams All-Purpose Flour\n",
    "\n",
    "For Chocolate:\n",
    "- Add 5 grams Cocoa powder (for chocolate)\n",
    "\n",
    "For Vanilla:\n",
    "- Add 1T vanilla extract"
   ]
  },
  {
   "cell_type": "code",
   "execution_count": 1,
   "metadata": {
    "hide_input": false
   },
   "outputs": [],
   "source": [
    "import pandas as pd\n",
    "grams_per_ounce = 28.3495"
   ]
  },
  {
   "cell_type": "code",
   "execution_count": 2,
   "metadata": {},
   "outputs": [],
   "source": [
    "num_loaves = 60\n",
    "num_pounds = 0\n",
    "num_ounces = 0\n",
    "num_grams = 76"
   ]
  },
  {
   "cell_type": "code",
   "execution_count": 3,
   "metadata": {},
   "outputs": [],
   "source": [
    "formatter = {\n",
    "    'grams': lambda x: f\"{x:,.0f}\" if x > 10 else f\"{x:.2f}\",\n",
    "    'oz': lambda x: f\"{x:,.0f}\" if x > 100 else f\"{x:.2f}\",\n",
    "    'baker%': lambda x: f\"{x:.0f}\" if x > 2 else f\"{x:.1f}\"\n",
    "}"
   ]
  },
  {
   "cell_type": "code",
   "execution_count": 4,
   "metadata": {},
   "outputs": [
    {
     "name": "stdout",
     "output_type": "stream",
     "text": [
      "60 loaves at 76 grams\n",
      "total weight: 4,560.00 grams\n"
     ]
    }
   ],
   "source": [
    "loaf_weight = (num_pounds * 16 + num_ounces) * grams_per_ounce + num_grams\n",
    "total_weight = (num_loaves * loaf_weight)\n",
    "print (\"{:,.0f} loaves at {:,.0f} grams\".\n",
    "       format(num_loaves, loaf_weight, num_pounds, num_ounces))\n",
    "print (\"total weight: {:,.2f} grams\".format(total_weight,total_weight * grams_per_ounce))"
   ]
  },
  {
   "cell_type": "code",
   "execution_count": 5,
   "metadata": {},
   "outputs": [
    {
     "name": "stdout",
     "output_type": "stream",
     "text": [
      "overall formula total = 210.4%\n"
     ]
    }
   ],
   "source": [
    "formula = pd.DataFrame.from_dict({\n",
    "    \"ap-flour\": 100, \n",
    "    \"sugar\": 13,\n",
    "    \"salt\": 2.3,\n",
    "    \"yeast\": 1.9,\n",
    "    \"milk\": 33.7, \n",
    "    \"eggs\": 23.1,\n",
    "    \"vanilla extract\": 0.8,\n",
    "    \"butter\": 35.6\n",
    "}, orient='index', columns=[\"baker%\"])\n",
    "formula_total = formula['baker%'].sum()\n",
    "print(\"overall formula total = %s%%\" % formula_total)"
   ]
  },
  {
   "cell_type": "code",
   "execution_count": 6,
   "metadata": {},
   "outputs": [
    {
     "data": {
      "text/html": [
       "<style type=\"text/css\">\n",
       "</style>\n",
       "<table id=\"T_231d1\">\n",
       "  <thead>\n",
       "    <tr>\n",
       "      <th class=\"blank level0\" >&nbsp;</th>\n",
       "      <th id=\"T_231d1_level0_col0\" class=\"col_heading level0 col0\" >baker%</th>\n",
       "      <th id=\"T_231d1_level0_col1\" class=\"col_heading level0 col1\" >grams</th>\n",
       "      <th id=\"T_231d1_level0_col2\" class=\"col_heading level0 col2\" >oz</th>\n",
       "    </tr>\n",
       "  </thead>\n",
       "  <tbody>\n",
       "    <tr>\n",
       "      <th id=\"T_231d1_level0_row0\" class=\"row_heading level0 row0\" >ap-flour</th>\n",
       "      <td id=\"T_231d1_row0_col0\" class=\"data row0 col0\" >100</td>\n",
       "      <td id=\"T_231d1_row0_col1\" class=\"data row0 col1\" >2,167</td>\n",
       "      <td id=\"T_231d1_row0_col2\" class=\"data row0 col2\" >76.45</td>\n",
       "    </tr>\n",
       "    <tr>\n",
       "      <th id=\"T_231d1_level0_row1\" class=\"row_heading level0 row1\" >sugar</th>\n",
       "      <td id=\"T_231d1_row1_col0\" class=\"data row1 col0\" >13</td>\n",
       "      <td id=\"T_231d1_row1_col1\" class=\"data row1 col1\" >282</td>\n",
       "      <td id=\"T_231d1_row1_col2\" class=\"data row1 col2\" >9.94</td>\n",
       "    </tr>\n",
       "    <tr>\n",
       "      <th id=\"T_231d1_level0_row2\" class=\"row_heading level0 row2\" >salt</th>\n",
       "      <td id=\"T_231d1_row2_col0\" class=\"data row2 col0\" >2</td>\n",
       "      <td id=\"T_231d1_row2_col1\" class=\"data row2 col1\" >50</td>\n",
       "      <td id=\"T_231d1_row2_col2\" class=\"data row2 col2\" >1.76</td>\n",
       "    </tr>\n",
       "    <tr>\n",
       "      <th id=\"T_231d1_level0_row3\" class=\"row_heading level0 row3\" >yeast</th>\n",
       "      <td id=\"T_231d1_row3_col0\" class=\"data row3 col0\" >1.9</td>\n",
       "      <td id=\"T_231d1_row3_col1\" class=\"data row3 col1\" >41</td>\n",
       "      <td id=\"T_231d1_row3_col2\" class=\"data row3 col2\" >1.45</td>\n",
       "    </tr>\n",
       "    <tr>\n",
       "      <th id=\"T_231d1_level0_row4\" class=\"row_heading level0 row4\" >milk</th>\n",
       "      <td id=\"T_231d1_row4_col0\" class=\"data row4 col0\" >34</td>\n",
       "      <td id=\"T_231d1_row4_col1\" class=\"data row4 col1\" >730</td>\n",
       "      <td id=\"T_231d1_row4_col2\" class=\"data row4 col2\" >25.76</td>\n",
       "    </tr>\n",
       "    <tr>\n",
       "      <th id=\"T_231d1_level0_row5\" class=\"row_heading level0 row5\" >eggs</th>\n",
       "      <td id=\"T_231d1_row5_col0\" class=\"data row5 col0\" >23</td>\n",
       "      <td id=\"T_231d1_row5_col1\" class=\"data row5 col1\" >501</td>\n",
       "      <td id=\"T_231d1_row5_col2\" class=\"data row5 col2\" >17.66</td>\n",
       "    </tr>\n",
       "    <tr>\n",
       "      <th id=\"T_231d1_level0_row6\" class=\"row_heading level0 row6\" >vanilla extract</th>\n",
       "      <td id=\"T_231d1_row6_col0\" class=\"data row6 col0\" >0.8</td>\n",
       "      <td id=\"T_231d1_row6_col1\" class=\"data row6 col1\" >17</td>\n",
       "      <td id=\"T_231d1_row6_col2\" class=\"data row6 col2\" >0.61</td>\n",
       "    </tr>\n",
       "    <tr>\n",
       "      <th id=\"T_231d1_level0_row7\" class=\"row_heading level0 row7\" >butter</th>\n",
       "      <td id=\"T_231d1_row7_col0\" class=\"data row7 col0\" >36</td>\n",
       "      <td id=\"T_231d1_row7_col1\" class=\"data row7 col1\" >772</td>\n",
       "      <td id=\"T_231d1_row7_col2\" class=\"data row7 col2\" >27.22</td>\n",
       "    </tr>\n",
       "  </tbody>\n",
       "</table>\n"
      ],
      "text/plain": [
       "<pandas.io.formats.style.Styler at 0x118694980>"
      ]
     },
     "execution_count": 6,
     "metadata": {},
     "output_type": "execute_result"
    }
   ],
   "source": [
    "# Calculate oz and grams as numeric values first\n",
    "formula['grams'] = formula['baker%'] * total_weight / formula_total\n",
    "formula['oz'] = formula['grams'] / grams_per_ounce\n",
    "\n",
    "formula[['baker%', 'grams', 'oz']].style.format(formatter)"
   ]
  },
  {
   "cell_type": "code",
   "execution_count": 7,
   "metadata": {},
   "outputs": [
    {
     "name": "stdout",
     "output_type": "stream",
     "text": [
      "|                 |   baker% | grams   |    oz |\n",
      "|:----------------|---------:|:--------|------:|\n",
      "| ap-flour        |    100   | 2,167   | 76.45 |\n",
      "| sugar           |     13   | 282     |  9.94 |\n",
      "| salt            |      2   | 50      |  1.76 |\n",
      "| yeast           |      1.9 | 41      |  1.45 |\n",
      "| milk            |     34   | 730     | 25.76 |\n",
      "| eggs            |     23   | 501     | 17.66 |\n",
      "| vanilla extract |      0.8 | 17      |  0.61 |\n",
      "| butter          |     36   | 772     | 27.22 |\n"
     ]
    }
   ],
   "source": [
    "display_df = formula.copy()\n",
    "for col, fmt in formatter.items():\n",
    "    if col in display_df.columns:\n",
    "        display_df[col] = display_df[col].apply(fmt)\n",
    "print(display_df.to_markdown())"
   ]
  }
 ],
 "metadata": {
  "kernelspec": {
   "display_name": ".venv",
   "language": "python",
   "name": "python3"
  },
  "language_info": {
   "codemirror_mode": {
    "name": "ipython",
    "version": 3
   },
   "file_extension": ".py",
   "mimetype": "text/x-python",
   "name": "python",
   "nbconvert_exporter": "python",
   "pygments_lexer": "ipython3",
   "version": "3.13.3"
  }
 },
 "nbformat": 4,
 "nbformat_minor": 2
}
