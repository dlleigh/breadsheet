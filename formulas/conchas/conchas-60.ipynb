{
 "cells": [
  {
   "cell_type": "markdown",
   "metadata": {},
   "source": [
    "## Conchas\n",
    "\n",
    "- From https://cooking.nytimes.com/recipes/1023045-conchas\n",
    "- overnight bulk fermentation\n",
    "- divide & shape\n",
    "- add topping\n",
    "- final fermentation: 1.5-2 hrs\n",
    "- bake at 375, 20-25 min\n"
   ]
  },
  {
   "cell_type": "markdown",
   "metadata": {},
   "source": [
    "topping from https://www.mexicoinmykitchen.com/concha-recipe\n",
    "\n",
    "For 15 rolls:\n",
    "\n",
    "- 100 grams Vegetable Shortening \n",
    "- 100 grams Confectioner Sugar\n",
    "- 120 grams All-Purpose Flour\n",
    "\n",
    "For Chocolate:\n",
    "- Add 5 grams Cocoa powder (for chocolate)\n",
    "\n",
    "For Vanilla:\n",
    "- Add 1T vanilla extract"
   ]
  },
  {
   "cell_type": "code",
   "execution_count": 20,
   "metadata": {
    "hide_input": false
   },
   "outputs": [],
   "source": [
    "import pandas as pd\n",
    "grams_per_ounce = 28.3495"
   ]
  },
  {
   "cell_type": "code",
   "execution_count": 21,
   "metadata": {},
   "outputs": [],
   "source": [
    "num_loaves = 60\n",
    "num_pounds = 0\n",
    "num_ounces = 0\n",
    "num_grams = 76"
   ]
  },
  {
   "cell_type": "code",
   "execution_count": 22,
   "metadata": {},
   "outputs": [
    {
     "name": "stdout",
     "output_type": "stream",
     "text": [
      "60 loaves at 76 grams\n",
      "total weight: 4,560.00 grams\n"
     ]
    }
   ],
   "source": [
    "loaf_weight = (num_pounds * 16 + num_ounces) * grams_per_ounce + num_grams\n",
    "total_weight = (num_loaves * loaf_weight)\n",
    "print (\"{:,.0f} loaves at {:,.0f} grams\".\n",
    "       format(num_loaves, loaf_weight, num_pounds, num_ounces))\n",
    "print (\"total weight: {:,.2f} grams\".format(total_weight,total_weight * grams_per_ounce))"
   ]
  },
  {
   "cell_type": "code",
   "execution_count": 23,
   "metadata": {},
   "outputs": [
    {
     "name": "stdout",
     "output_type": "stream",
     "text": [
      "overall formula\n",
      "overall formula total = 210.4%\n"
     ]
    },
    {
     "data": {
      "text/html": [
       "<div>\n",
       "<style scoped>\n",
       "    .dataframe tbody tr th:only-of-type {\n",
       "        vertical-align: middle;\n",
       "    }\n",
       "\n",
       "    .dataframe tbody tr th {\n",
       "        vertical-align: top;\n",
       "    }\n",
       "\n",
       "    .dataframe thead th {\n",
       "        text-align: right;\n",
       "    }\n",
       "</style>\n",
       "<table border=\"1\" class=\"dataframe\">\n",
       "  <thead>\n",
       "    <tr style=\"text-align: right;\">\n",
       "      <th></th>\n",
       "      <th>baker%</th>\n",
       "    </tr>\n",
       "  </thead>\n",
       "  <tbody>\n",
       "    <tr>\n",
       "      <th>ap-flour</th>\n",
       "      <td>100.0</td>\n",
       "    </tr>\n",
       "    <tr>\n",
       "      <th>sugar</th>\n",
       "      <td>13.0</td>\n",
       "    </tr>\n",
       "    <tr>\n",
       "      <th>salt</th>\n",
       "      <td>2.3</td>\n",
       "    </tr>\n",
       "    <tr>\n",
       "      <th>yeast</th>\n",
       "      <td>1.9</td>\n",
       "    </tr>\n",
       "    <tr>\n",
       "      <th>milk</th>\n",
       "      <td>33.7</td>\n",
       "    </tr>\n",
       "    <tr>\n",
       "      <th>eggs</th>\n",
       "      <td>23.1</td>\n",
       "    </tr>\n",
       "    <tr>\n",
       "      <th>vanilla extract</th>\n",
       "      <td>0.8</td>\n",
       "    </tr>\n",
       "    <tr>\n",
       "      <th>butter</th>\n",
       "      <td>35.6</td>\n",
       "    </tr>\n",
       "  </tbody>\n",
       "</table>\n",
       "</div>"
      ],
      "text/plain": [
       "                 baker%\n",
       "ap-flour          100.0\n",
       "sugar              13.0\n",
       "salt                2.3\n",
       "yeast               1.9\n",
       "milk               33.7\n",
       "eggs               23.1\n",
       "vanilla extract     0.8\n",
       "butter             35.6"
      ]
     },
     "execution_count": 23,
     "metadata": {},
     "output_type": "execute_result"
    }
   ],
   "source": [
    "formula = pd.DataFrame.from_dict({\n",
    "    \"ap-flour\": 100, \n",
    "    \"sugar\": 13,\n",
    "    \"salt\": 2.3,\n",
    "    \"yeast\": 1.9,\n",
    "    \"milk\": 33.7, \n",
    "    \"eggs\": 23.1,\n",
    "    \"vanilla extract\": 0.8,\n",
    "    \"butter\": 35.6\n",
    "}, orient='index', columns=[\"baker%\"])\n",
    "print (\"overall formula\")\n",
    "formula_total = formula['baker%'].sum()\n",
    "print(\"overall formula total = %s%%\" % formula_total)\n",
    "formula"
   ]
  },
  {
   "cell_type": "code",
   "execution_count": 24,
   "metadata": {},
   "outputs": [
    {
     "data": {
      "text/html": [
       "<div>\n",
       "<style scoped>\n",
       "    .dataframe tbody tr th:only-of-type {\n",
       "        vertical-align: middle;\n",
       "    }\n",
       "\n",
       "    .dataframe tbody tr th {\n",
       "        vertical-align: top;\n",
       "    }\n",
       "\n",
       "    .dataframe thead th {\n",
       "        text-align: right;\n",
       "    }\n",
       "</style>\n",
       "<table border=\"1\" class=\"dataframe\">\n",
       "  <thead>\n",
       "    <tr style=\"text-align: right;\">\n",
       "      <th></th>\n",
       "      <th>baker%</th>\n",
       "      <th>grams</th>\n",
       "      <th>oz</th>\n",
       "    </tr>\n",
       "  </thead>\n",
       "  <tbody>\n",
       "    <tr>\n",
       "      <th>ap-flour</th>\n",
       "      <td>100.0</td>\n",
       "      <td>2,167</td>\n",
       "      <td>76.45</td>\n",
       "    </tr>\n",
       "    <tr>\n",
       "      <th>sugar</th>\n",
       "      <td>13.0</td>\n",
       "      <td>282</td>\n",
       "      <td>9.94</td>\n",
       "    </tr>\n",
       "    <tr>\n",
       "      <th>salt</th>\n",
       "      <td>2.3</td>\n",
       "      <td>50</td>\n",
       "      <td>1.76</td>\n",
       "    </tr>\n",
       "    <tr>\n",
       "      <th>yeast</th>\n",
       "      <td>1.9</td>\n",
       "      <td>41</td>\n",
       "      <td>1.45</td>\n",
       "    </tr>\n",
       "    <tr>\n",
       "      <th>milk</th>\n",
       "      <td>33.7</td>\n",
       "      <td>730</td>\n",
       "      <td>25.76</td>\n",
       "    </tr>\n",
       "    <tr>\n",
       "      <th>eggs</th>\n",
       "      <td>23.1</td>\n",
       "      <td>501</td>\n",
       "      <td>17.66</td>\n",
       "    </tr>\n",
       "    <tr>\n",
       "      <th>vanilla extract</th>\n",
       "      <td>0.8</td>\n",
       "      <td>17</td>\n",
       "      <td>0.61</td>\n",
       "    </tr>\n",
       "    <tr>\n",
       "      <th>butter</th>\n",
       "      <td>35.6</td>\n",
       "      <td>772</td>\n",
       "      <td>27.22</td>\n",
       "    </tr>\n",
       "  </tbody>\n",
       "</table>\n",
       "</div>"
      ],
      "text/plain": [
       "                 baker%  grams     oz\n",
       "ap-flour          100.0  2,167  76.45\n",
       "sugar              13.0    282   9.94\n",
       "salt                2.3     50   1.76\n",
       "yeast               1.9     41   1.45\n",
       "milk               33.7    730  25.76\n",
       "eggs               23.1    501  17.66\n",
       "vanilla extract     0.8     17   0.61\n",
       "butter             35.6    772  27.22"
      ]
     },
     "execution_count": 24,
     "metadata": {},
     "output_type": "execute_result"
    }
   ],
   "source": [
    "# Calculate oz and grams as numeric values first\n",
    "formula['grams'] = formula['baker%'] * total_weight / formula_total\n",
    "formula['oz'] = formula['grams'] / grams_per_ounce\n",
    "\n",
    "# Format oz and grams as strings for display\n",
    "formula['oz'] = formula['oz'].apply(lambda x: '{:,.2f}'.format(x))\n",
    "formula['grams'] = formula['grams'].apply(lambda x: '{:,.0f}'.format(x))\n",
    "\n",
    "formula = formula[['baker%', 'grams', 'oz']]\n",
    "formula"
   ]
  }
 ],
 "metadata": {
  "kernelspec": {
   "display_name": ".venv",
   "language": "python",
   "name": "python3"
  },
  "language_info": {
   "codemirror_mode": {
    "name": "ipython",
    "version": 3
   },
   "file_extension": ".py",
   "mimetype": "text/x-python",
   "name": "python",
   "nbconvert_exporter": "python",
   "pygments_lexer": "ipython3",
   "version": "3.13.3"
  }
 },
 "nbformat": 4,
 "nbformat_minor": 2
}
