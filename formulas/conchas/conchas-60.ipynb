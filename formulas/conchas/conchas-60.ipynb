{
 "cells": [
  {
   "cell_type": "markdown",
   "metadata": {},
   "source": [
    "## Conchas\n",
    "\n",
    "- From https://cooking.nytimes.com/recipes/1023045-conchas\n",
    "- topping from https://www.mexicoinmykitchen.com/concha-recipe"
   ]
  },
  {
   "cell_type": "code",
   "execution_count": 1,
   "metadata": {},
   "outputs": [],
   "source": [
    "import sys\n",
    "sys.path.append('../..')\n",
    "from breadsheet_utils import RecipeCalculator, create_formula, format_and_display"
   ]
  },
  {
   "cell_type": "code",
   "execution_count": 2,
   "metadata": {},
   "outputs": [],
   "source": [
    "formula = create_formula({\n",
    "    \"ap-flour\": 100, \n",
    "    \"sugar\": 13,\n",
    "    \"salt\": 2.3,\n",
    "    \"yeast\": 1.9,\n",
    "    \"milk\": 33.7, \n",
    "    \"eggs\": 23.1,\n",
    "    \"vanilla extract\": 0.8,\n",
    "    \"butter\": 35.6\n",
    "})\n",
    "steps= '''\n",
    "- overnight bulk fermentation\n",
    "- divide & shape\n",
    "- add topping\n",
    "- final fermentation: 1.5-2 hrs\n",
    "- bake at 375, 20-25 min\n",
    "\n",
    "Topping for 15 rolls:\n",
    "\n",
    "- 100 grams Vegetable Shortening \n",
    "- 100 grams Confectioner Sugar\n",
    "- 120 grams All-Purpose Flour\n",
    "\n",
    "For Chocolate:\n",
    "- Add 5 grams Cocoa powder (for chocolate)\n",
    "\n",
    "For Vanilla:\n",
    "- Add 1T vanilla extract\n",
    "'''\n",
    "title=\"Conchas\""
   ]
  },
  {
   "cell_type": "code",
   "execution_count": 3,
   "metadata": {},
   "outputs": [
    {
     "name": "stdout",
     "output_type": "stream",
     "text": [
      "60 loaves at 76 grams\n",
      "total weight: 4,560.00 grams\n"
     ]
    }
   ],
   "source": [
    "calc = RecipeCalculator(\n",
    "    num_loaves=60, \n",
    "    weight_grams=76\n",
    ")\n",
    "calc.print_batch_info()"
   ]
  },
  {
   "cell_type": "code",
   "execution_count": 4,
   "metadata": {},
   "outputs": [
    {
     "name": "stdout",
     "output_type": "stream",
     "text": [
      "Conchas\n",
      "\n",
      "\n",
      "- overnight bulk fermentation\n",
      "- divide & shape\n",
      "- add topping\n",
      "- final fermentation: 1.5-2 hrs\n",
      "- bake at 375, 20-25 min\n",
      "\n",
      "Topping for 15 rolls:\n",
      "\n",
      "- 100 grams Vegetable Shortening \n",
      "- 100 grams Confectioner Sugar\n",
      "- 120 grams All-Purpose Flour\n",
      "\n",
      "For Chocolate:\n",
      "- Add 5 grams Cocoa powder (for chocolate)\n",
      "\n",
      "For Vanilla:\n",
      "- Add 1T vanilla extract\n",
      "\n",
      "\n",
      "60 loaves at 76 grams\n",
      "overall formula total = 210.4%\n",
      "\n",
      "|                 |   baker% | grams   |    oz |\n",
      "|:----------------|---------:|:--------|------:|\n",
      "| ap-flour        |    100   | 2,167   | 76.45 |\n",
      "| sugar           |     13   | 282     |  9.94 |\n",
      "| salt            |      2   | 50      |  1.76 |\n",
      "| yeast           |      1.9 | 41      |  1.45 |\n",
      "| milk            |     34   | 730     | 25.76 |\n",
      "| eggs            |     23   | 501     | 17.66 |\n",
      "| vanilla extract |      0.8 | 17      |  0.61 |\n",
      "| butter          |     36   | 772     | 27.22 |\n"
     ]
    },
    {
     "data": {
      "text/html": [
       "<div>\n",
       "<style scoped>\n",
       "    .dataframe tbody tr th:only-of-type {\n",
       "        vertical-align: middle;\n",
       "    }\n",
       "\n",
       "    .dataframe tbody tr th {\n",
       "        vertical-align: top;\n",
       "    }\n",
       "\n",
       "    .dataframe thead th {\n",
       "        text-align: right;\n",
       "    }\n",
       "</style>\n",
       "<table border=\"1\" class=\"dataframe\">\n",
       "  <thead>\n",
       "    <tr style=\"text-align: right;\">\n",
       "      <th></th>\n",
       "      <th>baker%</th>\n",
       "      <th>grams</th>\n",
       "      <th>oz</th>\n",
       "    </tr>\n",
       "  </thead>\n",
       "  <tbody>\n",
       "    <tr>\n",
       "      <th>ap-flour</th>\n",
       "      <td>100</td>\n",
       "      <td>2,167</td>\n",
       "      <td>76.45</td>\n",
       "    </tr>\n",
       "    <tr>\n",
       "      <th>sugar</th>\n",
       "      <td>13</td>\n",
       "      <td>282</td>\n",
       "      <td>9.94</td>\n",
       "    </tr>\n",
       "    <tr>\n",
       "      <th>salt</th>\n",
       "      <td>2</td>\n",
       "      <td>50</td>\n",
       "      <td>1.76</td>\n",
       "    </tr>\n",
       "    <tr>\n",
       "      <th>yeast</th>\n",
       "      <td>1.9</td>\n",
       "      <td>41</td>\n",
       "      <td>1.45</td>\n",
       "    </tr>\n",
       "    <tr>\n",
       "      <th>milk</th>\n",
       "      <td>34</td>\n",
       "      <td>730</td>\n",
       "      <td>25.76</td>\n",
       "    </tr>\n",
       "    <tr>\n",
       "      <th>eggs</th>\n",
       "      <td>23</td>\n",
       "      <td>501</td>\n",
       "      <td>17.66</td>\n",
       "    </tr>\n",
       "    <tr>\n",
       "      <th>vanilla extract</th>\n",
       "      <td>0.8</td>\n",
       "      <td>17</td>\n",
       "      <td>0.61</td>\n",
       "    </tr>\n",
       "    <tr>\n",
       "      <th>butter</th>\n",
       "      <td>36</td>\n",
       "      <td>772</td>\n",
       "      <td>27.22</td>\n",
       "    </tr>\n",
       "  </tbody>\n",
       "</table>\n",
       "</div>"
      ],
      "text/plain": [
       "                baker%  grams     oz\n",
       "ap-flour           100  2,167  76.45\n",
       "sugar               13    282   9.94\n",
       "salt                 2     50   1.76\n",
       "yeast              1.9     41   1.45\n",
       "milk                34    730  25.76\n",
       "eggs                23    501  17.66\n",
       "vanilla extract    0.8     17   0.61\n",
       "butter              36    772  27.22"
      ]
     },
     "execution_count": 4,
     "metadata": {},
     "output_type": "execute_result"
    }
   ],
   "source": [
    "final_dough = calc.calculate_straight_dough(formula)\n",
    "format_and_display(final_dough, calc, title=title, steps=steps)"
   ]
  }
 ],
 "metadata": {
  "kernelspec": {
   "display_name": ".venv",
   "language": "python",
   "name": "python3"
  },
  "language_info": {
   "codemirror_mode": {
    "name": "ipython",
    "version": 3
   },
   "file_extension": ".py",
   "mimetype": "text/x-python",
   "name": "python",
   "nbconvert_exporter": "python",
   "pygments_lexer": "ipython3",
   "version": "3.13.3"
  }
 },
 "nbformat": 4,
 "nbformat_minor": 2
}
