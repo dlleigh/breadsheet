{
 "cells": [
  {
   "attachments": {},
   "cell_type": "markdown",
   "metadata": {},
   "source": [
    "## Pizza Dough \n",
    "\n",
    "- Proof at 67 degrees, 48-72 hours, re-shape after 24 hours"
   ]
  },
  {
   "cell_type": "code",
   "execution_count": 1,
   "metadata": {
    "hide_input": false
   },
   "outputs": [],
   "source": [
    "import pandas as pd\n",
    "grams_per_ounce = 28.3495"
   ]
  },
  {
   "cell_type": "code",
   "execution_count": 2,
   "metadata": {},
   "outputs": [],
   "source": [
    "num_loaves = 4\n",
    "num_pounds = 0\n",
    "num_ounces = 0\n",
    "num_grams = 200"
   ]
  },
  {
   "cell_type": "code",
   "execution_count": 3,
   "metadata": {},
   "outputs": [
    {
     "name": "stdout",
     "output_type": "stream",
     "text": [
      "4 loaves at 200 grams\n",
      "total weight: 800.00 grams\n"
     ]
    }
   ],
   "source": [
    "loaf_weight = (num_pounds * 16 + num_ounces) * grams_per_ounce + num_grams\n",
    "total_weight = (num_loaves * loaf_weight)\n",
    "print (\"{:,.0f} loaves at {:,.0f} grams\".\n",
    "       format(num_loaves, loaf_weight, num_pounds, num_ounces))\n",
    "print (\"total weight: {:,.2f} grams\".format(total_weight,total_weight * grams_per_ounce))"
   ]
  },
  {
   "cell_type": "code",
   "execution_count": 4,
   "metadata": {},
   "outputs": [
    {
     "name": "stdout",
     "output_type": "stream",
     "text": [
      "overall formula\n",
      "overall formula total = 160.915%\n"
     ]
    },
    {
     "data": {
      "text/html": [
       "<div>\n",
       "<style scoped>\n",
       "    .dataframe tbody tr th:only-of-type {\n",
       "        vertical-align: middle;\n",
       "    }\n",
       "\n",
       "    .dataframe tbody tr th {\n",
       "        vertical-align: top;\n",
       "    }\n",
       "\n",
       "    .dataframe thead th {\n",
       "        text-align: right;\n",
       "    }\n",
       "</style>\n",
       "<table border=\"1\" class=\"dataframe\">\n",
       "  <thead>\n",
       "    <tr style=\"text-align: right;\">\n",
       "      <th></th>\n",
       "      <th>baker%</th>\n",
       "    </tr>\n",
       "  </thead>\n",
       "  <tbody>\n",
       "    <tr>\n",
       "      <th>ap-flour</th>\n",
       "      <td>100.000</td>\n",
       "    </tr>\n",
       "    <tr>\n",
       "      <th>water</th>\n",
       "      <td>58.000</td>\n",
       "    </tr>\n",
       "    <tr>\n",
       "      <th>yeast</th>\n",
       "      <td>0.015</td>\n",
       "    </tr>\n",
       "    <tr>\n",
       "      <th>salt</th>\n",
       "      <td>2.900</td>\n",
       "    </tr>\n",
       "  </tbody>\n",
       "</table>\n",
       "</div>"
      ],
      "text/plain": [
       "           baker%\n",
       "ap-flour  100.000\n",
       "water      58.000\n",
       "yeast       0.015\n",
       "salt        2.900"
      ]
     },
     "execution_count": 4,
     "metadata": {},
     "output_type": "execute_result"
    }
   ],
   "source": [
    "formula = pd.DataFrame.from_dict({\n",
    "    \"ap-flour\": 100, \n",
    "    \"water\": 58, \n",
    "    \"yeast\": .015,\n",
    "    \"salt\": 2.9,\n",
    "}, orient='index', columns=[\"baker%\"])\n",
    "print (\"overall formula\")\n",
    "formula_total = formula['baker%'].sum()\n",
    "print(\"overall formula total = %s%%\" % formula_total)\n",
    "formula"
   ]
  },
  {
   "cell_type": "code",
   "execution_count": 5,
   "metadata": {
    "hide_input": false
   },
   "outputs": [
    {
     "name": "stdout",
     "output_type": "stream",
     "text": [
      "final dough\n"
     ]
    },
    {
     "data": {
      "text/html": [
       "<div>\n",
       "<style scoped>\n",
       "    .dataframe tbody tr th:only-of-type {\n",
       "        vertical-align: middle;\n",
       "    }\n",
       "\n",
       "    .dataframe tbody tr th {\n",
       "        vertical-align: top;\n",
       "    }\n",
       "\n",
       "    .dataframe thead th {\n",
       "        text-align: right;\n",
       "    }\n",
       "</style>\n",
       "<table border=\"1\" class=\"dataframe\">\n",
       "  <thead>\n",
       "    <tr style=\"text-align: right;\">\n",
       "      <th></th>\n",
       "      <th>baker%</th>\n",
       "      <th>grams</th>\n",
       "      <th>oz</th>\n",
       "    </tr>\n",
       "  </thead>\n",
       "  <tbody>\n",
       "    <tr>\n",
       "      <th>ap-flour</th>\n",
       "      <td>100.000</td>\n",
       "      <td>497.16</td>\n",
       "      <td>17.5</td>\n",
       "    </tr>\n",
       "    <tr>\n",
       "      <th>water</th>\n",
       "      <td>58.000</td>\n",
       "      <td>288.35</td>\n",
       "      <td>10.2</td>\n",
       "    </tr>\n",
       "    <tr>\n",
       "      <th>yeast</th>\n",
       "      <td>0.015</td>\n",
       "      <td>0.07</td>\n",
       "      <td>0.0</td>\n",
       "    </tr>\n",
       "    <tr>\n",
       "      <th>salt</th>\n",
       "      <td>2.900</td>\n",
       "      <td>14.42</td>\n",
       "      <td>0.5</td>\n",
       "    </tr>\n",
       "  </tbody>\n",
       "</table>\n",
       "</div>"
      ],
      "text/plain": [
       "           baker%   grams    oz\n",
       "ap-flour  100.000  497.16  17.5\n",
       "water      58.000  288.35  10.2\n",
       "yeast       0.015    0.07   0.0\n",
       "salt        2.900   14.42   0.5"
      ]
     },
     "execution_count": 5,
     "metadata": {},
     "output_type": "execute_result"
    }
   ],
   "source": [
    "final_dough = formula\n",
    "final_dough['grams'] = final_dough.apply(lambda row: '{:.2f}'.format(row['baker%']*total_weight / formula_total), axis=1)\n",
    "final_dough['oz'] = final_dough.apply(lambda row: '{:,.1f}'.format(float(row['grams'])/grams_per_ounce), axis=1)\n",
    "final_dough = final_dough[['baker%', 'grams', 'oz']]\n",
    "print(\"final dough\")\n",
    "final_dough"
   ]
  }
 ],
 "metadata": {
  "hide_input": false,
  "kernelspec": {
   "display_name": "Python 3.9.13 64-bit",
   "language": "python",
   "name": "python3"
  },
  "language_info": {
   "codemirror_mode": {
    "name": "ipython",
    "version": 3
   },
   "file_extension": ".py",
   "mimetype": "text/x-python",
   "name": "python",
   "nbconvert_exporter": "python",
   "pygments_lexer": "ipython3",
   "version": "3.9.6"
  },
  "vscode": {
   "interpreter": {
    "hash": "aee8b7b246df8f9039afb4144a1f6fd8d2ca17a180786b69acc140d282b71a49"
   }
  }
 },
 "nbformat": 4,
 "nbformat_minor": 2
}
