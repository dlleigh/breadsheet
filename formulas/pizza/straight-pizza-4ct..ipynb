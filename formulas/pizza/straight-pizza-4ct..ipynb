{
 "cells": [
  {
   "cell_type": "markdown",
   "metadata": {},
   "source": [
    "## 4-hour Pizza Dough\n",
    "\n",
    "From: _From The Wood-Fired Oven_ by Richard Miscovich (pg 141)"
   ]
  },
  {
   "cell_type": "code",
   "execution_count": 5,
   "metadata": {
    "hide_input": false
   },
   "outputs": [],
   "source": [
    "import sys\n",
    "sys.path.append('../..')\n",
    "from breadsheet_utils import RecipeCalculator, create_formula, format_and_display"
   ]
  },
  {
   "cell_type": "code",
   "execution_count": 6,
   "metadata": {},
   "outputs": [
    {
     "name": "stdout",
     "output_type": "stream",
     "text": [
      "4 loaves at 283 grams\n",
      "total weight: 1,132.00 grams\n"
     ]
    }
   ],
   "source": [
    "calc = RecipeCalculator(\n",
    "    num_loaves=4, \n",
    "    weight_grams=283\n",
    ")\n",
    "calc.print_batch_info()"
   ]
  },
  {
   "cell_type": "code",
   "execution_count": 7,
   "metadata": {},
   "outputs": [],
   "source": [
    "formula = create_formula({\n",
    "    \"ap-flour\": 100, \n",
    "    \"water\": 65, \n",
    "    \"yeast\": 0.2,\n",
    "    \"salt\": 1.8\n",
    "})\n",
    "steps= '''\n",
    "- Autolyse: 20-30 min\n",
    "- Divide\n",
    "- Proof 4-5 hours\n",
    "'''\n",
    "title=\"Pizza\""
   ]
  },
  {
   "cell_type": "code",
   "execution_count": 8,
   "metadata": {
    "hide_input": false
   },
   "outputs": [
    {
     "name": "stdout",
     "output_type": "stream",
     "text": [
      "Pizza\n",
      "\n",
      "\n",
      "- Autolyse: 20-30 min\n",
      "- Divide\n",
      "- Proof 4-5 hours\n",
      "\n",
      "\n",
      "4 loaves at 283 grams\n",
      "overall formula total = 167.0%\n",
      "\n",
      "|          |   baker% |   grams |    oz |\n",
      "|:---------|---------:|--------:|------:|\n",
      "| ap-flour |    100   |  678    | 23.91 |\n",
      "| water    |     65   |  441    | 15.54 |\n",
      "| yeast    |      0.2 |    1.36 |  0.05 |\n",
      "| salt     |      1.8 |   12    |  0.43 |\n"
     ]
    },
    {
     "data": {
      "text/html": [
       "<div>\n",
       "<style scoped>\n",
       "    .dataframe tbody tr th:only-of-type {\n",
       "        vertical-align: middle;\n",
       "    }\n",
       "\n",
       "    .dataframe tbody tr th {\n",
       "        vertical-align: top;\n",
       "    }\n",
       "\n",
       "    .dataframe thead th {\n",
       "        text-align: right;\n",
       "    }\n",
       "</style>\n",
       "<table border=\"1\" class=\"dataframe\">\n",
       "  <thead>\n",
       "    <tr style=\"text-align: right;\">\n",
       "      <th></th>\n",
       "      <th>baker%</th>\n",
       "      <th>grams</th>\n",
       "      <th>oz</th>\n",
       "    </tr>\n",
       "  </thead>\n",
       "  <tbody>\n",
       "    <tr>\n",
       "      <th>ap-flour</th>\n",
       "      <td>100</td>\n",
       "      <td>678</td>\n",
       "      <td>23.91</td>\n",
       "    </tr>\n",
       "    <tr>\n",
       "      <th>water</th>\n",
       "      <td>65</td>\n",
       "      <td>441</td>\n",
       "      <td>15.54</td>\n",
       "    </tr>\n",
       "    <tr>\n",
       "      <th>yeast</th>\n",
       "      <td>0.2</td>\n",
       "      <td>1.36</td>\n",
       "      <td>0.05</td>\n",
       "    </tr>\n",
       "    <tr>\n",
       "      <th>salt</th>\n",
       "      <td>1.8</td>\n",
       "      <td>12</td>\n",
       "      <td>0.43</td>\n",
       "    </tr>\n",
       "  </tbody>\n",
       "</table>\n",
       "</div>"
      ],
      "text/plain": [
       "         baker% grams     oz\n",
       "ap-flour    100   678  23.91\n",
       "water        65   441  15.54\n",
       "yeast       0.2  1.36   0.05\n",
       "salt        1.8    12   0.43"
      ]
     },
     "execution_count": 8,
     "metadata": {},
     "output_type": "execute_result"
    }
   ],
   "source": [
    "final_dough = calc.calculate_straight_dough(formula)\n",
    "format_and_display(final_dough, calc, title=title,steps=steps)"
   ]
  }
 ],
 "metadata": {
  "hide_input": false,
  "kernelspec": {
   "display_name": ".venv",
   "language": "python",
   "name": "python3"
  },
  "language_info": {
   "codemirror_mode": {
    "name": "ipython",
    "version": 3
   },
   "file_extension": ".py",
   "mimetype": "text/x-python",
   "name": "python",
   "nbconvert_exporter": "python",
   "pygments_lexer": "ipython3",
   "version": "3.13.3"
  },
  "metadata": {
   "interpreter": {
    "hash": "ac2eaa0ea0ebeafcc7822e65e46aa9d4f966f30b695406963e145ea4a91cd4fc"
   }
  }
 },
 "nbformat": 4,
 "nbformat_minor": 2
}
