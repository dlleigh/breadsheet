{
 "cells": [
  {
   "cell_type": "markdown",
   "metadata": {},
   "source": [
    "## Ciabattini\n"
   ]
  },
  {
   "cell_type": "code",
   "execution_count": 5,
   "metadata": {},
   "outputs": [],
   "source": [
    "import sys\n",
    "sys.path.append('../..')\n",
    "from breadsheet_utils import PrefermentCalculator, create_formula, format_and_display"
   ]
  },
  {
   "cell_type": "code",
   "execution_count": 6,
   "metadata": {},
   "outputs": [
    {
     "name": "stdout",
     "output_type": "stream",
     "text": [
      "45 loaves at 71 grams\n",
      "total weight: 3,189.32 grams\n"
     ]
    }
   ],
   "source": [
    "calc = PrefermentCalculator(\n",
    "    num_loaves=45, \n",
    "    weight_ounces=2.5\n",
    ")\n",
    "calc.print_batch_info()"
   ]
  },
  {
   "cell_type": "code",
   "execution_count": 7,
   "metadata": {},
   "outputs": [
    {
     "name": "stdout",
     "output_type": "stream",
     "text": [
      "Ciabattini\n",
      "\n",
      "\n",
      "- desired dough temp: 75F\n",
      "- bulk fermentation: 3hrs, fold twice\n",
      "- divide & shape\n",
      "- final fermentation: 1.5 hrs\n",
      "\n",
      "\n",
      "45 loaves at 71 grams\n",
      "overall formula total = 235.5%\n",
      "\n",
      "Poolish:\n",
      "\n",
      "|       |   baker% |   grams |    oz |\n",
      "|:------|---------:|--------:|------:|\n",
      "| flour |   100    |  545    | 19.24 |\n",
      "| water |   100    |  545    | 19.24 |\n",
      "| yeast |     0.09 |    0.48 |  0.02 |\n",
      "\n",
      "Final Dough:\n",
      "\n",
      "|         |   baker% | grams   |    oz |\n",
      "|:--------|---------:|:--------|------:|\n",
      "| flour   |   100    | 1,273   | 44.89 |\n",
      "| water   |    73    | 782     | 27.57 |\n",
      "| yeast   |     0.44 | 7.52    |  0.27 |\n",
      "| salt    |     2    | 36      |  1.28 |\n",
      "| poolish |    60    | 1,091   | 38.49 |\n"
     ]
    },
    {
     "data": {
      "text/html": [
       "<div>\n",
       "<style scoped>\n",
       "    .dataframe tbody tr th:only-of-type {\n",
       "        vertical-align: middle;\n",
       "    }\n",
       "\n",
       "    .dataframe tbody tr th {\n",
       "        vertical-align: top;\n",
       "    }\n",
       "\n",
       "    .dataframe thead th {\n",
       "        text-align: right;\n",
       "    }\n",
       "</style>\n",
       "<table border=\"1\" class=\"dataframe\">\n",
       "  <thead>\n",
       "    <tr style=\"text-align: right;\">\n",
       "      <th></th>\n",
       "      <th>baker%</th>\n",
       "      <th>grams</th>\n",
       "      <th>oz</th>\n",
       "    </tr>\n",
       "  </thead>\n",
       "  <tbody>\n",
       "    <tr>\n",
       "      <th>flour</th>\n",
       "      <td>100</td>\n",
       "      <td>1,273</td>\n",
       "      <td>44.89</td>\n",
       "    </tr>\n",
       "    <tr>\n",
       "      <th>water</th>\n",
       "      <td>73</td>\n",
       "      <td>782</td>\n",
       "      <td>27.57</td>\n",
       "    </tr>\n",
       "    <tr>\n",
       "      <th>yeast</th>\n",
       "      <td>0.44</td>\n",
       "      <td>7.52</td>\n",
       "      <td>0.27</td>\n",
       "    </tr>\n",
       "    <tr>\n",
       "      <th>salt</th>\n",
       "      <td>2.00</td>\n",
       "      <td>36</td>\n",
       "      <td>1.28</td>\n",
       "    </tr>\n",
       "    <tr>\n",
       "      <th>poolish</th>\n",
       "      <td>60</td>\n",
       "      <td>1,091</td>\n",
       "      <td>38.49</td>\n",
       "    </tr>\n",
       "  </tbody>\n",
       "</table>\n",
       "</div>"
      ],
      "text/plain": [
       "        baker%  grams     oz\n",
       "flour      100  1,273  44.89\n",
       "water       73    782  27.57\n",
       "yeast     0.44   7.52   0.27\n",
       "salt      2.00     36   1.28\n",
       "poolish     60  1,091  38.49"
      ]
     },
     "execution_count": 7,
     "metadata": {},
     "output_type": "execute_result"
    }
   ],
   "source": [
    "pre_fermented_flour_ratio = .30\n",
    "formula = create_formula({\n",
    "    \"flour\": 100, \n",
    "    \"water\": 73, \n",
    "    \"yeast\": .44,\n",
    "    \"salt\": 2,\n",
    "})\n",
    "\n",
    "poolish = create_formula({\n",
    "    \"flour\": 100,\n",
    "    \"water\": 100, \n",
    "    \"yeast\": 0.088\n",
    "})\n",
    "\n",
    "title='Ciabattini'\n",
    "steps='''\n",
    "- desired dough temp: 75F\n",
    "- bulk fermentation: 3hrs, fold twice\n",
    "- divide & shape\n",
    "- final fermentation: 1.5 hrs\n",
    "'''\n",
    "poolish_weights, final_dough = calc.calculate_poolish_recipe(formula, poolish, \n",
    "                                                             pre_fermented_flour_ratio=pre_fermented_flour_ratio)\n",
    "\n",
    "format_and_display(formula=final_dough, poolish=poolish_weights,\n",
    "                   calc=calc, title=title, steps=steps)"
   ]
  }
 ],
 "metadata": {
  "kernelspec": {
   "display_name": ".venv",
   "language": "python",
   "name": "python3"
  },
  "language_info": {
   "codemirror_mode": {
    "name": "ipython",
    "version": 3
   },
   "file_extension": ".py",
   "mimetype": "text/x-python",
   "name": "python",
   "nbconvert_exporter": "python",
   "pygments_lexer": "ipython3",
   "version": "3.13.3"
  }
 },
 "nbformat": 4,
 "nbformat_minor": 2
}
