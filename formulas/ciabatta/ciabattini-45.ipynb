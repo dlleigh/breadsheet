{
 "cells": [
  {
   "cell_type": "markdown",
   "metadata": {},
   "source": [
    "## Ciabattini\n",
    "\n",
    "- bulk fermentation: 3hrs, fold twice\n",
    "- divide & shape\n",
    "- final fermentation: 1.5 hrs\n"
   ]
  },
  {
   "cell_type": "code",
   "execution_count": 53,
   "metadata": {
    "hide_input": false
   },
   "outputs": [],
   "source": [
    "import pandas as pd\n",
    "grams_per_ounce = 28.3495"
   ]
  },
  {
   "cell_type": "code",
   "execution_count": 54,
   "metadata": {},
   "outputs": [],
   "source": [
    "formatter = {\n",
    "    'grams': lambda x: f\"{x:,.0f}\" if x > 10 else f\"{x:.2f}\",\n",
    "    'oz': lambda x: f\"{x:,.0f}\" if x > 100 else f\"{x:.2f}\",\n",
    "    'baker%': lambda x: f\"{x:.0f}\" if x > 2 else f\"{x:.1f}\"\n",
    "}"
   ]
  },
  {
   "cell_type": "code",
   "execution_count": 55,
   "metadata": {},
   "outputs": [],
   "source": [
    "num_loaves = 45\n",
    "num_pounds = 0\n",
    "num_ounces = 2.5\n",
    "num_grams = 0"
   ]
  },
  {
   "cell_type": "code",
   "execution_count": 56,
   "metadata": {},
   "outputs": [
    {
     "name": "stdout",
     "output_type": "stream",
     "text": [
      "45 loaves at 71 grams\n",
      "total weight: 3,189.32 grams\n"
     ]
    }
   ],
   "source": [
    "loaf_weight = (num_pounds * 16 + num_ounces) * grams_per_ounce + num_grams\n",
    "total_weight = (num_loaves * loaf_weight)\n",
    "print (\"{:,.0f} loaves at {:,.0f} grams\".\n",
    "       format(num_loaves, loaf_weight, num_pounds, num_ounces))\n",
    "print (\"total weight: {:,.2f} grams\".format(total_weight,total_weight * grams_per_ounce))"
   ]
  },
  {
   "cell_type": "code",
   "execution_count": 57,
   "metadata": {},
   "outputs": [
    {
     "name": "stdout",
     "output_type": "stream",
     "text": [
      "overall formula total = 175.4%\n"
     ]
    }
   ],
   "source": [
    "pre_fermented_flour = .30\n",
    "formula = pd.DataFrame.from_dict({\n",
    "    \"flour\": 100, \n",
    "    \"water\": 73, \n",
    "    \"yeast\": .4,\n",
    "    \"salt\": 2,\n",
    "}, orient='index', columns=[\"baker%\"])\n",
    "formula_total = formula['baker%'].sum()\n",
    "print(\"overall formula total = %s%%\" % formula_total)"
   ]
  },
  {
   "cell_type": "code",
   "execution_count": 58,
   "metadata": {},
   "outputs": [
    {
     "name": "stdout",
     "output_type": "stream",
     "text": [
      "overall formula\n"
     ]
    },
    {
     "data": {
      "text/html": [
       "<style type=\"text/css\">\n",
       "</style>\n",
       "<table id=\"T_db74f\">\n",
       "  <thead>\n",
       "    <tr>\n",
       "      <th class=\"blank level0\" >&nbsp;</th>\n",
       "      <th id=\"T_db74f_level0_col0\" class=\"col_heading level0 col0\" >baker%</th>\n",
       "      <th id=\"T_db74f_level0_col1\" class=\"col_heading level0 col1\" >grams</th>\n",
       "      <th id=\"T_db74f_level0_col2\" class=\"col_heading level0 col2\" >oz</th>\n",
       "    </tr>\n",
       "  </thead>\n",
       "  <tbody>\n",
       "    <tr>\n",
       "      <th id=\"T_db74f_level0_row0\" class=\"row_heading level0 row0\" >flour</th>\n",
       "      <td id=\"T_db74f_row0_col0\" class=\"data row0 col0\" >100</td>\n",
       "      <td id=\"T_db74f_row0_col1\" class=\"data row0 col1\" >1,818</td>\n",
       "      <td id=\"T_db74f_row0_col2\" class=\"data row0 col2\" >64.14</td>\n",
       "    </tr>\n",
       "    <tr>\n",
       "      <th id=\"T_db74f_level0_row1\" class=\"row_heading level0 row1\" >water</th>\n",
       "      <td id=\"T_db74f_row1_col0\" class=\"data row1 col0\" >73</td>\n",
       "      <td id=\"T_db74f_row1_col1\" class=\"data row1 col1\" >1,327</td>\n",
       "      <td id=\"T_db74f_row1_col2\" class=\"data row1 col2\" >46.82</td>\n",
       "    </tr>\n",
       "    <tr>\n",
       "      <th id=\"T_db74f_level0_row2\" class=\"row_heading level0 row2\" >yeast</th>\n",
       "      <td id=\"T_db74f_row2_col0\" class=\"data row2 col0\" >0.4</td>\n",
       "      <td id=\"T_db74f_row2_col1\" class=\"data row2 col1\" >7.27</td>\n",
       "      <td id=\"T_db74f_row2_col2\" class=\"data row2 col2\" >0.26</td>\n",
       "    </tr>\n",
       "    <tr>\n",
       "      <th id=\"T_db74f_level0_row3\" class=\"row_heading level0 row3\" >salt</th>\n",
       "      <td id=\"T_db74f_row3_col0\" class=\"data row3 col0\" >2.0</td>\n",
       "      <td id=\"T_db74f_row3_col1\" class=\"data row3 col1\" >36</td>\n",
       "      <td id=\"T_db74f_row3_col2\" class=\"data row3 col2\" >1.28</td>\n",
       "    </tr>\n",
       "  </tbody>\n",
       "</table>\n"
      ],
      "text/plain": [
       "<pandas.io.formats.style.Styler at 0x1236574d0>"
      ]
     },
     "execution_count": 58,
     "metadata": {},
     "output_type": "execute_result"
    }
   ],
   "source": [
    "flour_weight = formula.at['flour', 'baker%'] / formula_total * total_weight\n",
    "formula['grams'] = formula.apply(lambda row: row['baker%'] * flour_weight / 100, axis=1)\n",
    "formula['oz'] = formula.apply(lambda row: row['grams'] / grams_per_ounce, axis=1)\n",
    "print (\"overall formula\")\n",
    "\n",
    "formula[['baker%','grams','oz']].style.format(formatter)"
   ]
  },
  {
   "cell_type": "code",
   "execution_count": 59,
   "metadata": {},
   "outputs": [
    {
     "name": "stdout",
     "output_type": "stream",
     "text": [
      "poolish\n",
      "poolish total = 200.07%\n"
     ]
    },
    {
     "data": {
      "text/html": [
       "<style type=\"text/css\">\n",
       "</style>\n",
       "<table id=\"T_b137f\">\n",
       "  <thead>\n",
       "    <tr>\n",
       "      <th class=\"blank level0\" >&nbsp;</th>\n",
       "      <th id=\"T_b137f_level0_col0\" class=\"col_heading level0 col0\" >baker%</th>\n",
       "    </tr>\n",
       "  </thead>\n",
       "  <tbody>\n",
       "    <tr>\n",
       "      <th id=\"T_b137f_level0_row0\" class=\"row_heading level0 row0\" >flour</th>\n",
       "      <td id=\"T_b137f_row0_col0\" class=\"data row0 col0\" >100</td>\n",
       "    </tr>\n",
       "    <tr>\n",
       "      <th id=\"T_b137f_level0_row1\" class=\"row_heading level0 row1\" >water</th>\n",
       "      <td id=\"T_b137f_row1_col0\" class=\"data row1 col0\" >100</td>\n",
       "    </tr>\n",
       "    <tr>\n",
       "      <th id=\"T_b137f_level0_row2\" class=\"row_heading level0 row2\" >yeast</th>\n",
       "      <td id=\"T_b137f_row2_col0\" class=\"data row2 col0\" >0.1</td>\n",
       "    </tr>\n",
       "  </tbody>\n",
       "</table>\n"
      ],
      "text/plain": [
       "<pandas.io.formats.style.Styler at 0x123656850>"
      ]
     },
     "execution_count": 59,
     "metadata": {},
     "output_type": "execute_result"
    }
   ],
   "source": [
    "poolish = pd.DataFrame.from_dict({\n",
    "    \"flour\": 100,\n",
    "    \"water\": 100, \n",
    "    \"yeast\": 0.07\n",
    "}, orient='index', columns=[\"baker%\"])\n",
    "print (\"poolish\")\n",
    "poolish_total = poolish['baker%'].sum()\n",
    "print(\"poolish total = %s%%\" % poolish_total)\n",
    "poolish.style.format(formatter)"
   ]
  },
  {
   "cell_type": "code",
   "execution_count": 60,
   "metadata": {},
   "outputs": [
    {
     "name": "stdout",
     "output_type": "stream",
     "text": [
      "poolish weight = 1,091 grams\n"
     ]
    },
    {
     "data": {
      "text/html": [
       "<style type=\"text/css\">\n",
       "</style>\n",
       "<table id=\"T_1450a\">\n",
       "  <thead>\n",
       "    <tr>\n",
       "      <th class=\"blank level0\" >&nbsp;</th>\n",
       "      <th id=\"T_1450a_level0_col0\" class=\"col_heading level0 col0\" >baker%</th>\n",
       "      <th id=\"T_1450a_level0_col1\" class=\"col_heading level0 col1\" >grams</th>\n",
       "      <th id=\"T_1450a_level0_col2\" class=\"col_heading level0 col2\" >oz</th>\n",
       "    </tr>\n",
       "  </thead>\n",
       "  <tbody>\n",
       "    <tr>\n",
       "      <th id=\"T_1450a_level0_row0\" class=\"row_heading level0 row0\" >flour</th>\n",
       "      <td id=\"T_1450a_row0_col0\" class=\"data row0 col0\" >100</td>\n",
       "      <td id=\"T_1450a_row0_col1\" class=\"data row0 col1\" >545</td>\n",
       "      <td id=\"T_1450a_row0_col2\" class=\"data row0 col2\" >19.24</td>\n",
       "    </tr>\n",
       "    <tr>\n",
       "      <th id=\"T_1450a_level0_row1\" class=\"row_heading level0 row1\" >water</th>\n",
       "      <td id=\"T_1450a_row1_col0\" class=\"data row1 col0\" >100</td>\n",
       "      <td id=\"T_1450a_row1_col1\" class=\"data row1 col1\" >545</td>\n",
       "      <td id=\"T_1450a_row1_col2\" class=\"data row1 col2\" >19.24</td>\n",
       "    </tr>\n",
       "    <tr>\n",
       "      <th id=\"T_1450a_level0_row2\" class=\"row_heading level0 row2\" >yeast</th>\n",
       "      <td id=\"T_1450a_row2_col0\" class=\"data row2 col0\" >0.1</td>\n",
       "      <td id=\"T_1450a_row2_col1\" class=\"data row2 col1\" >0.38</td>\n",
       "      <td id=\"T_1450a_row2_col2\" class=\"data row2 col2\" >0.01</td>\n",
       "    </tr>\n",
       "  </tbody>\n",
       "</table>\n"
      ],
      "text/plain": [
       "<pandas.io.formats.style.Styler at 0x123657390>"
      ]
     },
     "execution_count": 60,
     "metadata": {},
     "output_type": "execute_result"
    }
   ],
   "source": [
    "poolish_flour = total_weight / formula_total * formula.at['flour','baker%'] * pre_fermented_flour\n",
    "poolish_weight = poolish_flour * poolish_total / poolish.at['flour','baker%']\n",
    "print (\"poolish weight = {:,.0f} grams\".format(poolish_weight))\n",
    "poolish['grams'] = poolish.apply(lambda row: row['baker%']*poolish_weight/poolish_total, axis=1)\n",
    "poolish['oz'] = poolish.apply(lambda row: float(row['grams']) / grams_per_ounce, axis=1)\n",
    "\n",
    "poolish[['baker%', 'grams', 'oz']].style.format(formatter)"
   ]
  },
  {
   "cell_type": "code",
   "execution_count": 61,
   "metadata": {},
   "outputs": [
    {
     "name": "stdout",
     "output_type": "stream",
     "text": [
      "final dough\n"
     ]
    },
    {
     "data": {
      "text/html": [
       "<style type=\"text/css\">\n",
       "</style>\n",
       "<table id=\"T_658b5\">\n",
       "  <thead>\n",
       "    <tr>\n",
       "      <th class=\"blank level0\" >&nbsp;</th>\n",
       "      <th id=\"T_658b5_level0_col0\" class=\"col_heading level0 col0\" >baker%</th>\n",
       "      <th id=\"T_658b5_level0_col1\" class=\"col_heading level0 col1\" >grams</th>\n",
       "      <th id=\"T_658b5_level0_col2\" class=\"col_heading level0 col2\" >oz</th>\n",
       "    </tr>\n",
       "  </thead>\n",
       "  <tbody>\n",
       "    <tr>\n",
       "      <th id=\"T_658b5_level0_row0\" class=\"row_heading level0 row0\" >flour</th>\n",
       "      <td id=\"T_658b5_row0_col0\" class=\"data row0 col0\" >100</td>\n",
       "      <td id=\"T_658b5_row0_col1\" class=\"data row0 col1\" >1,273</td>\n",
       "      <td id=\"T_658b5_row0_col2\" class=\"data row0 col2\" >44.90</td>\n",
       "    </tr>\n",
       "    <tr>\n",
       "      <th id=\"T_658b5_level0_row1\" class=\"row_heading level0 row1\" >water</th>\n",
       "      <td id=\"T_658b5_row1_col0\" class=\"data row1 col0\" >73</td>\n",
       "      <td id=\"T_658b5_row1_col1\" class=\"data row1 col1\" >782</td>\n",
       "      <td id=\"T_658b5_row1_col2\" class=\"data row1 col2\" >27.58</td>\n",
       "    </tr>\n",
       "    <tr>\n",
       "      <th id=\"T_658b5_level0_row2\" class=\"row_heading level0 row2\" >yeast</th>\n",
       "      <td id=\"T_658b5_row2_col0\" class=\"data row2 col0\" >0.4</td>\n",
       "      <td id=\"T_658b5_row2_col1\" class=\"data row2 col1\" >6.89</td>\n",
       "      <td id=\"T_658b5_row2_col2\" class=\"data row2 col2\" >0.24</td>\n",
       "    </tr>\n",
       "    <tr>\n",
       "      <th id=\"T_658b5_level0_row3\" class=\"row_heading level0 row3\" >salt</th>\n",
       "      <td id=\"T_658b5_row3_col0\" class=\"data row3 col0\" >2.0</td>\n",
       "      <td id=\"T_658b5_row3_col1\" class=\"data row3 col1\" >36</td>\n",
       "      <td id=\"T_658b5_row3_col2\" class=\"data row3 col2\" >1.28</td>\n",
       "    </tr>\n",
       "    <tr>\n",
       "      <th id=\"T_658b5_level0_row4\" class=\"row_heading level0 row4\" >poolish</th>\n",
       "      <td id=\"T_658b5_row4_col0\" class=\"data row4 col0\" >60</td>\n",
       "      <td id=\"T_658b5_row4_col1\" class=\"data row4 col1\" >1,091</td>\n",
       "      <td id=\"T_658b5_row4_col2\" class=\"data row4 col2\" >38.50</td>\n",
       "    </tr>\n",
       "  </tbody>\n",
       "</table>\n"
      ],
      "text/plain": [
       "<pandas.io.formats.style.Styler at 0x123657110>"
      ]
     },
     "execution_count": 61,
     "metadata": {},
     "output_type": "execute_result"
    }
   ],
   "source": [
    "final_dough = formula.copy()\n",
    "final_dough.at['poolish','grams'] = poolish_weight\n",
    "final_dough.at['poolish','baker%'] = poolish_weight / flour_weight * 100\n",
    "for index, row in poolish.iterrows():\n",
    "    final_dough.at[index,'grams'] = final_dough.at[index,'grams'] - row['grams']\n",
    "final_dough['oz'] = final_dough.apply(lambda row: row['grams']/grams_per_ounce, axis=1)\n",
    "print(\"final dough\")\n",
    "final_dough[['baker%', 'grams', 'oz']].style.format(formatter)"
   ]
  },
  {
   "cell_type": "code",
   "execution_count": 62,
   "metadata": {},
   "outputs": [
    {
     "name": "stdout",
     "output_type": "stream",
     "text": [
      "|         |   baker% | grams   |    oz |\n",
      "|:--------|---------:|:--------|------:|\n",
      "| flour   |    100   | 1,273   | 44.9  |\n",
      "| water   |     73   | 782     | 27.58 |\n",
      "| yeast   |      0.4 | 6.89    |  0.24 |\n",
      "| salt    |      2   | 36      |  1.28 |\n",
      "| poolish |     60   | 1,091   | 38.5  |\n"
     ]
    }
   ],
   "source": [
    "display_df = final_dough.copy()\n",
    "for col, fmt in formatter.items():\n",
    "    if col in display_df.columns:\n",
    "        display_df[col] = display_df[col].apply(fmt)\n",
    "print(display_df.to_markdown())"
   ]
  }
 ],
 "metadata": {
  "kernelspec": {
   "display_name": ".venv",
   "language": "python",
   "name": "python3"
  },
  "language_info": {
   "codemirror_mode": {
    "name": "ipython",
    "version": 3
   },
   "file_extension": ".py",
   "mimetype": "text/x-python",
   "name": "python",
   "nbconvert_exporter": "python",
   "pygments_lexer": "ipython3",
   "version": "3.13.3"
  }
 },
 "nbformat": 4,
 "nbformat_minor": 2
}
