{
 "cells": [
  {
   "cell_type": "markdown",
   "metadata": {},
   "source": [
    "## Roasted Garlic Grissini (Breadsticks)\n",
    "\n",
    "- Cut tops off garlic and generously drizzle with olive oil\n",
    "- Roast in 380 degree oven, let cool\n",
    "- Separate garlic meat. Preserve oil and use as part of oil in formula\n",
    "- Soften butter by pounding with rolling pin\n",
    "\n",
    "\n",
    "- Bulk fermentatin: 30 min\n",
    "- Taking a small portion of dough at a time, roll to 1/4 inch thick\n",
    "- Cut with pizza knife and lay on parchment\n",
    "- Bake at 380 degrees until golden brown and crispy"
   ]
  },
  {
   "cell_type": "code",
   "execution_count": 1,
   "metadata": {
    "hide_input": false
   },
   "outputs": [],
   "source": [
    "import pandas as pd\n",
    "import numpy as np\n",
    "pd.options.mode.chained_assignment = None"
   ]
  },
  {
   "cell_type": "code",
   "execution_count": 2,
   "metadata": {},
   "outputs": [],
   "source": [
    "num_loaves = 1\n",
    "num_pounds = 4\n",
    "num_ounces = 0"
   ]
  },
  {
   "cell_type": "code",
   "execution_count": 3,
   "metadata": {},
   "outputs": [
    {
     "name": "stdout",
     "output_type": "stream",
     "text": [
      "formula total = 176.4%\n"
     ]
    },
    {
     "data": {
      "text/html": [
       "<div>\n",
       "<style scoped>\n",
       "    .dataframe tbody tr th:only-of-type {\n",
       "        vertical-align: middle;\n",
       "    }\n",
       "\n",
       "    .dataframe tbody tr th {\n",
       "        vertical-align: top;\n",
       "    }\n",
       "\n",
       "    .dataframe thead th {\n",
       "        text-align: right;\n",
       "    }\n",
       "</style>\n",
       "<table border=\"1\" class=\"dataframe\">\n",
       "  <thead>\n",
       "    <tr style=\"text-align: right;\">\n",
       "      <th></th>\n",
       "      <th>baker%</th>\n",
       "    </tr>\n",
       "  </thead>\n",
       "  <tbody>\n",
       "    <tr>\n",
       "      <th>ap-flour</th>\n",
       "      <td>100.0</td>\n",
       "    </tr>\n",
       "    <tr>\n",
       "      <th>water</th>\n",
       "      <td>52.0</td>\n",
       "    </tr>\n",
       "    <tr>\n",
       "      <th>salt</th>\n",
       "      <td>2.0</td>\n",
       "    </tr>\n",
       "    <tr>\n",
       "      <th>yeast</th>\n",
       "      <td>0.4</td>\n",
       "    </tr>\n",
       "    <tr>\n",
       "      <th>olive-oil</th>\n",
       "      <td>12.0</td>\n",
       "    </tr>\n",
       "    <tr>\n",
       "      <th>butter</th>\n",
       "      <td>10.0</td>\n",
       "    </tr>\n",
       "  </tbody>\n",
       "</table>\n",
       "</div>"
      ],
      "text/plain": [
       "           baker%\n",
       "ap-flour    100.0\n",
       "water        52.0\n",
       "salt          2.0\n",
       "yeast         0.4\n",
       "olive-oil    12.0\n",
       "butter       10.0"
      ]
     },
     "execution_count": 3,
     "metadata": {},
     "output_type": "execute_result"
    }
   ],
   "source": [
    "formula = pd.DataFrame.from_dict({\n",
    "    \"ap-flour\": 100, \n",
    "    \"water\": 52, \n",
    "    \"salt\": 2, \n",
    "    \"yeast\": 0.4, \n",
    "    \"olive-oil\": 12, \n",
    "    \"butter\": 10\n",
    "}, orient='index', columns=[\"baker%\"])\n",
    "formula_total = formula['baker%'].sum()\n",
    "print(\"formula total = %s%%\" % formula_total)\n",
    "formula"
   ]
  },
  {
   "cell_type": "code",
   "execution_count": 4,
   "metadata": {},
   "outputs": [
    {
     "name": "stdout",
     "output_type": "stream",
     "text": [
      "1 loaves\n",
      "4 pounds 0 ounces\n",
      "total weight: 64 ounces\n"
     ]
    }
   ],
   "source": [
    "total_weight = (num_loaves * num_pounds * 16 + num_loaves * num_ounces)\n",
    "print (\"%s loaves\" % num_loaves)\n",
    "print (\"%s pounds %s ounces\" % (num_pounds, num_ounces))\n",
    "print (\"total weight: %s ounces\" % total_weight )"
   ]
  },
  {
   "cell_type": "code",
   "execution_count": 5,
   "metadata": {
    "hide_input": false
   },
   "outputs": [
    {
     "data": {
      "text/html": [
       "<div>\n",
       "<style scoped>\n",
       "    .dataframe tbody tr th:only-of-type {\n",
       "        vertical-align: middle;\n",
       "    }\n",
       "\n",
       "    .dataframe tbody tr th {\n",
       "        vertical-align: top;\n",
       "    }\n",
       "\n",
       "    .dataframe thead th {\n",
       "        text-align: right;\n",
       "    }\n",
       "</style>\n",
       "<table border=\"1\" class=\"dataframe\">\n",
       "  <thead>\n",
       "    <tr style=\"text-align: right;\">\n",
       "      <th></th>\n",
       "      <th>baker%</th>\n",
       "      <th>grams</th>\n",
       "      <th>oz</th>\n",
       "    </tr>\n",
       "  </thead>\n",
       "  <tbody>\n",
       "    <tr>\n",
       "      <th>ap-flour</th>\n",
       "      <td>100.0</td>\n",
       "      <td>1,029</td>\n",
       "      <td>36.28</td>\n",
       "    </tr>\n",
       "    <tr>\n",
       "      <th>water</th>\n",
       "      <td>52.0</td>\n",
       "      <td>535</td>\n",
       "      <td>18.87</td>\n",
       "    </tr>\n",
       "    <tr>\n",
       "      <th>salt</th>\n",
       "      <td>2.0</td>\n",
       "      <td>21</td>\n",
       "      <td>0.73</td>\n",
       "    </tr>\n",
       "    <tr>\n",
       "      <th>yeast</th>\n",
       "      <td>0.4</td>\n",
       "      <td>4</td>\n",
       "      <td>0.15</td>\n",
       "    </tr>\n",
       "    <tr>\n",
       "      <th>olive-oil</th>\n",
       "      <td>12.0</td>\n",
       "      <td>123</td>\n",
       "      <td>4.35</td>\n",
       "    </tr>\n",
       "    <tr>\n",
       "      <th>butter</th>\n",
       "      <td>10.0</td>\n",
       "      <td>103</td>\n",
       "      <td>3.63</td>\n",
       "    </tr>\n",
       "  </tbody>\n",
       "</table>\n",
       "</div>"
      ],
      "text/plain": [
       "           baker%  grams     oz\n",
       "ap-flour    100.0  1,029  36.28\n",
       "water        52.0    535  18.87\n",
       "salt          2.0     21   0.73\n",
       "yeast         0.4      4   0.15\n",
       "olive-oil    12.0    123   4.35\n",
       "butter       10.0    103   3.63"
      ]
     },
     "execution_count": 5,
     "metadata": {},
     "output_type": "execute_result"
    }
   ],
   "source": [
    "formula['oz'] = formula.apply(lambda row: '{:,.2f}'.format(row['baker%']*total_weight/formula_total), axis=1)\n",
    "formula['grams'] = formula.apply(lambda row: '{:,.0f}'.format(float(row['oz'])*28.3495), axis=1)\n",
    "formula = formula[['baker%', 'grams', 'oz']]\n",
    "#formula['garlic']= ['','','meat from 2 heads roasted garlic']\n",
    "formula"
   ]
  },
  {
   "cell_type": "code",
   "execution_count": 6,
   "metadata": {},
   "outputs": [],
   "source": [
    "formula.loc['meat from 2 heads roasted garlic'] = np.nan"
   ]
  },
  {
   "cell_type": "code",
   "execution_count": 7,
   "metadata": {},
   "outputs": [
    {
     "data": {
      "text/html": [
       "<div>\n",
       "<style scoped>\n",
       "    .dataframe tbody tr th:only-of-type {\n",
       "        vertical-align: middle;\n",
       "    }\n",
       "\n",
       "    .dataframe tbody tr th {\n",
       "        vertical-align: top;\n",
       "    }\n",
       "\n",
       "    .dataframe thead th {\n",
       "        text-align: right;\n",
       "    }\n",
       "</style>\n",
       "<table border=\"1\" class=\"dataframe\">\n",
       "  <thead>\n",
       "    <tr style=\"text-align: right;\">\n",
       "      <th></th>\n",
       "      <th>baker%</th>\n",
       "      <th>grams</th>\n",
       "      <th>oz</th>\n",
       "    </tr>\n",
       "  </thead>\n",
       "  <tbody>\n",
       "    <tr>\n",
       "      <th>ap-flour</th>\n",
       "      <td>100.0</td>\n",
       "      <td>1,029</td>\n",
       "      <td>36.28</td>\n",
       "    </tr>\n",
       "    <tr>\n",
       "      <th>water</th>\n",
       "      <td>52.0</td>\n",
       "      <td>535</td>\n",
       "      <td>18.87</td>\n",
       "    </tr>\n",
       "    <tr>\n",
       "      <th>salt</th>\n",
       "      <td>2.0</td>\n",
       "      <td>21</td>\n",
       "      <td>0.73</td>\n",
       "    </tr>\n",
       "    <tr>\n",
       "      <th>yeast</th>\n",
       "      <td>0.4</td>\n",
       "      <td>4</td>\n",
       "      <td>0.15</td>\n",
       "    </tr>\n",
       "    <tr>\n",
       "      <th>olive-oil</th>\n",
       "      <td>12.0</td>\n",
       "      <td>123</td>\n",
       "      <td>4.35</td>\n",
       "    </tr>\n",
       "    <tr>\n",
       "      <th>butter</th>\n",
       "      <td>10.0</td>\n",
       "      <td>103</td>\n",
       "      <td>3.63</td>\n",
       "    </tr>\n",
       "    <tr>\n",
       "      <th>meat from 2 heads roasted garlic</th>\n",
       "      <td>NaN</td>\n",
       "      <td>NaN</td>\n",
       "      <td>NaN</td>\n",
       "    </tr>\n",
       "  </tbody>\n",
       "</table>\n",
       "</div>"
      ],
      "text/plain": [
       "                                  baker%  grams     oz\n",
       "ap-flour                           100.0  1,029  36.28\n",
       "water                               52.0    535  18.87\n",
       "salt                                 2.0     21   0.73\n",
       "yeast                                0.4      4   0.15\n",
       "olive-oil                           12.0    123   4.35\n",
       "butter                              10.0    103   3.63\n",
       "meat from 2 heads roasted garlic     NaN    NaN    NaN"
      ]
     },
     "execution_count": 7,
     "metadata": {},
     "output_type": "execute_result"
    }
   ],
   "source": [
    "formula"
   ]
  }
 ],
 "metadata": {
  "hide_input": false,
  "kernelspec": {
   "display_name": "Python 3",
   "language": "python",
   "name": "python3"
  },
  "language_info": {
   "codemirror_mode": {
    "name": "ipython",
    "version": 3
   },
   "file_extension": ".py",
   "mimetype": "text/x-python",
   "name": "python",
   "nbconvert_exporter": "python",
   "pygments_lexer": "ipython3",
   "version": "3.6.5"
  }
 },
 "nbformat": 4,
 "nbformat_minor": 2
}
