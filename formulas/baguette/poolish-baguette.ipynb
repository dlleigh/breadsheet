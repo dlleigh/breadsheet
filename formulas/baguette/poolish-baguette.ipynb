{
 "cells": [
  {
   "cell_type": "markdown",
   "metadata": {},
   "source": [
    "## Poolish Baguette\n",
    "\n",
    "- bulk fermentation: 2hrs, fold once\n",
    "- divide & preshape: 10-30 min\n",
    "- shape\n",
    "- final fermentation: 1-1.5 hrs\n",
    "- bake: ~25min\n"
   ]
  },
  {
   "cell_type": "code",
   "execution_count": 10,
   "metadata": {
    "hide_input": false
   },
   "outputs": [],
   "source": [
    "import pandas as pd\n",
    "grams_per_ounce = 28.3495"
   ]
  },
  {
   "cell_type": "code",
   "execution_count": 11,
   "metadata": {},
   "outputs": [],
   "source": [
    "formatter = {\n",
    "    'grams': lambda x: f\"{x:,.0f}\" if x > 10 else f\"{x:.2f}\",\n",
    "    'oz': lambda x: f\"{x:,.0f}\" if x > 100 else f\"{x:.2f}\",\n",
    "    'baker%': lambda x: f\"{x:.0f}\" if x > 2 else f\"{x:.1f}\"\n",
    "}"
   ]
  },
  {
   "cell_type": "code",
   "execution_count": 12,
   "metadata": {},
   "outputs": [],
   "source": [
    "num_loaves = 4\n",
    "num_pounds = 0\n",
    "num_ounces = 14\n",
    "num_grams = 0"
   ]
  },
  {
   "cell_type": "code",
   "execution_count": 13,
   "metadata": {},
   "outputs": [
    {
     "name": "stdout",
     "output_type": "stream",
     "text": [
      "4 loaves at 397 grams\n",
      "total weight: 1,587.57 grams\n"
     ]
    }
   ],
   "source": [
    "loaf_weight = (num_pounds * 16 + num_ounces) * grams_per_ounce + num_grams\n",
    "total_weight = (num_loaves * loaf_weight)\n",
    "print (\"{:,.0f} loaves at {:,.0f} grams\".\n",
    "       format(num_loaves, loaf_weight, num_pounds, num_ounces))\n",
    "print (\"total weight: {:,.2f} grams\".format(total_weight,total_weight * grams_per_ounce))"
   ]
  },
  {
   "cell_type": "code",
   "execution_count": 14,
   "metadata": {},
   "outputs": [
    {
     "name": "stdout",
     "output_type": "stream",
     "text": [
      "overall formula total = 168.863%\n"
     ]
    }
   ],
   "source": [
    "pre_fermented_flour = .33\n",
    "formula = pd.DataFrame.from_dict({\n",
    "    \"flour\": 100, \n",
    "    \"water\": 66, \n",
    "    \"yeast\": .363,\n",
    "    \"salt\": 2,\n",
    "    \"malt\": 0.5\n",
    "}, orient='index', columns=[\"baker%\"])\n",
    "formula_total = formula['baker%'].sum()\n",
    "print(\"overall formula total = %s%%\" % formula_total)"
   ]
  },
  {
   "cell_type": "code",
   "execution_count": 15,
   "metadata": {},
   "outputs": [
    {
     "name": "stdout",
     "output_type": "stream",
     "text": [
      "overall formula\n"
     ]
    },
    {
     "data": {
      "text/html": [
       "<style type=\"text/css\">\n",
       "</style>\n",
       "<table id=\"T_8b109\">\n",
       "  <thead>\n",
       "    <tr>\n",
       "      <th class=\"blank level0\" >&nbsp;</th>\n",
       "      <th id=\"T_8b109_level0_col0\" class=\"col_heading level0 col0\" >baker%</th>\n",
       "      <th id=\"T_8b109_level0_col1\" class=\"col_heading level0 col1\" >grams</th>\n",
       "      <th id=\"T_8b109_level0_col2\" class=\"col_heading level0 col2\" >oz</th>\n",
       "    </tr>\n",
       "  </thead>\n",
       "  <tbody>\n",
       "    <tr>\n",
       "      <th id=\"T_8b109_level0_row0\" class=\"row_heading level0 row0\" >flour</th>\n",
       "      <td id=\"T_8b109_row0_col0\" class=\"data row0 col0\" >100</td>\n",
       "      <td id=\"T_8b109_row0_col1\" class=\"data row0 col1\" >940</td>\n",
       "      <td id=\"T_8b109_row0_col2\" class=\"data row0 col2\" >33.16</td>\n",
       "    </tr>\n",
       "    <tr>\n",
       "      <th id=\"T_8b109_level0_row1\" class=\"row_heading level0 row1\" >water</th>\n",
       "      <td id=\"T_8b109_row1_col0\" class=\"data row1 col0\" >66</td>\n",
       "      <td id=\"T_8b109_row1_col1\" class=\"data row1 col1\" >621</td>\n",
       "      <td id=\"T_8b109_row1_col2\" class=\"data row1 col2\" >21.89</td>\n",
       "    </tr>\n",
       "    <tr>\n",
       "      <th id=\"T_8b109_level0_row2\" class=\"row_heading level0 row2\" >yeast</th>\n",
       "      <td id=\"T_8b109_row2_col0\" class=\"data row2 col0\" >0.4</td>\n",
       "      <td id=\"T_8b109_row2_col1\" class=\"data row2 col1\" >3.41</td>\n",
       "      <td id=\"T_8b109_row2_col2\" class=\"data row2 col2\" >0.12</td>\n",
       "    </tr>\n",
       "    <tr>\n",
       "      <th id=\"T_8b109_level0_row3\" class=\"row_heading level0 row3\" >salt</th>\n",
       "      <td id=\"T_8b109_row3_col0\" class=\"data row3 col0\" >2.0</td>\n",
       "      <td id=\"T_8b109_row3_col1\" class=\"data row3 col1\" >19</td>\n",
       "      <td id=\"T_8b109_row3_col2\" class=\"data row3 col2\" >0.66</td>\n",
       "    </tr>\n",
       "    <tr>\n",
       "      <th id=\"T_8b109_level0_row4\" class=\"row_heading level0 row4\" >malt</th>\n",
       "      <td id=\"T_8b109_row4_col0\" class=\"data row4 col0\" >0.5</td>\n",
       "      <td id=\"T_8b109_row4_col1\" class=\"data row4 col1\" >4.70</td>\n",
       "      <td id=\"T_8b109_row4_col2\" class=\"data row4 col2\" >0.17</td>\n",
       "    </tr>\n",
       "  </tbody>\n",
       "</table>\n"
      ],
      "text/plain": [
       "<pandas.io.formats.style.Styler at 0x1123a6ad0>"
      ]
     },
     "execution_count": 15,
     "metadata": {},
     "output_type": "execute_result"
    }
   ],
   "source": [
    "flour_weight = formula.at['flour', 'baker%'] / formula_total * total_weight\n",
    "formula['grams'] = formula.apply(lambda row: row['baker%'] * flour_weight / 100, axis=1)\n",
    "formula['oz'] = formula.apply(lambda row: row['grams'] / grams_per_ounce, axis=1)\n",
    "print (\"overall formula\")\n",
    "\n",
    "formula[['baker%','grams','oz']].style.format(formatter)"
   ]
  },
  {
   "cell_type": "code",
   "execution_count": 16,
   "metadata": {},
   "outputs": [
    {
     "name": "stdout",
     "output_type": "stream",
     "text": [
      "poolish\n",
      "poolish total = 200.2%\n"
     ]
    },
    {
     "data": {
      "text/html": [
       "<style type=\"text/css\">\n",
       "</style>\n",
       "<table id=\"T_f06a8\">\n",
       "  <thead>\n",
       "    <tr>\n",
       "      <th class=\"blank level0\" >&nbsp;</th>\n",
       "      <th id=\"T_f06a8_level0_col0\" class=\"col_heading level0 col0\" >baker%</th>\n",
       "    </tr>\n",
       "  </thead>\n",
       "  <tbody>\n",
       "    <tr>\n",
       "      <th id=\"T_f06a8_level0_row0\" class=\"row_heading level0 row0\" >flour</th>\n",
       "      <td id=\"T_f06a8_row0_col0\" class=\"data row0 col0\" >100</td>\n",
       "    </tr>\n",
       "    <tr>\n",
       "      <th id=\"T_f06a8_level0_row1\" class=\"row_heading level0 row1\" >water</th>\n",
       "      <td id=\"T_f06a8_row1_col0\" class=\"data row1 col0\" >100</td>\n",
       "    </tr>\n",
       "    <tr>\n",
       "      <th id=\"T_f06a8_level0_row2\" class=\"row_heading level0 row2\" >yeast</th>\n",
       "      <td id=\"T_f06a8_row2_col0\" class=\"data row2 col0\" >0.2</td>\n",
       "    </tr>\n",
       "  </tbody>\n",
       "</table>\n"
      ],
      "text/plain": [
       "<pandas.io.formats.style.Styler at 0x1123a7b10>"
      ]
     },
     "execution_count": 16,
     "metadata": {},
     "output_type": "execute_result"
    }
   ],
   "source": [
    "poolish = pd.DataFrame.from_dict({\n",
    "    \"flour\": 100,\n",
    "    \"water\": 100, \n",
    "    \"yeast\": 0.2\n",
    "}, orient='index', columns=[\"baker%\"])\n",
    "print (\"poolish\")\n",
    "poolish_total = poolish['baker%'].sum()\n",
    "print(\"poolish total = %s%%\" % poolish_total)\n",
    "poolish.style.format(formatter)"
   ]
  },
  {
   "cell_type": "code",
   "execution_count": 17,
   "metadata": {},
   "outputs": [
    {
     "name": "stdout",
     "output_type": "stream",
     "text": [
      "poolish weight = 621 grams\n"
     ]
    },
    {
     "data": {
      "text/html": [
       "<style type=\"text/css\">\n",
       "</style>\n",
       "<table id=\"T_ed7c5\">\n",
       "  <thead>\n",
       "    <tr>\n",
       "      <th class=\"blank level0\" >&nbsp;</th>\n",
       "      <th id=\"T_ed7c5_level0_col0\" class=\"col_heading level0 col0\" >baker%</th>\n",
       "      <th id=\"T_ed7c5_level0_col1\" class=\"col_heading level0 col1\" >grams</th>\n",
       "      <th id=\"T_ed7c5_level0_col2\" class=\"col_heading level0 col2\" >oz</th>\n",
       "    </tr>\n",
       "  </thead>\n",
       "  <tbody>\n",
       "    <tr>\n",
       "      <th id=\"T_ed7c5_level0_row0\" class=\"row_heading level0 row0\" >flour</th>\n",
       "      <td id=\"T_ed7c5_row0_col0\" class=\"data row0 col0\" >100</td>\n",
       "      <td id=\"T_ed7c5_row0_col1\" class=\"data row0 col1\" >310</td>\n",
       "      <td id=\"T_ed7c5_row0_col2\" class=\"data row0 col2\" >10.94</td>\n",
       "    </tr>\n",
       "    <tr>\n",
       "      <th id=\"T_ed7c5_level0_row1\" class=\"row_heading level0 row1\" >water</th>\n",
       "      <td id=\"T_ed7c5_row1_col0\" class=\"data row1 col0\" >100</td>\n",
       "      <td id=\"T_ed7c5_row1_col1\" class=\"data row1 col1\" >310</td>\n",
       "      <td id=\"T_ed7c5_row1_col2\" class=\"data row1 col2\" >10.94</td>\n",
       "    </tr>\n",
       "    <tr>\n",
       "      <th id=\"T_ed7c5_level0_row2\" class=\"row_heading level0 row2\" >yeast</th>\n",
       "      <td id=\"T_ed7c5_row2_col0\" class=\"data row2 col0\" >0.2</td>\n",
       "      <td id=\"T_ed7c5_row2_col1\" class=\"data row2 col1\" >0.62</td>\n",
       "      <td id=\"T_ed7c5_row2_col2\" class=\"data row2 col2\" >0.02</td>\n",
       "    </tr>\n",
       "  </tbody>\n",
       "</table>\n"
      ],
      "text/plain": [
       "<pandas.io.formats.style.Styler at 0x1123a7610>"
      ]
     },
     "execution_count": 17,
     "metadata": {},
     "output_type": "execute_result"
    }
   ],
   "source": [
    "poolish_flour = total_weight / formula_total * formula.at['flour','baker%'] * pre_fermented_flour\n",
    "poolish_weight = poolish_flour * poolish_total / poolish.at['flour','baker%']\n",
    "print (\"poolish weight = {:,.0f} grams\".format(poolish_weight))\n",
    "poolish['grams'] = poolish.apply(lambda row: row['baker%']*poolish_weight/poolish_total, axis=1)\n",
    "poolish['oz'] = poolish.apply(lambda row: float(row['grams']) / grams_per_ounce, axis=1)\n",
    "\n",
    "poolish[['baker%', 'grams', 'oz']].style.format(formatter)"
   ]
  },
  {
   "cell_type": "code",
   "execution_count": 18,
   "metadata": {
    "hide_input": false
   },
   "outputs": [
    {
     "name": "stdout",
     "output_type": "stream",
     "text": [
      "final dough\n"
     ]
    },
    {
     "data": {
      "text/html": [
       "<style type=\"text/css\">\n",
       "</style>\n",
       "<table id=\"T_2ff4c\">\n",
       "  <thead>\n",
       "    <tr>\n",
       "      <th class=\"blank level0\" >&nbsp;</th>\n",
       "      <th id=\"T_2ff4c_level0_col0\" class=\"col_heading level0 col0\" >baker%</th>\n",
       "      <th id=\"T_2ff4c_level0_col1\" class=\"col_heading level0 col1\" >grams</th>\n",
       "      <th id=\"T_2ff4c_level0_col2\" class=\"col_heading level0 col2\" >oz</th>\n",
       "    </tr>\n",
       "  </thead>\n",
       "  <tbody>\n",
       "    <tr>\n",
       "      <th id=\"T_2ff4c_level0_row0\" class=\"row_heading level0 row0\" >flour</th>\n",
       "      <td id=\"T_2ff4c_row0_col0\" class=\"data row0 col0\" >100</td>\n",
       "      <td id=\"T_2ff4c_row0_col1\" class=\"data row0 col1\" >630</td>\n",
       "      <td id=\"T_2ff4c_row0_col2\" class=\"data row0 col2\" >22.22</td>\n",
       "    </tr>\n",
       "    <tr>\n",
       "      <th id=\"T_2ff4c_level0_row1\" class=\"row_heading level0 row1\" >water</th>\n",
       "      <td id=\"T_2ff4c_row1_col0\" class=\"data row1 col0\" >66</td>\n",
       "      <td id=\"T_2ff4c_row1_col1\" class=\"data row1 col1\" >310</td>\n",
       "      <td id=\"T_2ff4c_row1_col2\" class=\"data row1 col2\" >10.94</td>\n",
       "    </tr>\n",
       "    <tr>\n",
       "      <th id=\"T_2ff4c_level0_row2\" class=\"row_heading level0 row2\" >yeast</th>\n",
       "      <td id=\"T_2ff4c_row2_col0\" class=\"data row2 col0\" >0.4</td>\n",
       "      <td id=\"T_2ff4c_row2_col1\" class=\"data row2 col1\" >2.79</td>\n",
       "      <td id=\"T_2ff4c_row2_col2\" class=\"data row2 col2\" >0.10</td>\n",
       "    </tr>\n",
       "    <tr>\n",
       "      <th id=\"T_2ff4c_level0_row3\" class=\"row_heading level0 row3\" >salt</th>\n",
       "      <td id=\"T_2ff4c_row3_col0\" class=\"data row3 col0\" >2.0</td>\n",
       "      <td id=\"T_2ff4c_row3_col1\" class=\"data row3 col1\" >19</td>\n",
       "      <td id=\"T_2ff4c_row3_col2\" class=\"data row3 col2\" >0.66</td>\n",
       "    </tr>\n",
       "    <tr>\n",
       "      <th id=\"T_2ff4c_level0_row4\" class=\"row_heading level0 row4\" >malt</th>\n",
       "      <td id=\"T_2ff4c_row4_col0\" class=\"data row4 col0\" >0.5</td>\n",
       "      <td id=\"T_2ff4c_row4_col1\" class=\"data row4 col1\" >4.70</td>\n",
       "      <td id=\"T_2ff4c_row4_col2\" class=\"data row4 col2\" >0.17</td>\n",
       "    </tr>\n",
       "    <tr>\n",
       "      <th id=\"T_2ff4c_level0_row5\" class=\"row_heading level0 row5\" >poolish</th>\n",
       "      <td id=\"T_2ff4c_row5_col0\" class=\"data row5 col0\" >66</td>\n",
       "      <td id=\"T_2ff4c_row5_col1\" class=\"data row5 col1\" >621</td>\n",
       "      <td id=\"T_2ff4c_row5_col2\" class=\"data row5 col2\" >21.91</td>\n",
       "    </tr>\n",
       "  </tbody>\n",
       "</table>\n"
      ],
      "text/plain": [
       "<pandas.io.formats.style.Styler at 0x1123a7250>"
      ]
     },
     "execution_count": 18,
     "metadata": {},
     "output_type": "execute_result"
    }
   ],
   "source": [
    "final_dough = formula.copy()\n",
    "final_dough.at['poolish','grams'] = poolish_weight\n",
    "final_dough.at['poolish','baker%'] = poolish_weight / flour_weight * 100\n",
    "for index, row in poolish.iterrows():\n",
    "    final_dough.at[index,'grams'] = final_dough.at[index,'grams'] - row['grams']\n",
    "final_dough['oz'] = final_dough.apply(lambda row: row['grams']/grams_per_ounce, axis=1)\n",
    "print(\"final dough\")\n",
    "final_dough[['baker%', 'grams', 'oz']].style.format(formatter)"
   ]
  },
  {
   "cell_type": "code",
   "execution_count": 27,
   "metadata": {},
   "outputs": [
    {
     "name": "stdout",
     "output_type": "stream",
     "text": [
      "|         |   baker% |   grams |    oz |\n",
      "|:--------|---------:|--------:|------:|\n",
      "| flour   |    100   |  630    | 22.22 |\n",
      "| water   |     66   |  310    | 10.94 |\n",
      "| yeast   |      0.4 |    2.79 |  0.1  |\n",
      "| salt    |      2   |   19    |  0.66 |\n",
      "| malt    |      0.5 |    4.7  |  0.17 |\n",
      "| poolish |     66   |  621    | 21.91 |\n"
     ]
    }
   ],
   "source": [
    "display_df = final_dough.copy()\n",
    "for col, fmt in formatter.items():\n",
    "    if col in display_df.columns:\n",
    "        display_df[col] = display_df[col].apply(fmt)\n",
    "print(display_df.to_markdown())"
   ]
  }
 ],
 "metadata": {
  "kernelspec": {
   "display_name": ".venv",
   "language": "python",
   "name": "python3"
  },
  "language_info": {
   "codemirror_mode": {
    "name": "ipython",
    "version": 3
   },
   "file_extension": ".py",
   "mimetype": "text/x-python",
   "name": "python",
   "nbconvert_exporter": "python",
   "pygments_lexer": "ipython3",
   "version": "3.13.3"
  }
 },
 "nbformat": 4,
 "nbformat_minor": 2
}
