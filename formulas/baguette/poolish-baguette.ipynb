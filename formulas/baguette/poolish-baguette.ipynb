{
 "cells": [
  {
   "cell_type": "markdown",
   "metadata": {},
   "source": [
    "## Poolish Baguette\n",
    "\n",
    "- desired dough temp: 76F\n",
    "- bulk fermentation: 2hrs, fold once\n",
    "- divide & preshape: 10-30 min\n",
    "- shape\n",
    "- final fermentation: 1-1.5 hrs\n",
    "- bake: ~25min\n"
   ]
  },
  {
   "cell_type": "code",
   "execution_count": 1,
   "metadata": {
    "hide_input": false
   },
   "outputs": [],
   "source": [
    "import pandas as pd\n",
    "grams_per_ounce = 28.3495"
   ]
  },
  {
   "cell_type": "code",
   "execution_count": 2,
   "metadata": {},
   "outputs": [],
   "source": [
    "formatter = {\n",
    "    'grams': lambda x: f\"{x:,.0f}\" if x > 10 else f\"{x:.2f}\",\n",
    "    'oz': lambda x: f\"{x:,.0f}\" if x > 100 else f\"{x:.2f}\",\n",
    "    'baker%': lambda x: f\"{x:.0f}\" if x > 2 else f\"{x:.1f}\"\n",
    "}"
   ]
  },
  {
   "cell_type": "code",
   "execution_count": 3,
   "metadata": {},
   "outputs": [],
   "source": [
    "num_loaves = 3\n",
    "num_pounds = 0\n",
    "num_ounces = 14\n",
    "num_grams = 0"
   ]
  },
  {
   "cell_type": "code",
   "execution_count": 4,
   "metadata": {},
   "outputs": [
    {
     "name": "stdout",
     "output_type": "stream",
     "text": [
      "3 loaves at 397 grams\n",
      "total weight: 1,190.68 grams\n"
     ]
    }
   ],
   "source": [
    "loaf_weight = (num_pounds * 16 + num_ounces) * grams_per_ounce + num_grams\n",
    "total_weight = (num_loaves * loaf_weight)\n",
    "print (\"{:,.0f} loaves at {:,.0f} grams\".\n",
    "       format(num_loaves, loaf_weight, num_pounds, num_ounces))\n",
    "print (\"total weight: {:,.2f} grams\".format(total_weight,total_weight * grams_per_ounce))"
   ]
  },
  {
   "cell_type": "code",
   "execution_count": 5,
   "metadata": {},
   "outputs": [
    {
     "name": "stdout",
     "output_type": "stream",
     "text": [
      "overall formula total = 168.863%\n"
     ]
    }
   ],
   "source": [
    "pre_fermented_flour = .33\n",
    "formula = pd.DataFrame.from_dict({\n",
    "    \"flour\": 100, \n",
    "    \"water\": 66, \n",
    "    \"yeast\": .363,\n",
    "    \"salt\": 2,\n",
    "    \"malt\": 0.5\n",
    "}, orient='index', columns=[\"baker%\"])\n",
    "formula_total = formula['baker%'].sum()\n",
    "print(\"overall formula total = %s%%\" % formula_total)"
   ]
  },
  {
   "cell_type": "code",
   "execution_count": 6,
   "metadata": {},
   "outputs": [
    {
     "name": "stdout",
     "output_type": "stream",
     "text": [
      "overall formula\n"
     ]
    },
    {
     "data": {
      "text/html": [
       "<style type=\"text/css\">\n",
       "</style>\n",
       "<table id=\"T_0c42f\">\n",
       "  <thead>\n",
       "    <tr>\n",
       "      <th class=\"blank level0\" >&nbsp;</th>\n",
       "      <th id=\"T_0c42f_level0_col0\" class=\"col_heading level0 col0\" >baker%</th>\n",
       "      <th id=\"T_0c42f_level0_col1\" class=\"col_heading level0 col1\" >grams</th>\n",
       "      <th id=\"T_0c42f_level0_col2\" class=\"col_heading level0 col2\" >oz</th>\n",
       "    </tr>\n",
       "  </thead>\n",
       "  <tbody>\n",
       "    <tr>\n",
       "      <th id=\"T_0c42f_level0_row0\" class=\"row_heading level0 row0\" >flour</th>\n",
       "      <td id=\"T_0c42f_row0_col0\" class=\"data row0 col0\" >100</td>\n",
       "      <td id=\"T_0c42f_row0_col1\" class=\"data row0 col1\" >705</td>\n",
       "      <td id=\"T_0c42f_row0_col2\" class=\"data row0 col2\" >24.87</td>\n",
       "    </tr>\n",
       "    <tr>\n",
       "      <th id=\"T_0c42f_level0_row1\" class=\"row_heading level0 row1\" >water</th>\n",
       "      <td id=\"T_0c42f_row1_col0\" class=\"data row1 col0\" >66</td>\n",
       "      <td id=\"T_0c42f_row1_col1\" class=\"data row1 col1\" >465</td>\n",
       "      <td id=\"T_0c42f_row1_col2\" class=\"data row1 col2\" >16.42</td>\n",
       "    </tr>\n",
       "    <tr>\n",
       "      <th id=\"T_0c42f_level0_row2\" class=\"row_heading level0 row2\" >yeast</th>\n",
       "      <td id=\"T_0c42f_row2_col0\" class=\"data row2 col0\" >0.4</td>\n",
       "      <td id=\"T_0c42f_row2_col1\" class=\"data row2 col1\" >2.56</td>\n",
       "      <td id=\"T_0c42f_row2_col2\" class=\"data row2 col2\" >0.09</td>\n",
       "    </tr>\n",
       "    <tr>\n",
       "      <th id=\"T_0c42f_level0_row3\" class=\"row_heading level0 row3\" >salt</th>\n",
       "      <td id=\"T_0c42f_row3_col0\" class=\"data row3 col0\" >2.0</td>\n",
       "      <td id=\"T_0c42f_row3_col1\" class=\"data row3 col1\" >14</td>\n",
       "      <td id=\"T_0c42f_row3_col2\" class=\"data row3 col2\" >0.50</td>\n",
       "    </tr>\n",
       "    <tr>\n",
       "      <th id=\"T_0c42f_level0_row4\" class=\"row_heading level0 row4\" >malt</th>\n",
       "      <td id=\"T_0c42f_row4_col0\" class=\"data row4 col0\" >0.5</td>\n",
       "      <td id=\"T_0c42f_row4_col1\" class=\"data row4 col1\" >3.53</td>\n",
       "      <td id=\"T_0c42f_row4_col2\" class=\"data row4 col2\" >0.12</td>\n",
       "    </tr>\n",
       "  </tbody>\n",
       "</table>\n"
      ],
      "text/plain": [
       "<pandas.io.formats.style.Styler at 0x112094c20>"
      ]
     },
     "execution_count": 6,
     "metadata": {},
     "output_type": "execute_result"
    }
   ],
   "source": [
    "flour_weight = formula.at['flour', 'baker%'] / formula_total * total_weight\n",
    "formula['grams'] = formula.apply(lambda row: row['baker%'] * flour_weight / 100, axis=1)\n",
    "formula['oz'] = formula.apply(lambda row: row['grams'] / grams_per_ounce, axis=1)\n",
    "print (\"overall formula\")\n",
    "\n",
    "formula[['baker%','grams','oz']].style.format(formatter)"
   ]
  },
  {
   "cell_type": "code",
   "execution_count": 7,
   "metadata": {},
   "outputs": [
    {
     "name": "stdout",
     "output_type": "stream",
     "text": [
      "poolish\n",
      "poolish total = 200.2%\n"
     ]
    },
    {
     "data": {
      "text/html": [
       "<style type=\"text/css\">\n",
       "</style>\n",
       "<table id=\"T_02b1e\">\n",
       "  <thead>\n",
       "    <tr>\n",
       "      <th class=\"blank level0\" >&nbsp;</th>\n",
       "      <th id=\"T_02b1e_level0_col0\" class=\"col_heading level0 col0\" >baker%</th>\n",
       "    </tr>\n",
       "  </thead>\n",
       "  <tbody>\n",
       "    <tr>\n",
       "      <th id=\"T_02b1e_level0_row0\" class=\"row_heading level0 row0\" >flour</th>\n",
       "      <td id=\"T_02b1e_row0_col0\" class=\"data row0 col0\" >100</td>\n",
       "    </tr>\n",
       "    <tr>\n",
       "      <th id=\"T_02b1e_level0_row1\" class=\"row_heading level0 row1\" >water</th>\n",
       "      <td id=\"T_02b1e_row1_col0\" class=\"data row1 col0\" >100</td>\n",
       "    </tr>\n",
       "    <tr>\n",
       "      <th id=\"T_02b1e_level0_row2\" class=\"row_heading level0 row2\" >yeast</th>\n",
       "      <td id=\"T_02b1e_row2_col0\" class=\"data row2 col0\" >0.2</td>\n",
       "    </tr>\n",
       "  </tbody>\n",
       "</table>\n"
      ],
      "text/plain": [
       "<pandas.io.formats.style.Styler at 0x111da3610>"
      ]
     },
     "execution_count": 7,
     "metadata": {},
     "output_type": "execute_result"
    }
   ],
   "source": [
    "poolish = pd.DataFrame.from_dict({\n",
    "    \"flour\": 100,\n",
    "    \"water\": 100, \n",
    "    \"yeast\": 0.2\n",
    "}, orient='index', columns=[\"baker%\"])\n",
    "print (\"poolish\")\n",
    "poolish_total = poolish['baker%'].sum()\n",
    "print(\"poolish total = %s%%\" % poolish_total)\n",
    "poolish.style.format(formatter)"
   ]
  },
  {
   "cell_type": "code",
   "execution_count": 8,
   "metadata": {},
   "outputs": [
    {
     "name": "stdout",
     "output_type": "stream",
     "text": [
      "poolish weight = 466 grams\n"
     ]
    },
    {
     "data": {
      "text/html": [
       "<style type=\"text/css\">\n",
       "</style>\n",
       "<table id=\"T_19b57\">\n",
       "  <thead>\n",
       "    <tr>\n",
       "      <th class=\"blank level0\" >&nbsp;</th>\n",
       "      <th id=\"T_19b57_level0_col0\" class=\"col_heading level0 col0\" >baker%</th>\n",
       "      <th id=\"T_19b57_level0_col1\" class=\"col_heading level0 col1\" >grams</th>\n",
       "      <th id=\"T_19b57_level0_col2\" class=\"col_heading level0 col2\" >oz</th>\n",
       "    </tr>\n",
       "  </thead>\n",
       "  <tbody>\n",
       "    <tr>\n",
       "      <th id=\"T_19b57_level0_row0\" class=\"row_heading level0 row0\" >flour</th>\n",
       "      <td id=\"T_19b57_row0_col0\" class=\"data row0 col0\" >100</td>\n",
       "      <td id=\"T_19b57_row0_col1\" class=\"data row0 col1\" >233</td>\n",
       "      <td id=\"T_19b57_row0_col2\" class=\"data row0 col2\" >8.21</td>\n",
       "    </tr>\n",
       "    <tr>\n",
       "      <th id=\"T_19b57_level0_row1\" class=\"row_heading level0 row1\" >water</th>\n",
       "      <td id=\"T_19b57_row1_col0\" class=\"data row1 col0\" >100</td>\n",
       "      <td id=\"T_19b57_row1_col1\" class=\"data row1 col1\" >233</td>\n",
       "      <td id=\"T_19b57_row1_col2\" class=\"data row1 col2\" >8.21</td>\n",
       "    </tr>\n",
       "    <tr>\n",
       "      <th id=\"T_19b57_level0_row2\" class=\"row_heading level0 row2\" >yeast</th>\n",
       "      <td id=\"T_19b57_row2_col0\" class=\"data row2 col0\" >0.2</td>\n",
       "      <td id=\"T_19b57_row2_col1\" class=\"data row2 col1\" >0.47</td>\n",
       "      <td id=\"T_19b57_row2_col2\" class=\"data row2 col2\" >0.02</td>\n",
       "    </tr>\n",
       "  </tbody>\n",
       "</table>\n"
      ],
      "text/plain": [
       "<pandas.io.formats.style.Styler at 0x111da2c10>"
      ]
     },
     "execution_count": 8,
     "metadata": {},
     "output_type": "execute_result"
    }
   ],
   "source": [
    "poolish_flour = total_weight / formula_total * formula.at['flour','baker%'] * pre_fermented_flour\n",
    "poolish_weight = poolish_flour * poolish_total / poolish.at['flour','baker%']\n",
    "print (\"poolish weight = {:,.0f} grams\".format(poolish_weight))\n",
    "poolish['grams'] = poolish.apply(lambda row: row['baker%']*poolish_weight/poolish_total, axis=1)\n",
    "poolish['oz'] = poolish.apply(lambda row: float(row['grams']) / grams_per_ounce, axis=1)\n",
    "\n",
    "poolish[['baker%', 'grams', 'oz']].style.format(formatter)"
   ]
  },
  {
   "cell_type": "code",
   "execution_count": 9,
   "metadata": {
    "hide_input": false
   },
   "outputs": [
    {
     "name": "stdout",
     "output_type": "stream",
     "text": [
      "final dough\n"
     ]
    },
    {
     "data": {
      "text/html": [
       "<style type=\"text/css\">\n",
       "</style>\n",
       "<table id=\"T_12b15\">\n",
       "  <thead>\n",
       "    <tr>\n",
       "      <th class=\"blank level0\" >&nbsp;</th>\n",
       "      <th id=\"T_12b15_level0_col0\" class=\"col_heading level0 col0\" >baker%</th>\n",
       "      <th id=\"T_12b15_level0_col1\" class=\"col_heading level0 col1\" >grams</th>\n",
       "      <th id=\"T_12b15_level0_col2\" class=\"col_heading level0 col2\" >oz</th>\n",
       "    </tr>\n",
       "  </thead>\n",
       "  <tbody>\n",
       "    <tr>\n",
       "      <th id=\"T_12b15_level0_row0\" class=\"row_heading level0 row0\" >flour</th>\n",
       "      <td id=\"T_12b15_row0_col0\" class=\"data row0 col0\" >100</td>\n",
       "      <td id=\"T_12b15_row0_col1\" class=\"data row0 col1\" >472</td>\n",
       "      <td id=\"T_12b15_row0_col2\" class=\"data row0 col2\" >16.66</td>\n",
       "    </tr>\n",
       "    <tr>\n",
       "      <th id=\"T_12b15_level0_row1\" class=\"row_heading level0 row1\" >water</th>\n",
       "      <td id=\"T_12b15_row1_col0\" class=\"data row1 col0\" >66</td>\n",
       "      <td id=\"T_12b15_row1_col1\" class=\"data row1 col1\" >233</td>\n",
       "      <td id=\"T_12b15_row1_col2\" class=\"data row1 col2\" >8.21</td>\n",
       "    </tr>\n",
       "    <tr>\n",
       "      <th id=\"T_12b15_level0_row2\" class=\"row_heading level0 row2\" >yeast</th>\n",
       "      <td id=\"T_12b15_row2_col0\" class=\"data row2 col0\" >0.4</td>\n",
       "      <td id=\"T_12b15_row2_col1\" class=\"data row2 col1\" >2.09</td>\n",
       "      <td id=\"T_12b15_row2_col2\" class=\"data row2 col2\" >0.07</td>\n",
       "    </tr>\n",
       "    <tr>\n",
       "      <th id=\"T_12b15_level0_row3\" class=\"row_heading level0 row3\" >salt</th>\n",
       "      <td id=\"T_12b15_row3_col0\" class=\"data row3 col0\" >2.0</td>\n",
       "      <td id=\"T_12b15_row3_col1\" class=\"data row3 col1\" >14</td>\n",
       "      <td id=\"T_12b15_row3_col2\" class=\"data row3 col2\" >0.50</td>\n",
       "    </tr>\n",
       "    <tr>\n",
       "      <th id=\"T_12b15_level0_row4\" class=\"row_heading level0 row4\" >malt</th>\n",
       "      <td id=\"T_12b15_row4_col0\" class=\"data row4 col0\" >0.5</td>\n",
       "      <td id=\"T_12b15_row4_col1\" class=\"data row4 col1\" >3.53</td>\n",
       "      <td id=\"T_12b15_row4_col2\" class=\"data row4 col2\" >0.12</td>\n",
       "    </tr>\n",
       "    <tr>\n",
       "      <th id=\"T_12b15_level0_row5\" class=\"row_heading level0 row5\" >poolish</th>\n",
       "      <td id=\"T_12b15_row5_col0\" class=\"data row5 col0\" >66</td>\n",
       "      <td id=\"T_12b15_row5_col1\" class=\"data row5 col1\" >466</td>\n",
       "      <td id=\"T_12b15_row5_col2\" class=\"data row5 col2\" >16.43</td>\n",
       "    </tr>\n",
       "  </tbody>\n",
       "</table>\n"
      ],
      "text/plain": [
       "<pandas.io.formats.style.Styler at 0x111b81a90>"
      ]
     },
     "execution_count": 9,
     "metadata": {},
     "output_type": "execute_result"
    }
   ],
   "source": [
    "final_dough = formula.copy()\n",
    "final_dough.at['poolish','grams'] = poolish_weight\n",
    "final_dough.at['poolish','baker%'] = poolish_weight / flour_weight * 100\n",
    "for index, row in poolish.iterrows():\n",
    "    final_dough.at[index,'grams'] = final_dough.at[index,'grams'] - row['grams']\n",
    "final_dough['oz'] = final_dough.apply(lambda row: row['grams']/grams_per_ounce, axis=1)\n",
    "print(\"final dough\")\n",
    "final_dough[['baker%', 'grams', 'oz']].style.format(formatter)"
   ]
  },
  {
   "cell_type": "code",
   "execution_count": 10,
   "metadata": {},
   "outputs": [
    {
     "name": "stdout",
     "output_type": "stream",
     "text": [
      "poolish\n",
      "\n",
      "|       |   baker% |   grams |   oz |\n",
      "|:------|---------:|--------:|-----:|\n",
      "| flour |    100   |  233    | 8.21 |\n",
      "| water |    100   |  233    | 8.21 |\n",
      "| yeast |      0.2 |    0.47 | 0.02 |\n",
      "\n",
      "final dough\n",
      "\n",
      "|         |   baker% |   grams |    oz |\n",
      "|:--------|---------:|--------:|------:|\n",
      "| flour   |    100   |  472    | 16.66 |\n",
      "| water   |     66   |  233    |  8.21 |\n",
      "| yeast   |      0.4 |    2.09 |  0.07 |\n",
      "| salt    |      2   |   14    |  0.5  |\n",
      "| malt    |      0.5 |    3.53 |  0.12 |\n",
      "| poolish |     66   |  466    | 16.43 |\n"
     ]
    }
   ],
   "source": [
    "display_df = poolish.copy()\n",
    "for col, fmt in formatter.items():\n",
    "    if col in display_df.columns:\n",
    "        display_df[col] = display_df[col].apply(fmt)\n",
    "print(\"poolish\\n\")\n",
    "print(display_df.to_markdown())\n",
    "\n",
    "display_df = final_dough.copy()\n",
    "for col, fmt in formatter.items():\n",
    "    if col in display_df.columns:\n",
    "        display_df[col] = display_df[col].apply(fmt)\n",
    "print(\"\\nfinal dough\\n\")\n",
    "print(display_df.to_markdown())"
   ]
  }
 ],
 "metadata": {
  "kernelspec": {
   "display_name": ".venv",
   "language": "python",
   "name": "python3"
  },
  "language_info": {
   "codemirror_mode": {
    "name": "ipython",
    "version": 3
   },
   "file_extension": ".py",
   "mimetype": "text/x-python",
   "name": "python",
   "nbconvert_exporter": "python",
   "pygments_lexer": "ipython3",
   "version": "3.13.3"
  }
 },
 "nbformat": 4,
 "nbformat_minor": 2
}
