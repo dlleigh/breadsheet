{
 "cells": [
  {
   "cell_type": "markdown",
   "metadata": {},
   "source": [
    "## Poolish Baguette\n",
    "\n",
    "\n"
   ]
  },
  {
   "cell_type": "code",
   "execution_count": 4,
   "metadata": {
    "hide_input": false
   },
   "outputs": [],
   "source": [
    "import sys\n",
    "sys.path.append('../..')\n",
    "from breadsheet_utils import PrefermentCalculator, create_formula, format_and_display"
   ]
  },
  {
   "cell_type": "code",
   "execution_count": 5,
   "metadata": {},
   "outputs": [
    {
     "name": "stdout",
     "output_type": "stream",
     "text": [
      "4 loaves at 383 grams\n",
      "total weight: 1,530.87 grams\n"
     ]
    }
   ],
   "source": [
    "calc = PrefermentCalculator(\n",
    "    num_loaves=4, \n",
    "    weight_ounces=13.5\n",
    ")\n",
    "calc.print_batch_info()"
   ]
  },
  {
   "cell_type": "code",
   "execution_count": 7,
   "metadata": {},
   "outputs": [
    {
     "name": "stdout",
     "output_type": "stream",
     "text": [
      "Baguettes\n",
      "\n",
      "\n",
      "- desired dough temp: 76F\n",
      "- bulk fermentation: 2hrs, fold once\n",
      "- divide & preshape: 10-30 min\n",
      "- shape\n",
      "- final fermentation: 1-1.5 hrs\n",
      "- bake: ~25min\n",
      "\n",
      "\n",
      "4 loaves at 383 grams\n",
      "overall formula total = 235.0%\n",
      "\n",
      "Poolish:\n",
      "\n",
      "|       |   baker% |   grams |    oz |\n",
      "|:------|---------:|--------:|------:|\n",
      "| flour |   100    |  299    | 10.55 |\n",
      "| water |   100    |  299    | 10.55 |\n",
      "| yeast |     0.08 |    0.24 |  0.01 |\n",
      "\n",
      "Final Dough:\n",
      "\n",
      "|         |   baker% |   grams |    oz |\n",
      "|:--------|---------:|--------:|------:|\n",
      "| flour   |   100    |  607    | 21.42 |\n",
      "| water   |    66    |  299    | 10.55 |\n",
      "| yeast   |     0.44 |    3.75 |  0.13 |\n",
      "| salt    |     2    |   18    |  0.64 |\n",
      "| malt    |     0.5  |    4.53 |  0.16 |\n",
      "| poolish |    66    |  598    | 21.1  |\n"
     ]
    },
    {
     "data": {
      "text/html": [
       "<div>\n",
       "<style scoped>\n",
       "    .dataframe tbody tr th:only-of-type {\n",
       "        vertical-align: middle;\n",
       "    }\n",
       "\n",
       "    .dataframe tbody tr th {\n",
       "        vertical-align: top;\n",
       "    }\n",
       "\n",
       "    .dataframe thead th {\n",
       "        text-align: right;\n",
       "    }\n",
       "</style>\n",
       "<table border=\"1\" class=\"dataframe\">\n",
       "  <thead>\n",
       "    <tr style=\"text-align: right;\">\n",
       "      <th></th>\n",
       "      <th>baker%</th>\n",
       "      <th>grams</th>\n",
       "      <th>oz</th>\n",
       "    </tr>\n",
       "  </thead>\n",
       "  <tbody>\n",
       "    <tr>\n",
       "      <th>flour</th>\n",
       "      <td>100</td>\n",
       "      <td>607</td>\n",
       "      <td>21.42</td>\n",
       "    </tr>\n",
       "    <tr>\n",
       "      <th>water</th>\n",
       "      <td>66</td>\n",
       "      <td>299</td>\n",
       "      <td>10.55</td>\n",
       "    </tr>\n",
       "    <tr>\n",
       "      <th>yeast</th>\n",
       "      <td>0.44</td>\n",
       "      <td>3.75</td>\n",
       "      <td>0.13</td>\n",
       "    </tr>\n",
       "    <tr>\n",
       "      <th>salt</th>\n",
       "      <td>2.00</td>\n",
       "      <td>18</td>\n",
       "      <td>0.64</td>\n",
       "    </tr>\n",
       "    <tr>\n",
       "      <th>malt</th>\n",
       "      <td>0.50</td>\n",
       "      <td>4.53</td>\n",
       "      <td>0.16</td>\n",
       "    </tr>\n",
       "    <tr>\n",
       "      <th>poolish</th>\n",
       "      <td>66</td>\n",
       "      <td>598</td>\n",
       "      <td>21.10</td>\n",
       "    </tr>\n",
       "  </tbody>\n",
       "</table>\n",
       "</div>"
      ],
      "text/plain": [
       "        baker% grams     oz\n",
       "flour      100   607  21.42\n",
       "water       66   299  10.55\n",
       "yeast     0.44  3.75   0.13\n",
       "salt      2.00    18   0.64\n",
       "malt      0.50  4.53   0.16\n",
       "poolish     66   598  21.10"
      ]
     },
     "execution_count": 7,
     "metadata": {},
     "output_type": "execute_result"
    }
   ],
   "source": [
    "pre_fermented_flour_ratio = 0.33\n",
    "\n",
    "formula = create_formula({\n",
    "    \"flour\": 100, \n",
    "    \"water\": 66, \n",
    "    \"yeast\": 0.44,\n",
    "    \"salt\": 2,\n",
    "    \"malt\": 0.5\n",
    "})\n",
    "\n",
    "poolish = create_formula({\n",
    "    \"flour\": 100,\n",
    "    \"water\": 100, \n",
    "    \"yeast\": 0.08\n",
    "})\n",
    "\n",
    "steps='''\n",
    "- desired dough temp: 76F\n",
    "- bulk fermentation: 2hrs, fold once\n",
    "- divide & preshape: 10-30 min\n",
    "- shape\n",
    "- final fermentation: 1-1.5 hrs\n",
    "- bake: ~25min\n",
    "'''\n",
    "\n",
    "# Calculate poolish and final dough (33% pre-fermented flour)\n",
    "poolish_weights, final_dough = calc.calculate_poolish_recipe(formula, poolish, \n",
    "                                                             pre_fermented_flour_ratio=pre_fermented_flour_ratio)\n",
    "\n",
    "format_and_display(formula=final_dough, poolish=poolish_weights,\n",
    "                   calc=calc, title=\"Baguettes\", steps=steps)"
   ]
  },
  {
   "cell_type": "code",
   "execution_count": null,
   "metadata": {},
   "outputs": [],
   "source": []
  }
 ],
 "metadata": {
  "kernelspec": {
   "display_name": ".venv",
   "language": "python",
   "name": "python3"
  },
  "language_info": {
   "codemirror_mode": {
    "name": "ipython",
    "version": 3
   },
   "file_extension": ".py",
   "mimetype": "text/x-python",
   "name": "python",
   "nbconvert_exporter": "python",
   "pygments_lexer": "ipython3",
   "version": "3.13.3"
  }
 },
 "nbformat": 4,
 "nbformat_minor": 2
}
