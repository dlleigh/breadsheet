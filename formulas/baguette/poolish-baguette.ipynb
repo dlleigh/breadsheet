{
 "cells": [
  {
   "cell_type": "markdown",
   "metadata": {},
   "source": [
    "## Poolish Baguette\n",
    "\n",
    "- bulk fermentation: 2hrs, fold once\n",
    "- divide & preshape: 10-30 min\n",
    "- shape\n",
    "- final fermentation: 1-1.5 hrs\n",
    "- bake: ~25min\n"
   ]
  },
  {
   "cell_type": "code",
   "execution_count": 4,
   "metadata": {
    "hide_input": false
   },
   "outputs": [],
   "source": [
    "import pandas as pd\n",
    "grams_per_ounce = 28.3495"
   ]
  },
  {
   "cell_type": "code",
   "execution_count": 5,
   "metadata": {},
   "outputs": [],
   "source": [
    "num_loaves = 4\n",
    "num_pounds = 0\n",
    "num_ounces = 13.5\n",
    "num_grams = 0"
   ]
  },
  {
   "cell_type": "code",
   "execution_count": 6,
   "metadata": {},
   "outputs": [
    {
     "output_type": "stream",
     "name": "stdout",
     "text": "4 loaves at 383 grams\ntotal weight: 1,530.87 grams\n"
    }
   ],
   "source": [
    "loaf_weight = (num_pounds * 16 + num_ounces) * grams_per_ounce + num_grams\n",
    "total_weight = (num_loaves * loaf_weight)\n",
    "print (\"{:,.0f} loaves at {:,.0f} grams\".\n",
    "       format(num_loaves, loaf_weight, num_pounds, num_ounces))\n",
    "print (\"total weight: {:,.2f} grams\".format(total_weight,total_weight * grams_per_ounce))"
   ]
  },
  {
   "cell_type": "code",
   "execution_count": 7,
   "metadata": {},
   "outputs": [
    {
     "output_type": "stream",
     "name": "stdout",
     "text": "overall formula\noverall formula total = 169.2%\n"
    },
    {
     "output_type": "execute_result",
     "data": {
      "text/plain": "          baker%\nap-flour   100.0\nwater       66.0\nyeast        0.7\nsalt         2.0\nmalt         0.5",
      "text/html": "<div>\n<style scoped>\n    .dataframe tbody tr th:only-of-type {\n        vertical-align: middle;\n    }\n\n    .dataframe tbody tr th {\n        vertical-align: top;\n    }\n\n    .dataframe thead th {\n        text-align: right;\n    }\n</style>\n<table border=\"1\" class=\"dataframe\">\n  <thead>\n    <tr style=\"text-align: right;\">\n      <th></th>\n      <th>baker%</th>\n    </tr>\n  </thead>\n  <tbody>\n    <tr>\n      <th>ap-flour</th>\n      <td>100.0</td>\n    </tr>\n    <tr>\n      <th>water</th>\n      <td>66.0</td>\n    </tr>\n    <tr>\n      <th>yeast</th>\n      <td>0.7</td>\n    </tr>\n    <tr>\n      <th>salt</th>\n      <td>2.0</td>\n    </tr>\n    <tr>\n      <th>malt</th>\n      <td>0.5</td>\n    </tr>\n  </tbody>\n</table>\n</div>"
     },
     "metadata": {},
     "execution_count": 7
    }
   ],
   "source": [
    "formula = pd.DataFrame.from_dict({\n",
    "    \"ap-flour\": 100, \n",
    "    \"water\": 66, \n",
    "    \"yeast\": 0.7,\n",
    "    \"salt\": 2,\n",
    "    \"malt\": 0.5\n",
    "}, orient='index', columns=[\"baker%\"])\n",
    "print (\"overall formula\")\n",
    "formula_total = formula['baker%'].sum()\n",
    "print(\"overall formula total = %s%%\" % formula_total)\n",
    "formula"
   ]
  },
  {
   "cell_type": "code",
   "execution_count": 8,
   "metadata": {},
   "outputs": [
    {
     "output_type": "stream",
     "name": "stdout",
     "text": "poolish\npoolish total = 200.2%\n"
    },
    {
     "output_type": "execute_result",
     "data": {
      "text/plain": "          baker%\nap-flour   100.0\nwater      100.0\nyeast        0.2",
      "text/html": "<div>\n<style scoped>\n    .dataframe tbody tr th:only-of-type {\n        vertical-align: middle;\n    }\n\n    .dataframe tbody tr th {\n        vertical-align: top;\n    }\n\n    .dataframe thead th {\n        text-align: right;\n    }\n</style>\n<table border=\"1\" class=\"dataframe\">\n  <thead>\n    <tr style=\"text-align: right;\">\n      <th></th>\n      <th>baker%</th>\n    </tr>\n  </thead>\n  <tbody>\n    <tr>\n      <th>ap-flour</th>\n      <td>100.0</td>\n    </tr>\n    <tr>\n      <th>water</th>\n      <td>100.0</td>\n    </tr>\n    <tr>\n      <th>yeast</th>\n      <td>0.2</td>\n    </tr>\n  </tbody>\n</table>\n</div>"
     },
     "metadata": {},
     "execution_count": 8
    }
   ],
   "source": [
    "pre_ferment = .33\n",
    "poolish = pd.DataFrame.from_dict({\n",
    "    \"ap-flour\": 100,\n",
    "    \"water\": 100, \n",
    "    \"yeast\": 0.2\n",
    "}, orient='index', columns=[\"baker%\"])\n",
    "print (\"poolish\")\n",
    "poolish_total = poolish['baker%'].sum()\n",
    "print(\"poolish total = %s%%\" % poolish_total)\n",
    "poolish"
   ]
  },
  {
   "cell_type": "code",
   "execution_count": 9,
   "metadata": {},
   "outputs": [
    {
     "output_type": "stream",
     "name": "stdout",
     "text": "poolish weight = 598 grams\n"
    },
    {
     "output_type": "execute_result",
     "data": {
      "text/plain": "          baker% grams    oz\nap-flour   100.0   299  10.5\nwater      100.0   299  10.5\nyeast        0.2     1   0.0",
      "text/html": "<div>\n<style scoped>\n    .dataframe tbody tr th:only-of-type {\n        vertical-align: middle;\n    }\n\n    .dataframe tbody tr th {\n        vertical-align: top;\n    }\n\n    .dataframe thead th {\n        text-align: right;\n    }\n</style>\n<table border=\"1\" class=\"dataframe\">\n  <thead>\n    <tr style=\"text-align: right;\">\n      <th></th>\n      <th>baker%</th>\n      <th>grams</th>\n      <th>oz</th>\n    </tr>\n  </thead>\n  <tbody>\n    <tr>\n      <th>ap-flour</th>\n      <td>100.0</td>\n      <td>299</td>\n      <td>10.5</td>\n    </tr>\n    <tr>\n      <th>water</th>\n      <td>100.0</td>\n      <td>299</td>\n      <td>10.5</td>\n    </tr>\n    <tr>\n      <th>yeast</th>\n      <td>0.2</td>\n      <td>1</td>\n      <td>0.0</td>\n    </tr>\n  </tbody>\n</table>\n</div>"
     },
     "metadata": {},
     "execution_count": 9
    }
   ],
   "source": [
    "poolish_weight = total_weight * 100 / formula_total * pre_ferment * poolish_total/poolish.at['ap-flour','baker%']\n",
    "print (\"poolish weight = {:,.0f} grams\".format(poolish_weight))\n",
    "poolish['grams'] = poolish.apply(lambda row: '{:.0f}'.format(row['baker%']*poolish_weight/poolish_total), axis=1)\n",
    "poolish['oz'] = poolish.apply(lambda row: '{:.1f}'.format(float(row['grams']) / grams_per_ounce), axis=1)\n",
    "poolish = poolish[['baker%', 'grams', 'oz']]\n",
    "poolish"
   ]
  },
  {
   "cell_type": "code",
   "execution_count": 10,
   "metadata": {
    "hide_input": false
   },
   "outputs": [
    {
     "output_type": "stream",
     "name": "stdout",
     "text": "final dough\n"
    },
    {
     "output_type": "execute_result",
     "data": {
      "text/plain": "          baker% grams    oz\nap-flour   100.0   606  21.4\nwater       66.0   298  10.5\nyeast        0.7     5   0.2\nsalt         2.0    18   0.6\nmalt         0.5     5   0.2\npoolish     66.0   598  21.1",
      "text/html": "<div>\n<style scoped>\n    .dataframe tbody tr th:only-of-type {\n        vertical-align: middle;\n    }\n\n    .dataframe tbody tr th {\n        vertical-align: top;\n    }\n\n    .dataframe thead th {\n        text-align: right;\n    }\n</style>\n<table border=\"1\" class=\"dataframe\">\n  <thead>\n    <tr style=\"text-align: right;\">\n      <th></th>\n      <th>baker%</th>\n      <th>grams</th>\n      <th>oz</th>\n    </tr>\n  </thead>\n  <tbody>\n    <tr>\n      <th>ap-flour</th>\n      <td>100.0</td>\n      <td>606</td>\n      <td>21.4</td>\n    </tr>\n    <tr>\n      <th>water</th>\n      <td>66.0</td>\n      <td>298</td>\n      <td>10.5</td>\n    </tr>\n    <tr>\n      <th>yeast</th>\n      <td>0.7</td>\n      <td>5</td>\n      <td>0.2</td>\n    </tr>\n    <tr>\n      <th>salt</th>\n      <td>2.0</td>\n      <td>18</td>\n      <td>0.6</td>\n    </tr>\n    <tr>\n      <th>malt</th>\n      <td>0.5</td>\n      <td>5</td>\n      <td>0.2</td>\n    </tr>\n    <tr>\n      <th>poolish</th>\n      <td>66.0</td>\n      <td>598</td>\n      <td>21.1</td>\n    </tr>\n  </tbody>\n</table>\n</div>"
     },
     "metadata": {},
     "execution_count": 10
    }
   ],
   "source": [
    "final_dough = formula\n",
    "final_dough['grams'] = final_dough.apply(lambda row: '{:.0f}'.format(row['baker%']*total_weight / formula_total), axis=1)\n",
    "final_dough.at['poolish','grams'] = '{:.0f}'.format(poolish_weight)\n",
    "final_dough.at['poolish','baker%'] = '{:.0f}'.format(poolish_weight / float(final_dough.at['ap-flour','grams']) * 100)\n",
    "for index, row in poolish.iterrows():\n",
    "    final_dough.at[index,'grams'] = float(final_dough.at[index,'grams']) - float(row['grams'])\n",
    "final_dough['oz'] = final_dough.apply(lambda row: '{:,.1f}'.format(float(row['grams'])/grams_per_ounce), axis=1)\n",
    "final_dough = final_dough[['baker%', 'grams', 'oz']]\n",
    "print(\"final dough\")\n",
    "final_dough"
   ]
  }
 ],
 "metadata": {
  "kernelspec": {
   "display_name": "Python 3.7.7 64-bit",
   "language": "python",
   "name": "python37764bit09275135af05478cbb672cb0925ab778"
  },
  "language_info": {
   "codemirror_mode": {
    "name": "ipython",
    "version": 3
   },
   "file_extension": ".py",
   "mimetype": "text/x-python",
   "name": "python",
   "nbconvert_exporter": "python",
   "pygments_lexer": "ipython3",
   "version": "3.7.7-final"
  }
 },
 "nbformat": 4,
 "nbformat_minor": 2
}