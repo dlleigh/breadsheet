{
 "cells": [
  {
   "cell_type": "markdown",
   "metadata": {},
   "source": [
    "## Focaccia"
   ]
  },
  {
   "cell_type": "code",
   "execution_count": 103,
   "metadata": {
    "hide_input": false
   },
   "outputs": [],
   "source": [
    "import pandas as pd\n",
    "grams_per_ounce = 28.3495"
   ]
  },
  {
   "cell_type": "code",
   "execution_count": 104,
   "metadata": {},
   "outputs": [],
   "source": [
    "num_loaves = 1\n",
    "num_pounds = 0\n",
    "num_ounces = 0\n",
    "num_grams = 1170"
   ]
  },
  {
   "cell_type": "code",
   "execution_count": 105,
   "metadata": {},
   "outputs": [
    {
     "name": "stdout",
     "output_type": "stream",
     "text": [
      "1 loaves at 1,170 grams\n",
      "total weight: 1,170.00 grams\n"
     ]
    }
   ],
   "source": [
    "loaf_weight = (num_pounds * 16 + num_ounces) * grams_per_ounce + num_grams\n",
    "total_weight = (num_loaves * loaf_weight)\n",
    "print (\"{:,.0f} loaves at {:,.0f} grams\".\n",
    "       format(num_loaves, loaf_weight, num_pounds, num_ounces))\n",
    "print (\"total weight: {:,.2f} grams\".format(total_weight,total_weight * grams_per_ounce))"
   ]
  },
  {
   "cell_type": "code",
   "execution_count": 106,
   "metadata": {},
   "outputs": [
    {
     "name": "stdout",
     "output_type": "stream",
     "text": [
      "overall formula\n",
      "overall formula total = 189.75999999999996%\n"
     ]
    },
    {
     "data": {
      "text/html": [
       "<div>\n",
       "<style scoped>\n",
       "    .dataframe tbody tr th:only-of-type {\n",
       "        vertical-align: middle;\n",
       "    }\n",
       "\n",
       "    .dataframe tbody tr th {\n",
       "        vertical-align: top;\n",
       "    }\n",
       "\n",
       "    .dataframe thead th {\n",
       "        text-align: right;\n",
       "    }\n",
       "</style>\n",
       "<table border=\"1\" class=\"dataframe\">\n",
       "  <thead>\n",
       "    <tr style=\"text-align: right;\">\n",
       "      <th></th>\n",
       "      <th>baker%</th>\n",
       "    </tr>\n",
       "  </thead>\n",
       "  <tbody>\n",
       "    <tr>\n",
       "      <th>ap-flour</th>\n",
       "      <td>100.00</td>\n",
       "    </tr>\n",
       "    <tr>\n",
       "      <th>water</th>\n",
       "      <td>72.70</td>\n",
       "    </tr>\n",
       "    <tr>\n",
       "      <th>yeast</th>\n",
       "      <td>0.76</td>\n",
       "    </tr>\n",
       "    <tr>\n",
       "      <th>salt</th>\n",
       "      <td>2.20</td>\n",
       "    </tr>\n",
       "    <tr>\n",
       "      <th>olive oil</th>\n",
       "      <td>13.60</td>\n",
       "    </tr>\n",
       "    <tr>\n",
       "      <th>malt</th>\n",
       "      <td>0.50</td>\n",
       "    </tr>\n",
       "  </tbody>\n",
       "</table>\n",
       "</div>"
      ],
      "text/plain": [
       "           baker%\n",
       "ap-flour   100.00\n",
       "water       72.70\n",
       "yeast        0.76\n",
       "salt         2.20\n",
       "olive oil   13.60\n",
       "malt         0.50"
      ]
     },
     "execution_count": 106,
     "metadata": {},
     "output_type": "execute_result"
    }
   ],
   "source": [
    "formula = pd.DataFrame.from_dict({\n",
    "    \"ap-flour\": 100, \n",
    "    \"water\": 72.7, \n",
    "    \"yeast\": 0.76,\n",
    "    \"salt\": 2.2,\n",
    "    \"olive oil\": 13.6,\n",
    "    \"malt\": 0.5\n",
    "}, orient='index', columns=[\"baker%\"])\n",
    "print (\"overall formula\")\n",
    "formula_total = formula['baker%'].sum()\n",
    "print(\"overall formula total = %s%%\" % formula_total)\n",
    "formula"
   ]
  },
  {
   "cell_type": "code",
   "execution_count": 107,
   "metadata": {},
   "outputs": [
    {
     "name": "stdout",
     "output_type": "stream",
     "text": [
      "poolish\n",
      "poolish total = 200.1%\n"
     ]
    },
    {
     "data": {
      "text/html": [
       "<div>\n",
       "<style scoped>\n",
       "    .dataframe tbody tr th:only-of-type {\n",
       "        vertical-align: middle;\n",
       "    }\n",
       "\n",
       "    .dataframe tbody tr th {\n",
       "        vertical-align: top;\n",
       "    }\n",
       "\n",
       "    .dataframe thead th {\n",
       "        text-align: right;\n",
       "    }\n",
       "</style>\n",
       "<table border=\"1\" class=\"dataframe\">\n",
       "  <thead>\n",
       "    <tr style=\"text-align: right;\">\n",
       "      <th></th>\n",
       "      <th>baker%</th>\n",
       "    </tr>\n",
       "  </thead>\n",
       "  <tbody>\n",
       "    <tr>\n",
       "      <th>ap-flour</th>\n",
       "      <td>100.0</td>\n",
       "    </tr>\n",
       "    <tr>\n",
       "      <th>water</th>\n",
       "      <td>100.0</td>\n",
       "    </tr>\n",
       "    <tr>\n",
       "      <th>yeast</th>\n",
       "      <td>0.1</td>\n",
       "    </tr>\n",
       "  </tbody>\n",
       "</table>\n",
       "</div>"
      ],
      "text/plain": [
       "          baker%\n",
       "ap-flour   100.0\n",
       "water      100.0\n",
       "yeast        0.1"
      ]
     },
     "execution_count": 107,
     "metadata": {},
     "output_type": "execute_result"
    }
   ],
   "source": [
    "pre_ferment = .45\n",
    "poolish = pd.DataFrame.from_dict({\n",
    "    \"ap-flour\": 100,\n",
    "    \"water\": 100, \n",
    "    \"yeast\": 0.1\n",
    "}, orient='index', columns=[\"baker%\"])\n",
    "print (\"poolish\")\n",
    "poolish_total = poolish['baker%'].sum()\n",
    "print(\"poolish total = %s%%\" % poolish_total)\n",
    "poolish"
   ]
  },
  {
   "cell_type": "code",
   "execution_count": 108,
   "metadata": {},
   "outputs": [
    {
     "name": "stdout",
     "output_type": "stream",
     "text": [
      "poolish weight = 555 grams\n"
     ]
    },
    {
     "data": {
      "text/html": [
       "<div>\n",
       "<style scoped>\n",
       "    .dataframe tbody tr th:only-of-type {\n",
       "        vertical-align: middle;\n",
       "    }\n",
       "\n",
       "    .dataframe tbody tr th {\n",
       "        vertical-align: top;\n",
       "    }\n",
       "\n",
       "    .dataframe thead th {\n",
       "        text-align: right;\n",
       "    }\n",
       "</style>\n",
       "<table border=\"1\" class=\"dataframe\">\n",
       "  <thead>\n",
       "    <tr style=\"text-align: right;\">\n",
       "      <th></th>\n",
       "      <th>baker%</th>\n",
       "      <th>grams</th>\n",
       "      <th>oz</th>\n",
       "    </tr>\n",
       "  </thead>\n",
       "  <tbody>\n",
       "    <tr>\n",
       "      <th>ap-flour</th>\n",
       "      <td>100.0</td>\n",
       "      <td>277</td>\n",
       "      <td>9.8</td>\n",
       "    </tr>\n",
       "    <tr>\n",
       "      <th>water</th>\n",
       "      <td>100.0</td>\n",
       "      <td>277</td>\n",
       "      <td>9.8</td>\n",
       "    </tr>\n",
       "    <tr>\n",
       "      <th>yeast</th>\n",
       "      <td>0.1</td>\n",
       "      <td>0</td>\n",
       "      <td>0.0</td>\n",
       "    </tr>\n",
       "  </tbody>\n",
       "</table>\n",
       "</div>"
      ],
      "text/plain": [
       "          baker% grams   oz\n",
       "ap-flour   100.0   277  9.8\n",
       "water      100.0   277  9.8\n",
       "yeast        0.1     0  0.0"
      ]
     },
     "execution_count": 108,
     "metadata": {},
     "output_type": "execute_result"
    }
   ],
   "source": [
    "poolish_weight = total_weight * 100 / formula_total * pre_ferment * poolish_total/poolish.at['ap-flour','baker%']\n",
    "print (\"poolish weight = {:,.0f} grams\".format(poolish_weight))\n",
    "poolish['grams'] = poolish.apply(lambda row: '{:.0f}'.format(row['baker%']*poolish_weight/poolish_total), axis=1)\n",
    "poolish['oz'] = poolish.apply(lambda row: '{:.1f}'.format(float(row['grams']) / grams_per_ounce), axis=1)\n",
    "poolish = poolish[['baker%', 'grams', 'oz']]\n",
    "poolish"
   ]
  },
  {
   "cell_type": "code",
   "execution_count": 109,
   "metadata": {
    "hide_input": false
   },
   "outputs": [
    {
     "name": "stdout",
     "output_type": "stream",
     "text": [
      "final dough\n"
     ]
    },
    {
     "data": {
      "text/html": [
       "<div>\n",
       "<style scoped>\n",
       "    .dataframe tbody tr th:only-of-type {\n",
       "        vertical-align: middle;\n",
       "    }\n",
       "\n",
       "    .dataframe tbody tr th {\n",
       "        vertical-align: top;\n",
       "    }\n",
       "\n",
       "    .dataframe thead th {\n",
       "        text-align: right;\n",
       "    }\n",
       "</style>\n",
       "<table border=\"1\" class=\"dataframe\">\n",
       "  <thead>\n",
       "    <tr style=\"text-align: right;\">\n",
       "      <th></th>\n",
       "      <th>baker%</th>\n",
       "      <th>grams</th>\n",
       "      <th>oz</th>\n",
       "    </tr>\n",
       "  </thead>\n",
       "  <tbody>\n",
       "    <tr>\n",
       "      <th>ap-flour</th>\n",
       "      <td>100.00</td>\n",
       "      <td>340</td>\n",
       "      <td>12.0</td>\n",
       "    </tr>\n",
       "    <tr>\n",
       "      <th>water</th>\n",
       "      <td>72.70</td>\n",
       "      <td>171</td>\n",
       "      <td>6.0</td>\n",
       "    </tr>\n",
       "    <tr>\n",
       "      <th>yeast</th>\n",
       "      <td>0.76</td>\n",
       "      <td>5</td>\n",
       "      <td>0.2</td>\n",
       "    </tr>\n",
       "    <tr>\n",
       "      <th>salt</th>\n",
       "      <td>2.20</td>\n",
       "      <td>14</td>\n",
       "      <td>0.5</td>\n",
       "    </tr>\n",
       "    <tr>\n",
       "      <th>olive oil</th>\n",
       "      <td>13.60</td>\n",
       "      <td>84</td>\n",
       "      <td>3.0</td>\n",
       "    </tr>\n",
       "    <tr>\n",
       "      <th>malt</th>\n",
       "      <td>0.50</td>\n",
       "      <td>3</td>\n",
       "      <td>0.1</td>\n",
       "    </tr>\n",
       "    <tr>\n",
       "      <th>poolish</th>\n",
       "      <td>90.00</td>\n",
       "      <td>555</td>\n",
       "      <td>19.6</td>\n",
       "    </tr>\n",
       "  </tbody>\n",
       "</table>\n",
       "</div>"
      ],
      "text/plain": [
       "           baker% grams    oz\n",
       "ap-flour   100.00   340  12.0\n",
       "water       72.70   171   6.0\n",
       "yeast        0.76     5   0.2\n",
       "salt         2.20    14   0.5\n",
       "olive oil   13.60    84   3.0\n",
       "malt         0.50     3   0.1\n",
       "poolish     90.00   555  19.6"
      ]
     },
     "execution_count": 109,
     "metadata": {},
     "output_type": "execute_result"
    }
   ],
   "source": [
    "final_dough = formula\n",
    "final_dough['grams'] = final_dough.apply(lambda row: '{:.0f}'.format(row['baker%']*total_weight / formula_total), axis=1)\n",
    "final_dough.at['poolish','grams'] = '{:.0f}'.format(poolish_weight)\n",
    "final_dough.at['poolish','baker%'] = '{:.0f}'.format(poolish_weight / float(final_dough.at['ap-flour','grams']) * 100)\n",
    "for index, row in poolish.iterrows():\n",
    "    final_dough.at[index,'grams'] = float(final_dough.at[index,'grams']) - float(row['grams'])\n",
    "final_dough['oz'] = final_dough.apply(lambda row: '{:,.1f}'.format(float(row['grams'])/grams_per_ounce), axis=1)\n",
    "final_dough = final_dough[['baker%', 'grams', 'oz']]\n",
    "print(\"final dough\")\n",
    "final_dough"
   ]
  }
 ],
 "metadata": {
  "kernelspec": {
   "display_name": "Python 3",
   "language": "python",
   "name": "python3"
  },
  "language_info": {
   "codemirror_mode": {
    "name": "ipython",
    "version": 3
   },
   "file_extension": ".py",
   "mimetype": "text/x-python",
   "name": "python",
   "nbconvert_exporter": "python",
   "pygments_lexer": "ipython3",
   "version": "3.6.5"
  }
 },
 "nbformat": 4,
 "nbformat_minor": 2
}
